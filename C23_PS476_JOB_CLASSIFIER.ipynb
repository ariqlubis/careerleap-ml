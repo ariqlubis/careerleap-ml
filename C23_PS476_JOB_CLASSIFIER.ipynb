{
  "cells": [
    {
      "cell_type": "markdown",
      "metadata": {
        "id": "u2f8p6gIO13Y"
      },
      "source": [
        "# Import Library"
      ]
    },
    {
      "cell_type": "code",
      "execution_count": null,
      "metadata": {
        "id": "QhM4kGaOOww8"
      },
      "outputs": [],
      "source": [
        "import numpy as np\n",
        "import pandas as pd\n",
        "import seaborn as sns\n",
        "import matplotlib.pyplot as plt\n",
        "%matplotlib inline\n",
        "\n",
        "import re\n",
        "import tensorflow as tf\n",
        "import nltk\n",
        "from wordcloud import WordCloud"
      ]
    },
    {
      "cell_type": "code",
      "execution_count": null,
      "metadata": {
        "colab": {
          "base_uri": "https://localhost:8080/",
          "height": 424
        },
        "id": "WjZ6b9GsPBq9",
        "outputId": "47c3e5da-5039-41c3-ebf3-4e10f606440f"
      },
      "outputs": [
        {
          "output_type": "execute_result",
          "data": {
            "text/plain": [
              "         Category                                             Resume\n",
              "0    Data Science  Skills * Programming Languages: Python (pandas...\n",
              "1    Data Science  Education Details \\r\\nMay 2013 to May 2017 B.E...\n",
              "2    Data Science  Areas of Interest Deep Learning, Control Syste...\n",
              "3    Data Science  Skills â¢ R â¢ Python â¢ SAP HANA â¢ Table...\n",
              "4    Data Science  Education Details \\r\\n MCA   YMCAUST,  Faridab...\n",
              "..            ...                                                ...\n",
              "957       Testing  Computer Skills: â¢ Proficient in MS office (...\n",
              "958       Testing  â Willingness to accept the challenges. â ...\n",
              "959       Testing  PERSONAL SKILLS â¢ Quick learner, â¢ Eagerne...\n",
              "960       Testing  COMPUTER SKILLS & SOFTWARE KNOWLEDGE MS-Power ...\n",
              "961       Testing  Skill Set OS Windows XP/7/8/8.1/10 Database MY...\n",
              "\n",
              "[962 rows x 2 columns]"
            ],
            "text/html": [
              "\n",
              "  <div id=\"df-19352ecd-1745-48dd-a697-3ba0cfbf9939\">\n",
              "    <div class=\"colab-df-container\">\n",
              "      <div>\n",
              "<style scoped>\n",
              "    .dataframe tbody tr th:only-of-type {\n",
              "        vertical-align: middle;\n",
              "    }\n",
              "\n",
              "    .dataframe tbody tr th {\n",
              "        vertical-align: top;\n",
              "    }\n",
              "\n",
              "    .dataframe thead th {\n",
              "        text-align: right;\n",
              "    }\n",
              "</style>\n",
              "<table border=\"1\" class=\"dataframe\">\n",
              "  <thead>\n",
              "    <tr style=\"text-align: right;\">\n",
              "      <th></th>\n",
              "      <th>Category</th>\n",
              "      <th>Resume</th>\n",
              "    </tr>\n",
              "  </thead>\n",
              "  <tbody>\n",
              "    <tr>\n",
              "      <th>0</th>\n",
              "      <td>Data Science</td>\n",
              "      <td>Skills * Programming Languages: Python (pandas...</td>\n",
              "    </tr>\n",
              "    <tr>\n",
              "      <th>1</th>\n",
              "      <td>Data Science</td>\n",
              "      <td>Education Details \\r\\nMay 2013 to May 2017 B.E...</td>\n",
              "    </tr>\n",
              "    <tr>\n",
              "      <th>2</th>\n",
              "      <td>Data Science</td>\n",
              "      <td>Areas of Interest Deep Learning, Control Syste...</td>\n",
              "    </tr>\n",
              "    <tr>\n",
              "      <th>3</th>\n",
              "      <td>Data Science</td>\n",
              "      <td>Skills â¢ R â¢ Python â¢ SAP HANA â¢ Table...</td>\n",
              "    </tr>\n",
              "    <tr>\n",
              "      <th>4</th>\n",
              "      <td>Data Science</td>\n",
              "      <td>Education Details \\r\\n MCA   YMCAUST,  Faridab...</td>\n",
              "    </tr>\n",
              "    <tr>\n",
              "      <th>...</th>\n",
              "      <td>...</td>\n",
              "      <td>...</td>\n",
              "    </tr>\n",
              "    <tr>\n",
              "      <th>957</th>\n",
              "      <td>Testing</td>\n",
              "      <td>Computer Skills: â¢ Proficient in MS office (...</td>\n",
              "    </tr>\n",
              "    <tr>\n",
              "      <th>958</th>\n",
              "      <td>Testing</td>\n",
              "      <td>â Willingness to accept the challenges. â ...</td>\n",
              "    </tr>\n",
              "    <tr>\n",
              "      <th>959</th>\n",
              "      <td>Testing</td>\n",
              "      <td>PERSONAL SKILLS â¢ Quick learner, â¢ Eagerne...</td>\n",
              "    </tr>\n",
              "    <tr>\n",
              "      <th>960</th>\n",
              "      <td>Testing</td>\n",
              "      <td>COMPUTER SKILLS &amp; SOFTWARE KNOWLEDGE MS-Power ...</td>\n",
              "    </tr>\n",
              "    <tr>\n",
              "      <th>961</th>\n",
              "      <td>Testing</td>\n",
              "      <td>Skill Set OS Windows XP/7/8/8.1/10 Database MY...</td>\n",
              "    </tr>\n",
              "  </tbody>\n",
              "</table>\n",
              "<p>962 rows × 2 columns</p>\n",
              "</div>\n",
              "      <button class=\"colab-df-convert\" onclick=\"convertToInteractive('df-19352ecd-1745-48dd-a697-3ba0cfbf9939')\"\n",
              "              title=\"Convert this dataframe to an interactive table.\"\n",
              "              style=\"display:none;\">\n",
              "        \n",
              "  <svg xmlns=\"http://www.w3.org/2000/svg\" height=\"24px\"viewBox=\"0 0 24 24\"\n",
              "       width=\"24px\">\n",
              "    <path d=\"M0 0h24v24H0V0z\" fill=\"none\"/>\n",
              "    <path d=\"M18.56 5.44l.94 2.06.94-2.06 2.06-.94-2.06-.94-.94-2.06-.94 2.06-2.06.94zm-11 1L8.5 8.5l.94-2.06 2.06-.94-2.06-.94L8.5 2.5l-.94 2.06-2.06.94zm10 10l.94 2.06.94-2.06 2.06-.94-2.06-.94-.94-2.06-.94 2.06-2.06.94z\"/><path d=\"M17.41 7.96l-1.37-1.37c-.4-.4-.92-.59-1.43-.59-.52 0-1.04.2-1.43.59L10.3 9.45l-7.72 7.72c-.78.78-.78 2.05 0 2.83L4 21.41c.39.39.9.59 1.41.59.51 0 1.02-.2 1.41-.59l7.78-7.78 2.81-2.81c.8-.78.8-2.07 0-2.86zM5.41 20L4 18.59l7.72-7.72 1.47 1.35L5.41 20z\"/>\n",
              "  </svg>\n",
              "      </button>\n",
              "      \n",
              "  <style>\n",
              "    .colab-df-container {\n",
              "      display:flex;\n",
              "      flex-wrap:wrap;\n",
              "      gap: 12px;\n",
              "    }\n",
              "\n",
              "    .colab-df-convert {\n",
              "      background-color: #E8F0FE;\n",
              "      border: none;\n",
              "      border-radius: 50%;\n",
              "      cursor: pointer;\n",
              "      display: none;\n",
              "      fill: #1967D2;\n",
              "      height: 32px;\n",
              "      padding: 0 0 0 0;\n",
              "      width: 32px;\n",
              "    }\n",
              "\n",
              "    .colab-df-convert:hover {\n",
              "      background-color: #E2EBFA;\n",
              "      box-shadow: 0px 1px 2px rgba(60, 64, 67, 0.3), 0px 1px 3px 1px rgba(60, 64, 67, 0.15);\n",
              "      fill: #174EA6;\n",
              "    }\n",
              "\n",
              "    [theme=dark] .colab-df-convert {\n",
              "      background-color: #3B4455;\n",
              "      fill: #D2E3FC;\n",
              "    }\n",
              "\n",
              "    [theme=dark] .colab-df-convert:hover {\n",
              "      background-color: #434B5C;\n",
              "      box-shadow: 0px 1px 3px 1px rgba(0, 0, 0, 0.15);\n",
              "      filter: drop-shadow(0px 1px 2px rgba(0, 0, 0, 0.3));\n",
              "      fill: #FFFFFF;\n",
              "    }\n",
              "  </style>\n",
              "\n",
              "      <script>\n",
              "        const buttonEl =\n",
              "          document.querySelector('#df-19352ecd-1745-48dd-a697-3ba0cfbf9939 button.colab-df-convert');\n",
              "        buttonEl.style.display =\n",
              "          google.colab.kernel.accessAllowed ? 'block' : 'none';\n",
              "\n",
              "        async function convertToInteractive(key) {\n",
              "          const element = document.querySelector('#df-19352ecd-1745-48dd-a697-3ba0cfbf9939');\n",
              "          const dataTable =\n",
              "            await google.colab.kernel.invokeFunction('convertToInteractive',\n",
              "                                                     [key], {});\n",
              "          if (!dataTable) return;\n",
              "\n",
              "          const docLinkHtml = 'Like what you see? Visit the ' +\n",
              "            '<a target=\"_blank\" href=https://colab.research.google.com/notebooks/data_table.ipynb>data table notebook</a>'\n",
              "            + ' to learn more about interactive tables.';\n",
              "          element.innerHTML = '';\n",
              "          dataTable['output_type'] = 'display_data';\n",
              "          await google.colab.output.renderOutput(dataTable, element);\n",
              "          const docLink = document.createElement('div');\n",
              "          docLink.innerHTML = docLinkHtml;\n",
              "          element.appendChild(docLink);\n",
              "        }\n",
              "      </script>\n",
              "    </div>\n",
              "  </div>\n",
              "  "
            ]
          },
          "metadata": {},
          "execution_count": 2
        }
      ],
      "source": [
        "url = 'https://raw.githubusercontent.com/ariqlubis/careerleap-ml/main/UpdatedResumeDataSet.csv'\n",
        "df = pd.read_csv(url)\n",
        "df"
      ]
    },
    {
      "cell_type": "markdown",
      "metadata": {
        "id": "RgpgkpX1PKtS"
      },
      "source": [
        "# EDA"
      ]
    },
    {
      "cell_type": "code",
      "execution_count": null,
      "metadata": {
        "colab": {
          "base_uri": "https://localhost:8080/"
        },
        "id": "0trfcBCNyvBS",
        "outputId": "d4c7a4c4-e8c2-4d88-ac99-27494b27dd48"
      },
      "outputs": [
        {
          "output_type": "execute_result",
          "data": {
            "text/plain": [
              "Java Developer               84\n",
              "Testing                      70\n",
              "DevOps Engineer              55\n",
              "Python Developer             48\n",
              "Web Designing                45\n",
              "HR                           44\n",
              "Hadoop                       42\n",
              "Blockchain                   40\n",
              "ETL Developer                40\n",
              "Operations Manager           40\n",
              "Data Science                 40\n",
              "Sales                        40\n",
              "Mechanical Engineer          40\n",
              "Arts                         36\n",
              "Database                     33\n",
              "Electrical Engineering       30\n",
              "Health and fitness           30\n",
              "PMO                          30\n",
              "Business Analyst             28\n",
              "DotNet Developer             28\n",
              "Automation Testing           26\n",
              "Network Security Engineer    25\n",
              "SAP Developer                24\n",
              "Civil Engineer               24\n",
              "Advocate                     20\n",
              "Name: Category, dtype: int64"
            ]
          },
          "metadata": {},
          "execution_count": 3
        }
      ],
      "source": [
        "df['Category'].value_counts()"
      ]
    },
    {
      "cell_type": "code",
      "execution_count": null,
      "metadata": {
        "colab": {
          "base_uri": "https://localhost:8080/",
          "height": 449
        },
        "id": "NHa0HKArkDVj",
        "outputId": "0c039290-59af-4bec-b62d-0b11889b6991"
      },
      "outputs": [
        {
          "output_type": "display_data",
          "data": {
            "text/plain": [
              "<Figure size 640x480 with 1 Axes>"
            ],
            "image/png": "[encoded data removed]"
          },
          "metadata": {}
        }
      ],
      "source": [
        "sns.countplot(y=\"Category\", data=df);"
      ]
    },
    {
      "cell_type": "code",
      "execution_count": null,
      "metadata": {
        "id": "Gnlbs0ReF9md"
      },
      "outputs": [],
      "source": [
        "job = ['Data Science', 'Web Designing', 'Java Developer', 'Business Analyst', 'Operations Manager', 'DevOps Engineer']"
      ]
    },
    {
      "cell_type": "code",
      "execution_count": null,
      "metadata": {
        "id": "qpaGpwmePC8N"
      },
      "outputs": [],
      "source": [
        "df = df[df['Category'].isin(job)]"
      ]
    },
    {
      "cell_type": "code",
      "execution_count": null,
      "metadata": {
        "colab": {
          "base_uri": "https://localhost:8080/",
          "height": 449
        },
        "id": "HQExkYBXPPvu",
        "outputId": "062965c6-3e58-4f83-adf4-91ee07083c32"
      },
      "outputs": [
        {
          "output_type": "display_data",
          "data": {
            "text/plain": [
              "<Figure size 640x480 with 1 Axes>"
            ],
            "image/png": "[encoded data removed]"
          },
          "metadata": {}
        }
      ],
      "source": [
        "sns.countplot(y=\"Category\", data=df);"
      ]
    },
    {
      "cell_type": "markdown",
      "metadata": {
        "id": "sRje1QPEPWg_"
      },
      "source": [
        "# Data Cleaning"
      ]
    },
    {
      "cell_type": "code",
      "execution_count": null,
      "metadata": {
        "id": "rrUR16WDPRMu"
      },
      "outputs": [],
      "source": [
        "# clean the data\n",
        "def clean_data(data):\n",
        "    data = data.lower()\n",
        "    # Remove URLs\n",
        "    data = re.sub('http\\S+\\s*', ' ', data)\n",
        "    # Remove RT and cc\n",
        "    data = re.sub('RT|cc', ' ', data)\n",
        "    # Remove hashtags\n",
        "    data = re.sub('#\\S+', '', data)\n",
        "    # Remove mentions\n",
        "    data = re.sub('@\\S+', ' ', data)\n",
        "    # Remove punctuations and non-ASCII characters\n",
        "    data = re.sub('[^a-zA-Z]', ' ', data)\n",
        "    # Remove extra whitespace\n",
        "    data = re.sub('\\s+', ' ', data)\n",
        "\n",
        "    return data"
      ]
    },
    {
      "cell_type": "code",
      "execution_count": null,
      "metadata": {
        "colab": {
          "base_uri": "https://localhost:8080/",
          "height": 534
        },
        "id": "WH-ZQcQNPY08",
        "outputId": "76bf9db3-f2fa-4d57-a164-dde6f5b49430"
      },
      "outputs": [
        {
          "output_type": "stream",
          "name": "stderr",
          "text": [
            "<ipython-input-9-81c6ba26204f>:1: SettingWithCopyWarning: \n",
            "A value is trying to be set on a copy of a slice from a DataFrame.\n",
            "Try using .loc[row_indexer,col_indexer] = value instead\n",
            "\n",
            "See the caveats in the documentation: https://pandas.pydata.org/pandas-docs/stable/user_guide/indexing.html#returning-a-view-versus-a-copy\n",
            "  df['Resume'] = df['Resume'].apply(clean_data)\n"
          ]
        },
        {
          "output_type": "execute_result",
          "data": {
            "text/plain": [
              "            Category                                             Resume\n",
              "0       Data Science  skills programming languages python pandas num...\n",
              "1       Data Science  education details may to may b e uit rgpv data...\n",
              "2       Data Science  areas of interest deep learning control system...\n",
              "3       Data Science  skills r python sap hana tableau sap hana sql ...\n",
              "4       Data Science  education details mca ymcaust faridabad haryan...\n",
              "..               ...                                                ...\n",
              "649  DevOps Engineer  software proficiency languages basics of c sql...\n",
              "650  DevOps Engineer  core competencies ant maven git bitbucket jenk...\n",
              "651  DevOps Engineer  skills visa b visa usa onsite visits to sweden...\n",
              "652  DevOps Engineer  software proficiency languages basics of c sql...\n",
              "653  DevOps Engineer  core competencies ant maven git bitbucket jenk...\n",
              "\n",
              "[292 rows x 2 columns]"
            ],
            "text/html": [
              "\n",
              "  <div id=\"df-d344dd5f-3574-4f09-9f05-afaf881620c4\">\n",
              "    <div class=\"colab-df-container\">\n",
              "      <div>\n",
              "<style scoped>\n",
              "    .dataframe tbody tr th:only-of-type {\n",
              "        vertical-align: middle;\n",
              "    }\n",
              "\n",
              "    .dataframe tbody tr th {\n",
              "        vertical-align: top;\n",
              "    }\n",
              "\n",
              "    .dataframe thead th {\n",
              "        text-align: right;\n",
              "    }\n",
              "</style>\n",
              "<table border=\"1\" class=\"dataframe\">\n",
              "  <thead>\n",
              "    <tr style=\"text-align: right;\">\n",
              "      <th></th>\n",
              "      <th>Category</th>\n",
              "      <th>Resume</th>\n",
              "    </tr>\n",
              "  </thead>\n",
              "  <tbody>\n",
              "    <tr>\n",
              "      <th>0</th>\n",
              "      <td>Data Science</td>\n",
              "      <td>skills programming languages python pandas num...</td>\n",
              "    </tr>\n",
              "    <tr>\n",
              "      <th>1</th>\n",
              "      <td>Data Science</td>\n",
              "      <td>education details may to may b e uit rgpv data...</td>\n",
              "    </tr>\n",
              "    <tr>\n",
              "      <th>2</th>\n",
              "      <td>Data Science</td>\n",
              "      <td>areas of interest deep learning control system...</td>\n",
              "    </tr>\n",
              "    <tr>\n",
              "      <th>3</th>\n",
              "      <td>Data Science</td>\n",
              "      <td>skills r python sap hana tableau sap hana sql ...</td>\n",
              "    </tr>\n",
              "    <tr>\n",
              "      <th>4</th>\n",
              "      <td>Data Science</td>\n",
              "      <td>education details mca ymcaust faridabad haryan...</td>\n",
              "    </tr>\n",
              "    <tr>\n",
              "      <th>...</th>\n",
              "      <td>...</td>\n",
              "      <td>...</td>\n",
              "    </tr>\n",
              "    <tr>\n",
              "      <th>649</th>\n",
              "      <td>DevOps Engineer</td>\n",
              "      <td>software proficiency languages basics of c sql...</td>\n",
              "    </tr>\n",
              "    <tr>\n",
              "      <th>650</th>\n",
              "      <td>DevOps Engineer</td>\n",
              "      <td>core competencies ant maven git bitbucket jenk...</td>\n",
              "    </tr>\n",
              "    <tr>\n",
              "      <th>651</th>\n",
              "      <td>DevOps Engineer</td>\n",
              "      <td>skills visa b visa usa onsite visits to sweden...</td>\n",
              "    </tr>\n",
              "    <tr>\n",
              "      <th>652</th>\n",
              "      <td>DevOps Engineer</td>\n",
              "      <td>software proficiency languages basics of c sql...</td>\n",
              "    </tr>\n",
              "    <tr>\n",
              "      <th>653</th>\n",
              "      <td>DevOps Engineer</td>\n",
              "      <td>core competencies ant maven git bitbucket jenk...</td>\n",
              "    </tr>\n",
              "  </tbody>\n",
              "</table>\n",
              "<p>292 rows × 2 columns</p>\n",
              "</div>\n",
              "      <button class=\"colab-df-convert\" onclick=\"convertToInteractive('df-d344dd5f-3574-4f09-9f05-afaf881620c4')\"\n",
              "              title=\"Convert this dataframe to an interactive table.\"\n",
              "              style=\"display:none;\">\n",
              "        \n",
              "  <svg xmlns=\"http://www.w3.org/2000/svg\" height=\"24px\"viewBox=\"0 0 24 24\"\n",
              "       width=\"24px\">\n",
              "    <path d=\"M0 0h24v24H0V0z\" fill=\"none\"/>\n",
              "    <path d=\"M18.56 5.44l.94 2.06.94-2.06 2.06-.94-2.06-.94-.94-2.06-.94 2.06-2.06.94zm-11 1L8.5 8.5l.94-2.06 2.06-.94-2.06-.94L8.5 2.5l-.94 2.06-2.06.94zm10 10l.94 2.06.94-2.06 2.06-.94-2.06-.94-.94-2.06-.94 2.06-2.06.94z\"/><path d=\"M17.41 7.96l-1.37-1.37c-.4-.4-.92-.59-1.43-.59-.52 0-1.04.2-1.43.59L10.3 9.45l-7.72 7.72c-.78.78-.78 2.05 0 2.83L4 21.41c.39.39.9.59 1.41.59.51 0 1.02-.2 1.41-.59l7.78-7.78 2.81-2.81c.8-.78.8-2.07 0-2.86zM5.41 20L4 18.59l7.72-7.72 1.47 1.35L5.41 20z\"/>\n",
              "  </svg>\n",
              "      </button>\n",
              "      \n",
              "  <style>\n",
              "    .colab-df-container {\n",
              "      display:flex;\n",
              "      flex-wrap:wrap;\n",
              "      gap: 12px;\n",
              "    }\n",
              "\n",
              "    .colab-df-convert {\n",
              "      background-color: #E8F0FE;\n",
              "      border: none;\n",
              "      border-radius: 50%;\n",
              "      cursor: pointer;\n",
              "      display: none;\n",
              "      fill: #1967D2;\n",
              "      height: 32px;\n",
              "      padding: 0 0 0 0;\n",
              "      width: 32px;\n",
              "    }\n",
              "\n",
              "    .colab-df-convert:hover {\n",
              "      background-color: #E2EBFA;\n",
              "      box-shadow: 0px 1px 2px rgba(60, 64, 67, 0.3), 0px 1px 3px 1px rgba(60, 64, 67, 0.15);\n",
              "      fill: #174EA6;\n",
              "    }\n",
              "\n",
              "    [theme=dark] .colab-df-convert {\n",
              "      background-color: #3B4455;\n",
              "      fill: #D2E3FC;\n",
              "    }\n",
              "\n",
              "    [theme=dark] .colab-df-convert:hover {\n",
              "      background-color: #434B5C;\n",
              "      box-shadow: 0px 1px 3px 1px rgba(0, 0, 0, 0.15);\n",
              "      filter: drop-shadow(0px 1px 2px rgba(0, 0, 0, 0.3));\n",
              "      fill: #FFFFFF;\n",
              "    }\n",
              "  </style>\n",
              "\n",
              "      <script>\n",
              "        const buttonEl =\n",
              "          document.querySelector('#df-d344dd5f-3574-4f09-9f05-afaf881620c4 button.colab-df-convert');\n",
              "        buttonEl.style.display =\n",
              "          google.colab.kernel.accessAllowed ? 'block' : 'none';\n",
              "\n",
              "        async function convertToInteractive(key) {\n",
              "          const element = document.querySelector('#df-d344dd5f-3574-4f09-9f05-afaf881620c4');\n",
              "          const dataTable =\n",
              "            await google.colab.kernel.invokeFunction('convertToInteractive',\n",
              "                                                     [key], {});\n",
              "          if (!dataTable) return;\n",
              "\n",
              "          const docLinkHtml = 'Like what you see? Visit the ' +\n",
              "            '<a target=\"_blank\" href=https://colab.research.google.com/notebooks/data_table.ipynb>data table notebook</a>'\n",
              "            + ' to learn more about interactive tables.';\n",
              "          element.innerHTML = '';\n",
              "          dataTable['output_type'] = 'display_data';\n",
              "          await google.colab.output.renderOutput(dataTable, element);\n",
              "          const docLink = document.createElement('div');\n",
              "          docLink.innerHTML = docLinkHtml;\n",
              "          element.appendChild(docLink);\n",
              "        }\n",
              "      </script>\n",
              "    </div>\n",
              "  </div>\n",
              "  "
            ]
          },
          "metadata": {},
          "execution_count": 9
        }
      ],
      "source": [
        "df['Resume'] = df['Resume'].apply(clean_data)\n",
        "df"
      ]
    },
    {
      "cell_type": "code",
      "execution_count": null,
      "metadata": {
        "colab": {
          "base_uri": "https://localhost:8080/",
          "height": 534
        },
        "id": "nLROO-iKPaXk",
        "outputId": "69fd43cb-dcce-4d6a-a3f1-195c83599add"
      },
      "outputs": [
        {
          "output_type": "stream",
          "name": "stderr",
          "text": [
            "<ipython-input-10-43d02715f04c>:5: SettingWithCopyWarning: \n",
            "A value is trying to be set on a copy of a slice from a DataFrame.\n",
            "Try using .loc[row_indexer,col_indexer] = value instead\n",
            "\n",
            "See the caveats in the documentation: https://pandas.pydata.org/pandas-docs/stable/user_guide/indexing.html#returning-a-view-versus-a-copy\n",
            "  df['resume_split'] = df['Resume'].apply(lambda x: tokenize(x))\n"
          ]
        },
        {
          "output_type": "execute_result",
          "data": {
            "text/plain": [
              "            Category                                             Resume  \\\n",
              "0       Data Science  skills programming languages python pandas num...   \n",
              "1       Data Science  education details may to may b e uit rgpv data...   \n",
              "2       Data Science  areas of interest deep learning control system...   \n",
              "3       Data Science  skills r python sap hana tableau sap hana sql ...   \n",
              "4       Data Science  education details mca ymcaust faridabad haryan...   \n",
              "..               ...                                                ...   \n",
              "649  DevOps Engineer  software proficiency languages basics of c sql...   \n",
              "650  DevOps Engineer  core competencies ant maven git bitbucket jenk...   \n",
              "651  DevOps Engineer  skills visa b visa usa onsite visits to sweden...   \n",
              "652  DevOps Engineer  software proficiency languages basics of c sql...   \n",
              "653  DevOps Engineer  core competencies ant maven git bitbucket jenk...   \n",
              "\n",
              "                                          resume_split  \n",
              "0    [skills, programming, languages, python, panda...  \n",
              "1    [education, details, may, to, may, b, e, uit, ...  \n",
              "2    [areas, of, interest, deep, learning, control,...  \n",
              "3    [skills, r, python, sap, hana, tableau, sap, h...  \n",
              "4    [education, details, mca, ymcaust, faridabad, ...  \n",
              "..                                                 ...  \n",
              "649  [software, proficiency, languages, basics, of,...  \n",
              "650  [core, competencies, ant, maven, git, bitbucke...  \n",
              "651  [skills, visa, b, visa, usa, onsite, visits, t...  \n",
              "652  [software, proficiency, languages, basics, of,...  \n",
              "653  [core, competencies, ant, maven, git, bitbucke...  \n",
              "\n",
              "[292 rows x 3 columns]"
            ],
            "text/html": [
              "\n",
              "  <div id=\"df-f994f68f-8b57-4e6e-9f11-61ba7c04aeee\">\n",
              "    <div class=\"colab-df-container\">\n",
              "      <div>\n",
              "<style scoped>\n",
              "    .dataframe tbody tr th:only-of-type {\n",
              "        vertical-align: middle;\n",
              "    }\n",
              "\n",
              "    .dataframe tbody tr th {\n",
              "        vertical-align: top;\n",
              "    }\n",
              "\n",
              "    .dataframe thead th {\n",
              "        text-align: right;\n",
              "    }\n",
              "</style>\n",
              "<table border=\"1\" class=\"dataframe\">\n",
              "  <thead>\n",
              "    <tr style=\"text-align: right;\">\n",
              "      <th></th>\n",
              "      <th>Category</th>\n",
              "      <th>Resume</th>\n",
              "      <th>resume_split</th>\n",
              "    </tr>\n",
              "  </thead>\n",
              "  <tbody>\n",
              "    <tr>\n",
              "      <th>0</th>\n",
              "      <td>Data Science</td>\n",
              "      <td>skills programming languages python pandas num...</td>\n",
              "      <td>[skills, programming, languages, python, panda...</td>\n",
              "    </tr>\n",
              "    <tr>\n",
              "      <th>1</th>\n",
              "      <td>Data Science</td>\n",
              "      <td>education details may to may b e uit rgpv data...</td>\n",
              "      <td>[education, details, may, to, may, b, e, uit, ...</td>\n",
              "    </tr>\n",
              "    <tr>\n",
              "      <th>2</th>\n",
              "      <td>Data Science</td>\n",
              "      <td>areas of interest deep learning control system...</td>\n",
              "      <td>[areas, of, interest, deep, learning, control,...</td>\n",
              "    </tr>\n",
              "    <tr>\n",
              "      <th>3</th>\n",
              "      <td>Data Science</td>\n",
              "      <td>skills r python sap hana tableau sap hana sql ...</td>\n",
              "      <td>[skills, r, python, sap, hana, tableau, sap, h...</td>\n",
              "    </tr>\n",
              "    <tr>\n",
              "      <th>4</th>\n",
              "      <td>Data Science</td>\n",
              "      <td>education details mca ymcaust faridabad haryan...</td>\n",
              "      <td>[education, details, mca, ymcaust, faridabad, ...</td>\n",
              "    </tr>\n",
              "    <tr>\n",
              "      <th>...</th>\n",
              "      <td>...</td>\n",
              "      <td>...</td>\n",
              "      <td>...</td>\n",
              "    </tr>\n",
              "    <tr>\n",
              "      <th>649</th>\n",
              "      <td>DevOps Engineer</td>\n",
              "      <td>software proficiency languages basics of c sql...</td>\n",
              "      <td>[software, proficiency, languages, basics, of,...</td>\n",
              "    </tr>\n",
              "    <tr>\n",
              "      <th>650</th>\n",
              "      <td>DevOps Engineer</td>\n",
              "      <td>core competencies ant maven git bitbucket jenk...</td>\n",
              "      <td>[core, competencies, ant, maven, git, bitbucke...</td>\n",
              "    </tr>\n",
              "    <tr>\n",
              "      <th>651</th>\n",
              "      <td>DevOps Engineer</td>\n",
              "      <td>skills visa b visa usa onsite visits to sweden...</td>\n",
              "      <td>[skills, visa, b, visa, usa, onsite, visits, t...</td>\n",
              "    </tr>\n",
              "    <tr>\n",
              "      <th>652</th>\n",
              "      <td>DevOps Engineer</td>\n",
              "      <td>software proficiency languages basics of c sql...</td>\n",
              "      <td>[software, proficiency, languages, basics, of,...</td>\n",
              "    </tr>\n",
              "    <tr>\n",
              "      <th>653</th>\n",
              "      <td>DevOps Engineer</td>\n",
              "      <td>core competencies ant maven git bitbucket jenk...</td>\n",
              "      <td>[core, competencies, ant, maven, git, bitbucke...</td>\n",
              "    </tr>\n",
              "  </tbody>\n",
              "</table>\n",
              "<p>292 rows × 3 columns</p>\n",
              "</div>\n",
              "      <button class=\"colab-df-convert\" onclick=\"convertToInteractive('df-f994f68f-8b57-4e6e-9f11-61ba7c04aeee')\"\n",
              "              title=\"Convert this dataframe to an interactive table.\"\n",
              "              style=\"display:none;\">\n",
              "        \n",
              "  <svg xmlns=\"http://www.w3.org/2000/svg\" height=\"24px\"viewBox=\"0 0 24 24\"\n",
              "       width=\"24px\">\n",
              "    <path d=\"M0 0h24v24H0V0z\" fill=\"none\"/>\n",
              "    <path d=\"M18.56 5.44l.94 2.06.94-2.06 2.06-.94-2.06-.94-.94-2.06-.94 2.06-2.06.94zm-11 1L8.5 8.5l.94-2.06 2.06-.94-2.06-.94L8.5 2.5l-.94 2.06-2.06.94zm10 10l.94 2.06.94-2.06 2.06-.94-2.06-.94-.94-2.06-.94 2.06-2.06.94z\"/><path d=\"M17.41 7.96l-1.37-1.37c-.4-.4-.92-.59-1.43-.59-.52 0-1.04.2-1.43.59L10.3 9.45l-7.72 7.72c-.78.78-.78 2.05 0 2.83L4 21.41c.39.39.9.59 1.41.59.51 0 1.02-.2 1.41-.59l7.78-7.78 2.81-2.81c.8-.78.8-2.07 0-2.86zM5.41 20L4 18.59l7.72-7.72 1.47 1.35L5.41 20z\"/>\n",
              "  </svg>\n",
              "      </button>\n",
              "      \n",
              "  <style>\n",
              "    .colab-df-container {\n",
              "      display:flex;\n",
              "      flex-wrap:wrap;\n",
              "      gap: 12px;\n",
              "    }\n",
              "\n",
              "    .colab-df-convert {\n",
              "      background-color: #E8F0FE;\n",
              "      border: none;\n",
              "      border-radius: 50%;\n",
              "      cursor: pointer;\n",
              "      display: none;\n",
              "      fill: #1967D2;\n",
              "      height: 32px;\n",
              "      padding: 0 0 0 0;\n",
              "      width: 32px;\n",
              "    }\n",
              "\n",
              "    .colab-df-convert:hover {\n",
              "      background-color: #E2EBFA;\n",
              "      box-shadow: 0px 1px 2px rgba(60, 64, 67, 0.3), 0px 1px 3px 1px rgba(60, 64, 67, 0.15);\n",
              "      fill: #174EA6;\n",
              "    }\n",
              "\n",
              "    [theme=dark] .colab-df-convert {\n",
              "      background-color: #3B4455;\n",
              "      fill: #D2E3FC;\n",
              "    }\n",
              "\n",
              "    [theme=dark] .colab-df-convert:hover {\n",
              "      background-color: #434B5C;\n",
              "      box-shadow: 0px 1px 3px 1px rgba(0, 0, 0, 0.15);\n",
              "      filter: drop-shadow(0px 1px 2px rgba(0, 0, 0, 0.3));\n",
              "      fill: #FFFFFF;\n",
              "    }\n",
              "  </style>\n",
              "\n",
              "      <script>\n",
              "        const buttonEl =\n",
              "          document.querySelector('#df-f994f68f-8b57-4e6e-9f11-61ba7c04aeee button.colab-df-convert');\n",
              "        buttonEl.style.display =\n",
              "          google.colab.kernel.accessAllowed ? 'block' : 'none';\n",
              "\n",
              "        async function convertToInteractive(key) {\n",
              "          const element = document.querySelector('#df-f994f68f-8b57-4e6e-9f11-61ba7c04aeee');\n",
              "          const dataTable =\n",
              "            await google.colab.kernel.invokeFunction('convertToInteractive',\n",
              "                                                     [key], {});\n",
              "          if (!dataTable) return;\n",
              "\n",
              "          const docLinkHtml = 'Like what you see? Visit the ' +\n",
              "            '<a target=\"_blank\" href=https://colab.research.google.com/notebooks/data_table.ipynb>data table notebook</a>'\n",
              "            + ' to learn more about interactive tables.';\n",
              "          element.innerHTML = '';\n",
              "          dataTable['output_type'] = 'display_data';\n",
              "          await google.colab.output.renderOutput(dataTable, element);\n",
              "          const docLink = document.createElement('div');\n",
              "          docLink.innerHTML = docLinkHtml;\n",
              "          element.appendChild(docLink);\n",
              "        }\n",
              "      </script>\n",
              "    </div>\n",
              "  </div>\n",
              "  "
            ]
          },
          "metadata": {},
          "execution_count": 10
        }
      ],
      "source": [
        "def tokenize(text):\n",
        "    words = re.split(\"\\W+\", text)\n",
        "    return words\n",
        "\n",
        "df['resume_split'] = df['Resume'].apply(lambda x: tokenize(x))\n",
        "df"
      ]
    },
    {
      "cell_type": "code",
      "execution_count": null,
      "metadata": {
        "colab": {
          "base_uri": "https://localhost:8080/"
        },
        "id": "x26NYnh0PlA-",
        "outputId": "ee426784-7548-47c0-861f-332d499ecc84"
      },
      "outputs": [
        {
          "output_type": "stream",
          "name": "stderr",
          "text": [
            "[nltk_data] Downloading package stopwords to /root/nltk_data...\n",
            "[nltk_data]   Unzipping corpora/stopwords.zip.\n",
            "[nltk_data] Downloading package wordnet to /root/nltk_data...\n"
          ]
        },
        {
          "output_type": "execute_result",
          "data": {
            "text/plain": [
              "True"
            ]
          },
          "metadata": {},
          "execution_count": 11
        }
      ],
      "source": [
        "nltk.download('stopwords')\n",
        "nltk.download('wordnet')"
      ]
    },
    {
      "cell_type": "code",
      "execution_count": null,
      "metadata": {
        "id": "kgpM5TruPqhT"
      },
      "outputs": [],
      "source": [
        "stopword = nltk.corpus.stopwords.words('english')\n",
        "list_stopword = ['skills', 'education', 'windows', 'set', 'may', 'january', 'february',\n",
        "               'march', 'april', 'june', 'july', 'august', 'september', 'october', 'november',\n",
        "               'december', 'ymcaust', 'fariabad', 'b', 'e', 'uit', 'us', 'other', 'others',\n",
        "                 'personal', 'languages', 'su', 'o', 'project', 'exprience', 'company', 'month', 'team', 'detail', 'description', 'system', 'application', 'technology', 'year', 'le', 'ltd', 'university',\n",
        "                           'j', 'ge', 'like', 'also', 'timely', 'per', 'new', 'daily', 'etc', 'size', 'level', 'experience', 'mumbai', 'ee', 'pre', 'text', 'co', 'till',\n",
        "                           'mi', 'essfully', 'es', 'uat', 'discus', 'v', 'ci', 'no', 'bachelor', 'k', 'v', 'o', 'sla', 'po', 'hmi', 'dubai', 'h', 'pl', 'nashik', 'capgemini', 'aug',\n",
        "                           'jan', 'feb', 'whenever', 'n', 'xen', 'l', 'u']\n",
        "\n",
        "stopword.extend(list_stopword)\n",
        "\n",
        "\n",
        "def remove_stopwords(text):\n",
        "  text = [word for word in text if word not in stopword]\n",
        "  return text"
      ]
    },
    {
      "cell_type": "code",
      "execution_count": null,
      "metadata": {
        "colab": {
          "base_uri": "https://localhost:8080/",
          "height": 534
        },
        "id": "VLzCeuRBPs_g",
        "outputId": "dffe24c5-5205-4465-aeec-5ea81f9baeb8"
      },
      "outputs": [
        {
          "output_type": "stream",
          "name": "stderr",
          "text": [
            "<ipython-input-13-3e2f305fd607>:1: SettingWithCopyWarning: \n",
            "A value is trying to be set on a copy of a slice from a DataFrame.\n",
            "Try using .loc[row_indexer,col_indexer] = value instead\n",
            "\n",
            "See the caveats in the documentation: https://pandas.pydata.org/pandas-docs/stable/user_guide/indexing.html#returning-a-view-versus-a-copy\n",
            "  df['resume_split_stopword'] = df['resume_split'].apply(lambda x: remove_stopwords(x))\n"
          ]
        },
        {
          "output_type": "execute_result",
          "data": {
            "text/plain": [
              "            Category                                             Resume  \\\n",
              "0       Data Science  skills programming languages python pandas num...   \n",
              "1       Data Science  education details may to may b e uit rgpv data...   \n",
              "2       Data Science  areas of interest deep learning control system...   \n",
              "3       Data Science  skills r python sap hana tableau sap hana sql ...   \n",
              "4       Data Science  education details mca ymcaust faridabad haryan...   \n",
              "..               ...                                                ...   \n",
              "649  DevOps Engineer  software proficiency languages basics of c sql...   \n",
              "650  DevOps Engineer  core competencies ant maven git bitbucket jenk...   \n",
              "651  DevOps Engineer  skills visa b visa usa onsite visits to sweden...   \n",
              "652  DevOps Engineer  software proficiency languages basics of c sql...   \n",
              "653  DevOps Engineer  core competencies ant maven git bitbucket jenk...   \n",
              "\n",
              "                                          resume_split  \\\n",
              "0    [skills, programming, languages, python, panda...   \n",
              "1    [education, details, may, to, may, b, e, uit, ...   \n",
              "2    [areas, of, interest, deep, learning, control,...   \n",
              "3    [skills, r, python, sap, hana, tableau, sap, h...   \n",
              "4    [education, details, mca, ymcaust, faridabad, ...   \n",
              "..                                                 ...   \n",
              "649  [software, proficiency, languages, basics, of,...   \n",
              "650  [core, competencies, ant, maven, git, bitbucke...   \n",
              "651  [skills, visa, b, visa, usa, onsite, visits, t...   \n",
              "652  [software, proficiency, languages, basics, of,...   \n",
              "653  [core, competencies, ant, maven, git, bitbucke...   \n",
              "\n",
              "                                 resume_split_stopword  \n",
              "0    [programming, python, pandas, numpy, scipy, sc...  \n",
              "1    [details, rgpv, data, scientist, data, scienti...  \n",
              "2    [areas, interest, deep, learning, control, des...  \n",
              "3    [r, python, sap, hana, tableau, sap, hana, sql...  \n",
              "4    [details, mca, faridabad, haryana, data, scien...  \n",
              "..                                                 ...  \n",
              "649  [software, proficiency, basics, c, sql, sql, j...  \n",
              "650  [core, competencies, ant, maven, git, bitbucke...  \n",
              "651  [visa, visa, usa, onsite, visits, sweden, seat...  \n",
              "652  [software, proficiency, basics, c, sql, sql, j...  \n",
              "653  [core, competencies, ant, maven, git, bitbucke...  \n",
              "\n",
              "[292 rows x 4 columns]"
            ],
            "text/html": [
              "\n",
              "  <div id=\"df-a2a27a42-6712-4880-b2d2-67b0b80f416e\">\n",
              "    <div class=\"colab-df-container\">\n",
              "      <div>\n",
              "<style scoped>\n",
              "    .dataframe tbody tr th:only-of-type {\n",
              "        vertical-align: middle;\n",
              "    }\n",
              "\n",
              "    .dataframe tbody tr th {\n",
              "        vertical-align: top;\n",
              "    }\n",
              "\n",
              "    .dataframe thead th {\n",
              "        text-align: right;\n",
              "    }\n",
              "</style>\n",
              "<table border=\"1\" class=\"dataframe\">\n",
              "  <thead>\n",
              "    <tr style=\"text-align: right;\">\n",
              "      <th></th>\n",
              "      <th>Category</th>\n",
              "      <th>Resume</th>\n",
              "      <th>resume_split</th>\n",
              "      <th>resume_split_stopword</th>\n",
              "    </tr>\n",
              "  </thead>\n",
              "  <tbody>\n",
              "    <tr>\n",
              "      <th>0</th>\n",
              "      <td>Data Science</td>\n",
              "      <td>skills programming languages python pandas num...</td>\n",
              "      <td>[skills, programming, languages, python, panda...</td>\n",
              "      <td>[programming, python, pandas, numpy, scipy, sc...</td>\n",
              "    </tr>\n",
              "    <tr>\n",
              "      <th>1</th>\n",
              "      <td>Data Science</td>\n",
              "      <td>education details may to may b e uit rgpv data...</td>\n",
              "      <td>[education, details, may, to, may, b, e, uit, ...</td>\n",
              "      <td>[details, rgpv, data, scientist, data, scienti...</td>\n",
              "    </tr>\n",
              "    <tr>\n",
              "      <th>2</th>\n",
              "      <td>Data Science</td>\n",
              "      <td>areas of interest deep learning control system...</td>\n",
              "      <td>[areas, of, interest, deep, learning, control,...</td>\n",
              "      <td>[areas, interest, deep, learning, control, des...</td>\n",
              "    </tr>\n",
              "    <tr>\n",
              "      <th>3</th>\n",
              "      <td>Data Science</td>\n",
              "      <td>skills r python sap hana tableau sap hana sql ...</td>\n",
              "      <td>[skills, r, python, sap, hana, tableau, sap, h...</td>\n",
              "      <td>[r, python, sap, hana, tableau, sap, hana, sql...</td>\n",
              "    </tr>\n",
              "    <tr>\n",
              "      <th>4</th>\n",
              "      <td>Data Science</td>\n",
              "      <td>education details mca ymcaust faridabad haryan...</td>\n",
              "      <td>[education, details, mca, ymcaust, faridabad, ...</td>\n",
              "      <td>[details, mca, faridabad, haryana, data, scien...</td>\n",
              "    </tr>\n",
              "    <tr>\n",
              "      <th>...</th>\n",
              "      <td>...</td>\n",
              "      <td>...</td>\n",
              "      <td>...</td>\n",
              "      <td>...</td>\n",
              "    </tr>\n",
              "    <tr>\n",
              "      <th>649</th>\n",
              "      <td>DevOps Engineer</td>\n",
              "      <td>software proficiency languages basics of c sql...</td>\n",
              "      <td>[software, proficiency, languages, basics, of,...</td>\n",
              "      <td>[software, proficiency, basics, c, sql, sql, j...</td>\n",
              "    </tr>\n",
              "    <tr>\n",
              "      <th>650</th>\n",
              "      <td>DevOps Engineer</td>\n",
              "      <td>core competencies ant maven git bitbucket jenk...</td>\n",
              "      <td>[core, competencies, ant, maven, git, bitbucke...</td>\n",
              "      <td>[core, competencies, ant, maven, git, bitbucke...</td>\n",
              "    </tr>\n",
              "    <tr>\n",
              "      <th>651</th>\n",
              "      <td>DevOps Engineer</td>\n",
              "      <td>skills visa b visa usa onsite visits to sweden...</td>\n",
              "      <td>[skills, visa, b, visa, usa, onsite, visits, t...</td>\n",
              "      <td>[visa, visa, usa, onsite, visits, sweden, seat...</td>\n",
              "    </tr>\n",
              "    <tr>\n",
              "      <th>652</th>\n",
              "      <td>DevOps Engineer</td>\n",
              "      <td>software proficiency languages basics of c sql...</td>\n",
              "      <td>[software, proficiency, languages, basics, of,...</td>\n",
              "      <td>[software, proficiency, basics, c, sql, sql, j...</td>\n",
              "    </tr>\n",
              "    <tr>\n",
              "      <th>653</th>\n",
              "      <td>DevOps Engineer</td>\n",
              "      <td>core competencies ant maven git bitbucket jenk...</td>\n",
              "      <td>[core, competencies, ant, maven, git, bitbucke...</td>\n",
              "      <td>[core, competencies, ant, maven, git, bitbucke...</td>\n",
              "    </tr>\n",
              "  </tbody>\n",
              "</table>\n",
              "<p>292 rows × 4 columns</p>\n",
              "</div>\n",
              "      <button class=\"colab-df-convert\" onclick=\"convertToInteractive('df-a2a27a42-6712-4880-b2d2-67b0b80f416e')\"\n",
              "              title=\"Convert this dataframe to an interactive table.\"\n",
              "              style=\"display:none;\">\n",
              "        \n",
              "  <svg xmlns=\"http://www.w3.org/2000/svg\" height=\"24px\"viewBox=\"0 0 24 24\"\n",
              "       width=\"24px\">\n",
              "    <path d=\"M0 0h24v24H0V0z\" fill=\"none\"/>\n",
              "    <path d=\"M18.56 5.44l.94 2.06.94-2.06 2.06-.94-2.06-.94-.94-2.06-.94 2.06-2.06.94zm-11 1L8.5 8.5l.94-2.06 2.06-.94-2.06-.94L8.5 2.5l-.94 2.06-2.06.94zm10 10l.94 2.06.94-2.06 2.06-.94-2.06-.94-.94-2.06-.94 2.06-2.06.94z\"/><path d=\"M17.41 7.96l-1.37-1.37c-.4-.4-.92-.59-1.43-.59-.52 0-1.04.2-1.43.59L10.3 9.45l-7.72 7.72c-.78.78-.78 2.05 0 2.83L4 21.41c.39.39.9.59 1.41.59.51 0 1.02-.2 1.41-.59l7.78-7.78 2.81-2.81c.8-.78.8-2.07 0-2.86zM5.41 20L4 18.59l7.72-7.72 1.47 1.35L5.41 20z\"/>\n",
              "  </svg>\n",
              "      </button>\n",
              "      \n",
              "  <style>\n",
              "    .colab-df-container {\n",
              "      display:flex;\n",
              "      flex-wrap:wrap;\n",
              "      gap: 12px;\n",
              "    }\n",
              "\n",
              "    .colab-df-convert {\n",
              "      background-color: #E8F0FE;\n",
              "      border: none;\n",
              "      border-radius: 50%;\n",
              "      cursor: pointer;\n",
              "      display: none;\n",
              "      fill: #1967D2;\n",
              "      height: 32px;\n",
              "      padding: 0 0 0 0;\n",
              "      width: 32px;\n",
              "    }\n",
              "\n",
              "    .colab-df-convert:hover {\n",
              "      background-color: #E2EBFA;\n",
              "      box-shadow: 0px 1px 2px rgba(60, 64, 67, 0.3), 0px 1px 3px 1px rgba(60, 64, 67, 0.15);\n",
              "      fill: #174EA6;\n",
              "    }\n",
              "\n",
              "    [theme=dark] .colab-df-convert {\n",
              "      background-color: #3B4455;\n",
              "      fill: #D2E3FC;\n",
              "    }\n",
              "\n",
              "    [theme=dark] .colab-df-convert:hover {\n",
              "      background-color: #434B5C;\n",
              "      box-shadow: 0px 1px 3px 1px rgba(0, 0, 0, 0.15);\n",
              "      filter: drop-shadow(0px 1px 2px rgba(0, 0, 0, 0.3));\n",
              "      fill: #FFFFFF;\n",
              "    }\n",
              "  </style>\n",
              "\n",
              "      <script>\n",
              "        const buttonEl =\n",
              "          document.querySelector('#df-a2a27a42-6712-4880-b2d2-67b0b80f416e button.colab-df-convert');\n",
              "        buttonEl.style.display =\n",
              "          google.colab.kernel.accessAllowed ? 'block' : 'none';\n",
              "\n",
              "        async function convertToInteractive(key) {\n",
              "          const element = document.querySelector('#df-a2a27a42-6712-4880-b2d2-67b0b80f416e');\n",
              "          const dataTable =\n",
              "            await google.colab.kernel.invokeFunction('convertToInteractive',\n",
              "                                                     [key], {});\n",
              "          if (!dataTable) return;\n",
              "\n",
              "          const docLinkHtml = 'Like what you see? Visit the ' +\n",
              "            '<a target=\"_blank\" href=https://colab.research.google.com/notebooks/data_table.ipynb>data table notebook</a>'\n",
              "            + ' to learn more about interactive tables.';\n",
              "          element.innerHTML = '';\n",
              "          dataTable['output_type'] = 'display_data';\n",
              "          await google.colab.output.renderOutput(dataTable, element);\n",
              "          const docLink = document.createElement('div');\n",
              "          docLink.innerHTML = docLinkHtml;\n",
              "          element.appendChild(docLink);\n",
              "        }\n",
              "      </script>\n",
              "    </div>\n",
              "  </div>\n",
              "  "
            ]
          },
          "metadata": {},
          "execution_count": 13
        }
      ],
      "source": [
        "df['resume_split_stopword'] = df['resume_split'].apply(lambda x: remove_stopwords(x))\n",
        "df"
      ]
    },
    {
      "cell_type": "markdown",
      "metadata": {
        "id": "iEI_oAhFP6dH"
      },
      "source": [
        "## Stemming dan Lemmatization"
      ]
    },
    {
      "cell_type": "code",
      "execution_count": null,
      "metadata": {
        "id": "dn3Ksm9rPu1i"
      },
      "outputs": [],
      "source": [
        "from nltk.stem import WordNetLemmatizer\n",
        "\n",
        "lemmatizer = WordNetLemmatizer()\n",
        "def lemmatize_word(word):\n",
        "  return [lemmatizer.lemmatize(w) for w in word]"
      ]
    },
    {
      "cell_type": "code",
      "execution_count": null,
      "metadata": {
        "colab": {
          "base_uri": "https://localhost:8080/",
          "height": 534
        },
        "id": "vACPLcNdQFZN",
        "outputId": "70c4238d-40d3-4675-b2cd-fdfde86648bf"
      },
      "outputs": [
        {
          "output_type": "stream",
          "name": "stderr",
          "text": [
            "<ipython-input-15-b7de29745f35>:1: SettingWithCopyWarning: \n",
            "A value is trying to be set on a copy of a slice from a DataFrame.\n",
            "Try using .loc[row_indexer,col_indexer] = value instead\n",
            "\n",
            "See the caveats in the documentation: https://pandas.pydata.org/pandas-docs/stable/user_guide/indexing.html#returning-a-view-versus-a-copy\n",
            "  df['resume_split_stopword_lemma'] = df['resume_split_stopword'].apply(lambda x: [lemmatizer.lemmatize(word) for word in x])\n"
          ]
        },
        {
          "output_type": "execute_result",
          "data": {
            "text/plain": [
              "            Category                                             Resume  \\\n",
              "0       Data Science  skills programming languages python pandas num...   \n",
              "1       Data Science  education details may to may b e uit rgpv data...   \n",
              "2       Data Science  areas of interest deep learning control system...   \n",
              "3       Data Science  skills r python sap hana tableau sap hana sql ...   \n",
              "4       Data Science  education details mca ymcaust faridabad haryan...   \n",
              "..               ...                                                ...   \n",
              "649  DevOps Engineer  software proficiency languages basics of c sql...   \n",
              "650  DevOps Engineer  core competencies ant maven git bitbucket jenk...   \n",
              "651  DevOps Engineer  skills visa b visa usa onsite visits to sweden...   \n",
              "652  DevOps Engineer  software proficiency languages basics of c sql...   \n",
              "653  DevOps Engineer  core competencies ant maven git bitbucket jenk...   \n",
              "\n",
              "                                          resume_split  \\\n",
              "0    [skills, programming, languages, python, panda...   \n",
              "1    [education, details, may, to, may, b, e, uit, ...   \n",
              "2    [areas, of, interest, deep, learning, control,...   \n",
              "3    [skills, r, python, sap, hana, tableau, sap, h...   \n",
              "4    [education, details, mca, ymcaust, faridabad, ...   \n",
              "..                                                 ...   \n",
              "649  [software, proficiency, languages, basics, of,...   \n",
              "650  [core, competencies, ant, maven, git, bitbucke...   \n",
              "651  [skills, visa, b, visa, usa, onsite, visits, t...   \n",
              "652  [software, proficiency, languages, basics, of,...   \n",
              "653  [core, competencies, ant, maven, git, bitbucke...   \n",
              "\n",
              "                                 resume_split_stopword  \\\n",
              "0    [programming, python, pandas, numpy, scipy, sc...   \n",
              "1    [details, rgpv, data, scientist, data, scienti...   \n",
              "2    [areas, interest, deep, learning, control, des...   \n",
              "3    [r, python, sap, hana, tableau, sap, hana, sql...   \n",
              "4    [details, mca, faridabad, haryana, data, scien...   \n",
              "..                                                 ...   \n",
              "649  [software, proficiency, basics, c, sql, sql, j...   \n",
              "650  [core, competencies, ant, maven, git, bitbucke...   \n",
              "651  [visa, visa, usa, onsite, visits, sweden, seat...   \n",
              "652  [software, proficiency, basics, c, sql, sql, j...   \n",
              "653  [core, competencies, ant, maven, git, bitbucke...   \n",
              "\n",
              "                           resume_split_stopword_lemma  \n",
              "0    [programming, python, panda, numpy, scipy, sci...  \n",
              "1    [detail, rgpv, data, scientist, data, scientis...  \n",
              "2    [area, interest, deep, learning, control, desi...  \n",
              "3    [r, python, sap, hana, tableau, sap, hana, sql...  \n",
              "4    [detail, mca, faridabad, haryana, data, scienc...  \n",
              "..                                                 ...  \n",
              "649  [software, proficiency, basic, c, sql, sql, ja...  \n",
              "650  [core, competency, ant, maven, git, bitbucket,...  \n",
              "651  [visa, visa, usa, onsite, visit, sweden, seatt...  \n",
              "652  [software, proficiency, basic, c, sql, sql, ja...  \n",
              "653  [core, competency, ant, maven, git, bitbucket,...  \n",
              "\n",
              "[292 rows x 5 columns]"
            ],
            "text/html": [
              "\n",
              "  <div id=\"df-4006bacf-aa7f-4288-ac6a-db0742c60c6a\">\n",
              "    <div class=\"colab-df-container\">\n",
              "      <div>\n",
              "<style scoped>\n",
              "    .dataframe tbody tr th:only-of-type {\n",
              "        vertical-align: middle;\n",
              "    }\n",
              "\n",
              "    .dataframe tbody tr th {\n",
              "        vertical-align: top;\n",
              "    }\n",
              "\n",
              "    .dataframe thead th {\n",
              "        text-align: right;\n",
              "    }\n",
              "</style>\n",
              "<table border=\"1\" class=\"dataframe\">\n",
              "  <thead>\n",
              "    <tr style=\"text-align: right;\">\n",
              "      <th></th>\n",
              "      <th>Category</th>\n",
              "      <th>Resume</th>\n",
              "      <th>resume_split</th>\n",
              "      <th>resume_split_stopword</th>\n",
              "      <th>resume_split_stopword_lemma</th>\n",
              "    </tr>\n",
              "  </thead>\n",
              "  <tbody>\n",
              "    <tr>\n",
              "      <th>0</th>\n",
              "      <td>Data Science</td>\n",
              "      <td>skills programming languages python pandas num...</td>\n",
              "      <td>[skills, programming, languages, python, panda...</td>\n",
              "      <td>[programming, python, pandas, numpy, scipy, sc...</td>\n",
              "      <td>[programming, python, panda, numpy, scipy, sci...</td>\n",
              "    </tr>\n",
              "    <tr>\n",
              "      <th>1</th>\n",
              "      <td>Data Science</td>\n",
              "      <td>education details may to may b e uit rgpv data...</td>\n",
              "      <td>[education, details, may, to, may, b, e, uit, ...</td>\n",
              "      <td>[details, rgpv, data, scientist, data, scienti...</td>\n",
              "      <td>[detail, rgpv, data, scientist, data, scientis...</td>\n",
              "    </tr>\n",
              "    <tr>\n",
              "      <th>2</th>\n",
              "      <td>Data Science</td>\n",
              "      <td>areas of interest deep learning control system...</td>\n",
              "      <td>[areas, of, interest, deep, learning, control,...</td>\n",
              "      <td>[areas, interest, deep, learning, control, des...</td>\n",
              "      <td>[area, interest, deep, learning, control, desi...</td>\n",
              "    </tr>\n",
              "    <tr>\n",
              "      <th>3</th>\n",
              "      <td>Data Science</td>\n",
              "      <td>skills r python sap hana tableau sap hana sql ...</td>\n",
              "      <td>[skills, r, python, sap, hana, tableau, sap, h...</td>\n",
              "      <td>[r, python, sap, hana, tableau, sap, hana, sql...</td>\n",
              "      <td>[r, python, sap, hana, tableau, sap, hana, sql...</td>\n",
              "    </tr>\n",
              "    <tr>\n",
              "      <th>4</th>\n",
              "      <td>Data Science</td>\n",
              "      <td>education details mca ymcaust faridabad haryan...</td>\n",
              "      <td>[education, details, mca, ymcaust, faridabad, ...</td>\n",
              "      <td>[details, mca, faridabad, haryana, data, scien...</td>\n",
              "      <td>[detail, mca, faridabad, haryana, data, scienc...</td>\n",
              "    </tr>\n",
              "    <tr>\n",
              "      <th>...</th>\n",
              "      <td>...</td>\n",
              "      <td>...</td>\n",
              "      <td>...</td>\n",
              "      <td>...</td>\n",
              "      <td>...</td>\n",
              "    </tr>\n",
              "    <tr>\n",
              "      <th>649</th>\n",
              "      <td>DevOps Engineer</td>\n",
              "      <td>software proficiency languages basics of c sql...</td>\n",
              "      <td>[software, proficiency, languages, basics, of,...</td>\n",
              "      <td>[software, proficiency, basics, c, sql, sql, j...</td>\n",
              "      <td>[software, proficiency, basic, c, sql, sql, ja...</td>\n",
              "    </tr>\n",
              "    <tr>\n",
              "      <th>650</th>\n",
              "      <td>DevOps Engineer</td>\n",
              "      <td>core competencies ant maven git bitbucket jenk...</td>\n",
              "      <td>[core, competencies, ant, maven, git, bitbucke...</td>\n",
              "      <td>[core, competencies, ant, maven, git, bitbucke...</td>\n",
              "      <td>[core, competency, ant, maven, git, bitbucket,...</td>\n",
              "    </tr>\n",
              "    <tr>\n",
              "      <th>651</th>\n",
              "      <td>DevOps Engineer</td>\n",
              "      <td>skills visa b visa usa onsite visits to sweden...</td>\n",
              "      <td>[skills, visa, b, visa, usa, onsite, visits, t...</td>\n",
              "      <td>[visa, visa, usa, onsite, visits, sweden, seat...</td>\n",
              "      <td>[visa, visa, usa, onsite, visit, sweden, seatt...</td>\n",
              "    </tr>\n",
              "    <tr>\n",
              "      <th>652</th>\n",
              "      <td>DevOps Engineer</td>\n",
              "      <td>software proficiency languages basics of c sql...</td>\n",
              "      <td>[software, proficiency, languages, basics, of,...</td>\n",
              "      <td>[software, proficiency, basics, c, sql, sql, j...</td>\n",
              "      <td>[software, proficiency, basic, c, sql, sql, ja...</td>\n",
              "    </tr>\n",
              "    <tr>\n",
              "      <th>653</th>\n",
              "      <td>DevOps Engineer</td>\n",
              "      <td>core competencies ant maven git bitbucket jenk...</td>\n",
              "      <td>[core, competencies, ant, maven, git, bitbucke...</td>\n",
              "      <td>[core, competencies, ant, maven, git, bitbucke...</td>\n",
              "      <td>[core, competency, ant, maven, git, bitbucket,...</td>\n",
              "    </tr>\n",
              "  </tbody>\n",
              "</table>\n",
              "<p>292 rows × 5 columns</p>\n",
              "</div>\n",
              "      <button class=\"colab-df-convert\" onclick=\"convertToInteractive('df-4006bacf-aa7f-4288-ac6a-db0742c60c6a')\"\n",
              "              title=\"Convert this dataframe to an interactive table.\"\n",
              "              style=\"display:none;\">\n",
              "        \n",
              "  <svg xmlns=\"http://www.w3.org/2000/svg\" height=\"24px\"viewBox=\"0 0 24 24\"\n",
              "       width=\"24px\">\n",
              "    <path d=\"M0 0h24v24H0V0z\" fill=\"none\"/>\n",
              "    <path d=\"M18.56 5.44l.94 2.06.94-2.06 2.06-.94-2.06-.94-.94-2.06-.94 2.06-2.06.94zm-11 1L8.5 8.5l.94-2.06 2.06-.94-2.06-.94L8.5 2.5l-.94 2.06-2.06.94zm10 10l.94 2.06.94-2.06 2.06-.94-2.06-.94-.94-2.06-.94 2.06-2.06.94z\"/><path d=\"M17.41 7.96l-1.37-1.37c-.4-.4-.92-.59-1.43-.59-.52 0-1.04.2-1.43.59L10.3 9.45l-7.72 7.72c-.78.78-.78 2.05 0 2.83L4 21.41c.39.39.9.59 1.41.59.51 0 1.02-.2 1.41-.59l7.78-7.78 2.81-2.81c.8-.78.8-2.07 0-2.86zM5.41 20L4 18.59l7.72-7.72 1.47 1.35L5.41 20z\"/>\n",
              "  </svg>\n",
              "      </button>\n",
              "      \n",
              "  <style>\n",
              "    .colab-df-container {\n",
              "      display:flex;\n",
              "      flex-wrap:wrap;\n",
              "      gap: 12px;\n",
              "    }\n",
              "\n",
              "    .colab-df-convert {\n",
              "      background-color: #E8F0FE;\n",
              "      border: none;\n",
              "      border-radius: 50%;\n",
              "      cursor: pointer;\n",
              "      display: none;\n",
              "      fill: #1967D2;\n",
              "      height: 32px;\n",
              "      padding: 0 0 0 0;\n",
              "      width: 32px;\n",
              "    }\n",
              "\n",
              "    .colab-df-convert:hover {\n",
              "      background-color: #E2EBFA;\n",
              "      box-shadow: 0px 1px 2px rgba(60, 64, 67, 0.3), 0px 1px 3px 1px rgba(60, 64, 67, 0.15);\n",
              "      fill: #174EA6;\n",
              "    }\n",
              "\n",
              "    [theme=dark] .colab-df-convert {\n",
              "      background-color: #3B4455;\n",
              "      fill: #D2E3FC;\n",
              "    }\n",
              "\n",
              "    [theme=dark] .colab-df-convert:hover {\n",
              "      background-color: #434B5C;\n",
              "      box-shadow: 0px 1px 3px 1px rgba(0, 0, 0, 0.15);\n",
              "      filter: drop-shadow(0px 1px 2px rgba(0, 0, 0, 0.3));\n",
              "      fill: #FFFFFF;\n",
              "    }\n",
              "  </style>\n",
              "\n",
              "      <script>\n",
              "        const buttonEl =\n",
              "          document.querySelector('#df-4006bacf-aa7f-4288-ac6a-db0742c60c6a button.colab-df-convert');\n",
              "        buttonEl.style.display =\n",
              "          google.colab.kernel.accessAllowed ? 'block' : 'none';\n",
              "\n",
              "        async function convertToInteractive(key) {\n",
              "          const element = document.querySelector('#df-4006bacf-aa7f-4288-ac6a-db0742c60c6a');\n",
              "          const dataTable =\n",
              "            await google.colab.kernel.invokeFunction('convertToInteractive',\n",
              "                                                     [key], {});\n",
              "          if (!dataTable) return;\n",
              "\n",
              "          const docLinkHtml = 'Like what you see? Visit the ' +\n",
              "            '<a target=\"_blank\" href=https://colab.research.google.com/notebooks/data_table.ipynb>data table notebook</a>'\n",
              "            + ' to learn more about interactive tables.';\n",
              "          element.innerHTML = '';\n",
              "          dataTable['output_type'] = 'display_data';\n",
              "          await google.colab.output.renderOutput(dataTable, element);\n",
              "          const docLink = document.createElement('div');\n",
              "          docLink.innerHTML = docLinkHtml;\n",
              "          element.appendChild(docLink);\n",
              "        }\n",
              "      </script>\n",
              "    </div>\n",
              "  </div>\n",
              "  "
            ]
          },
          "metadata": {},
          "execution_count": 15
        }
      ],
      "source": [
        "df['resume_split_stopword_lemma'] = df['resume_split_stopword'].apply(lambda x: [lemmatizer.lemmatize(word) for word in x])\n",
        "df"
      ]
    },
    {
      "cell_type": "code",
      "execution_count": null,
      "metadata": {
        "colab": {
          "base_uri": "https://localhost:8080/",
          "height": 534
        },
        "id": "_9XUqCc2QHkf",
        "outputId": "ddee1858-00a6-4d4a-fa36-0c2443b5a1cf"
      },
      "outputs": [
        {
          "output_type": "stream",
          "name": "stderr",
          "text": [
            "<ipython-input-17-6ad0569d37f7>:5: SettingWithCopyWarning: \n",
            "A value is trying to be set on a copy of a slice from a DataFrame.\n",
            "Try using .loc[row_indexer,col_indexer] = value instead\n",
            "\n",
            "See the caveats in the documentation: https://pandas.pydata.org/pandas-docs/stable/user_guide/indexing.html#returning-a-view-versus-a-copy\n",
            "  df['join_words'] = df['resume_split_stopword_lemma'].apply(concat)\n"
          ]
        },
        {
          "output_type": "execute_result",
          "data": {
            "text/plain": [
              "            Category                                         join_words\n",
              "0       Data Science  programming python panda numpy scipy scikit le...\n",
              "1       Data Science  detail rgpv data scientist data scientist mate...\n",
              "2       Data Science  area interest deep learning control design pro...\n",
              "3       Data Science  r python sap hana tableau sap hana sql sap han...\n",
              "4       Data Science  detail mca faridabad haryana data science inte...\n",
              "..               ...                                                ...\n",
              "649  DevOps Engineer  software proficiency basic c sql sql java java...\n",
              "650  DevOps Engineer  core competency ant maven git bitbucket jenkin...\n",
              "651  DevOps Engineer  visa visa usa onsite visit sweden seattle deta...\n",
              "652  DevOps Engineer  software proficiency basic c sql sql java java...\n",
              "653  DevOps Engineer  core competency ant maven git bitbucket jenkin...\n",
              "\n",
              "[292 rows x 2 columns]"
            ],
            "text/html": [
              "\n",
              "  <div id=\"df-7f8491e9-e9e9-4b7d-af26-cdbdbdbe605b\">\n",
              "    <div class=\"colab-df-container\">\n",
              "      <div>\n",
              "<style scoped>\n",
              "    .dataframe tbody tr th:only-of-type {\n",
              "        vertical-align: middle;\n",
              "    }\n",
              "\n",
              "    .dataframe tbody tr th {\n",
              "        vertical-align: top;\n",
              "    }\n",
              "\n",
              "    .dataframe thead th {\n",
              "        text-align: right;\n",
              "    }\n",
              "</style>\n",
              "<table border=\"1\" class=\"dataframe\">\n",
              "  <thead>\n",
              "    <tr style=\"text-align: right;\">\n",
              "      <th></th>\n",
              "      <th>Category</th>\n",
              "      <th>join_words</th>\n",
              "    </tr>\n",
              "  </thead>\n",
              "  <tbody>\n",
              "    <tr>\n",
              "      <th>0</th>\n",
              "      <td>Data Science</td>\n",
              "      <td>programming python panda numpy scipy scikit le...</td>\n",
              "    </tr>\n",
              "    <tr>\n",
              "      <th>1</th>\n",
              "      <td>Data Science</td>\n",
              "      <td>detail rgpv data scientist data scientist mate...</td>\n",
              "    </tr>\n",
              "    <tr>\n",
              "      <th>2</th>\n",
              "      <td>Data Science</td>\n",
              "      <td>area interest deep learning control design pro...</td>\n",
              "    </tr>\n",
              "    <tr>\n",
              "      <th>3</th>\n",
              "      <td>Data Science</td>\n",
              "      <td>r python sap hana tableau sap hana sql sap han...</td>\n",
              "    </tr>\n",
              "    <tr>\n",
              "      <th>4</th>\n",
              "      <td>Data Science</td>\n",
              "      <td>detail mca faridabad haryana data science inte...</td>\n",
              "    </tr>\n",
              "    <tr>\n",
              "      <th>...</th>\n",
              "      <td>...</td>\n",
              "      <td>...</td>\n",
              "    </tr>\n",
              "    <tr>\n",
              "      <th>649</th>\n",
              "      <td>DevOps Engineer</td>\n",
              "      <td>software proficiency basic c sql sql java java...</td>\n",
              "    </tr>\n",
              "    <tr>\n",
              "      <th>650</th>\n",
              "      <td>DevOps Engineer</td>\n",
              "      <td>core competency ant maven git bitbucket jenkin...</td>\n",
              "    </tr>\n",
              "    <tr>\n",
              "      <th>651</th>\n",
              "      <td>DevOps Engineer</td>\n",
              "      <td>visa visa usa onsite visit sweden seattle deta...</td>\n",
              "    </tr>\n",
              "    <tr>\n",
              "      <th>652</th>\n",
              "      <td>DevOps Engineer</td>\n",
              "      <td>software proficiency basic c sql sql java java...</td>\n",
              "    </tr>\n",
              "    <tr>\n",
              "      <th>653</th>\n",
              "      <td>DevOps Engineer</td>\n",
              "      <td>core competency ant maven git bitbucket jenkin...</td>\n",
              "    </tr>\n",
              "  </tbody>\n",
              "</table>\n",
              "<p>292 rows × 2 columns</p>\n",
              "</div>\n",
              "      <button class=\"colab-df-convert\" onclick=\"convertToInteractive('df-7f8491e9-e9e9-4b7d-af26-cdbdbdbe605b')\"\n",
              "              title=\"Convert this dataframe to an interactive table.\"\n",
              "              style=\"display:none;\">\n",
              "        \n",
              "  <svg xmlns=\"http://www.w3.org/2000/svg\" height=\"24px\"viewBox=\"0 0 24 24\"\n",
              "       width=\"24px\">\n",
              "    <path d=\"M0 0h24v24H0V0z\" fill=\"none\"/>\n",
              "    <path d=\"M18.56 5.44l.94 2.06.94-2.06 2.06-.94-2.06-.94-.94-2.06-.94 2.06-2.06.94zm-11 1L8.5 8.5l.94-2.06 2.06-.94-2.06-.94L8.5 2.5l-.94 2.06-2.06.94zm10 10l.94 2.06.94-2.06 2.06-.94-2.06-.94-.94-2.06-.94 2.06-2.06.94z\"/><path d=\"M17.41 7.96l-1.37-1.37c-.4-.4-.92-.59-1.43-.59-.52 0-1.04.2-1.43.59L10.3 9.45l-7.72 7.72c-.78.78-.78 2.05 0 2.83L4 21.41c.39.39.9.59 1.41.59.51 0 1.02-.2 1.41-.59l7.78-7.78 2.81-2.81c.8-.78.8-2.07 0-2.86zM5.41 20L4 18.59l7.72-7.72 1.47 1.35L5.41 20z\"/>\n",
              "  </svg>\n",
              "      </button>\n",
              "      \n",
              "  <style>\n",
              "    .colab-df-container {\n",
              "      display:flex;\n",
              "      flex-wrap:wrap;\n",
              "      gap: 12px;\n",
              "    }\n",
              "\n",
              "    .colab-df-convert {\n",
              "      background-color: #E8F0FE;\n",
              "      border: none;\n",
              "      border-radius: 50%;\n",
              "      cursor: pointer;\n",
              "      display: none;\n",
              "      fill: #1967D2;\n",
              "      height: 32px;\n",
              "      padding: 0 0 0 0;\n",
              "      width: 32px;\n",
              "    }\n",
              "\n",
              "    .colab-df-convert:hover {\n",
              "      background-color: #E2EBFA;\n",
              "      box-shadow: 0px 1px 2px rgba(60, 64, 67, 0.3), 0px 1px 3px 1px rgba(60, 64, 67, 0.15);\n",
              "      fill: #174EA6;\n",
              "    }\n",
              "\n",
              "    [theme=dark] .colab-df-convert {\n",
              "      background-color: #3B4455;\n",
              "      fill: #D2E3FC;\n",
              "    }\n",
              "\n",
              "    [theme=dark] .colab-df-convert:hover {\n",
              "      background-color: #434B5C;\n",
              "      box-shadow: 0px 1px 3px 1px rgba(0, 0, 0, 0.15);\n",
              "      filter: drop-shadow(0px 1px 2px rgba(0, 0, 0, 0.3));\n",
              "      fill: #FFFFFF;\n",
              "    }\n",
              "  </style>\n",
              "\n",
              "      <script>\n",
              "        const buttonEl =\n",
              "          document.querySelector('#df-7f8491e9-e9e9-4b7d-af26-cdbdbdbe605b button.colab-df-convert');\n",
              "        buttonEl.style.display =\n",
              "          google.colab.kernel.accessAllowed ? 'block' : 'none';\n",
              "\n",
              "        async function convertToInteractive(key) {\n",
              "          const element = document.querySelector('#df-7f8491e9-e9e9-4b7d-af26-cdbdbdbe605b');\n",
              "          const dataTable =\n",
              "            await google.colab.kernel.invokeFunction('convertToInteractive',\n",
              "                                                     [key], {});\n",
              "          if (!dataTable) return;\n",
              "\n",
              "          const docLinkHtml = 'Like what you see? Visit the ' +\n",
              "            '<a target=\"_blank\" href=https://colab.research.google.com/notebooks/data_table.ipynb>data table notebook</a>'\n",
              "            + ' to learn more about interactive tables.';\n",
              "          element.innerHTML = '';\n",
              "          dataTable['output_type'] = 'display_data';\n",
              "          await google.colab.output.renderOutput(dataTable, element);\n",
              "          const docLink = document.createElement('div');\n",
              "          docLink.innerHTML = docLinkHtml;\n",
              "          element.appendChild(docLink);\n",
              "        }\n",
              "      </script>\n",
              "    </div>\n",
              "  </div>\n",
              "  "
            ]
          },
          "metadata": {},
          "execution_count": 17
        }
      ],
      "source": [
        "def concat(lst):\n",
        "    sentence = ' '.join(lst)\n",
        "    return sentence\n",
        "\n",
        "df['join_words'] = df['resume_split_stopword_lemma'].apply(concat)\n",
        "new_df = df[['Category', 'join_words']]\n",
        "new_df"
      ]
    },
    {
      "cell_type": "markdown",
      "metadata": {
        "id": "ZKkOvqMjmsM3"
      },
      "source": [
        "# Augmentasi Data"
      ]
    },
    {
      "cell_type": "code",
      "execution_count": null,
      "metadata": {
        "colab": {
          "base_uri": "https://localhost:8080/"
        },
        "id": "3wEa0binVVrN",
        "outputId": "0483b961-a952-42fc-b3e0-5c70df911866"
      },
      "outputs": [
        {
          "output_type": "stream",
          "name": "stdout",
          "text": [
            "[('ini', 2), ('teks', 2), ('adalah', 1), ('contoh', 1), ('digunakan', 1)]\n"
          ]
        }
      ],
      "source": [
        "from collections import Counter\n",
        "import re\n",
        "\n",
        "text = \"Ini adalah contoh teks. Teks ini digunakan untuk demonstrasi.\"\n",
        "cleaned_text = re.findall(r'\\b\\w+\\b', text.lower())\n",
        "\n",
        "word_count = Counter(cleaned_text)\n",
        "top_words = word_count.most_common(5)\n",
        "print(top_words)"
      ]
    },
    {
      "cell_type": "code",
      "execution_count": null,
      "metadata": {
        "colab": {
          "base_uri": "https://localhost:8080/"
        },
        "id": "2HLZSvlnWVet",
        "outputId": "5e7a2640-2680-42a5-a41a-3b7f20c5ed0a"
      },
      "outputs": [
        {
          "output_type": "stream",
          "name": "stdout",
          "text": [
            "[('month', 1342), ('detail', 976), ('java', 803), ('client', 801), ('service', 754), ('management', 728), ('business', 655), ('customer', 642), ('operation', 633), ('data', 622), ('development', 607), ('requirement', 603), ('process', 579), ('le', 565), ('user', 523), ('developer', 492), ('software', 489), ('technology', 471), ('maharashtra', 464), ('database', 455), ('activity', 454), ('pvt', 449), ('responsibility', 433), ('c', 418), ('server', 405), ('role', 394), ('report', 386), ('script', 361), ('sql', 360), ('using', 354), ('testing', 353), ('work', 344), ('test', 344), ('mysql', 343), ('engineering', 337), ('various', 333), ('ensuring', 330), ('web', 329), ('html', 323), ('information', 323), ('skill', 318), ('india', 318), ('quality', 310), ('support', 309), ('solution', 304), ('technical', 302), ('control', 301), ('meeting', 294), ('tool', 290), ('shell', 285), ('used', 284), ('jquery', 281), ('managing', 281), ('product', 280), ('build', 280), ('working', 274), ('analysis', 271), ('issue', 271), ('manager', 271), ('pune', 271), ('design', 269), ('different', 268), ('end', 267), ('member', 265), ('time', 262), ('automation', 258), ('javascript', 257), ('based', 255), ('handling', 255), ('cs', 247), ('monthscompany', 247), ('application', 247), ('python', 243), ('key', 240), ('job', 240), ('system', 230), ('linux', 228), ('platform', 227), ('ajax', 225), ('developed', 221), ('project', 221), ('document', 218), ('website', 218), ('learning', 217), ('monitoring', 217), ('developing', 216), ('review', 215), ('engineer', 215), ('required', 211), ('plan', 210), ('environment', 209), ('devops', 209), ('science', 206), ('creating', 205), ('bootstrap', 203), ('ensure', 200), ('delivery', 200), ('payment', 198), ('sale', 196), ('vendor', 189), ('deployment', 188), ('provide', 186), ('documentation', 183), ('machine', 182), ('honeywell', 180), ('schedule', 177), ('change', 176), ('providing', 176), ('inventory', 176), ('designed', 175), ('maintaining', 175), ('monitored', 174), ('computer', 172), ('worked', 171), ('order', 171), ('ge', 170), ('fat', 170), ('international', 169), ('cloud', 168), ('code', 165), ('production', 163), ('preparing', 161), ('performance', 159), ('related', 156), ('involved', 155), ('scripting', 154), ('operating', 152), ('query', 150), ('planning', 150), ('knowledge', 150), ('functional', 150), ('standard', 149), ('case', 149), ('bank', 149), ('spring', 149), ('billing', 149), ('check', 148), ('commerce', 148), ('reporting', 147), ('limited', 146), ('across', 145), ('completed', 144), ('understanding', 143), ('made', 143), ('procedure', 141), ('training', 141), ('multiple', 140), ('internal', 140), ('korea', 140), ('shipment', 138), ('risk', 137), ('program', 137), ('core', 136), ('online', 136), ('purchase', 135), ('panel', 135), ('point', 135), ('jsp', 135), ('team', 135), ('name', 134), ('global', 134), ('complete', 134), ('credit', 134), ('make', 133), ('type', 132), ('m', 131), ('office', 131), ('graphic', 131), ('hibernate', 131), ('task', 130), ('r', 130), ('lead', 130), ('plc', 130), ('college', 129), ('department', 129), ('maintenance', 129), ('date', 128), ('communication', 127), ('trust', 127), ('php', 127), ('oracle', 126), ('nagpur', 126), ('ui', 125), ('develop', 124), ('manage', 122), ('weekly', 122), ('analytics', 121), ('within', 121), ('responsible', 120), ('freight', 120), ('good', 118), ('distribution', 118), ('proposal', 118), ('implemented', 117), ('analyst', 117), ('preparation', 117), ('one', 115), ('aws', 113), ('track', 113), ('ounts', 113), ('card', 112), ('export', 112), ('module', 111), ('deliverable', 111), ('supplier', 110), ('attending', 110), ('scope', 109), ('git', 108), ('implementation', 108), ('photoshop', 108), ('stock', 108), ('employee', 108), ('entire', 107), ('insurance', 107), ('function', 106), ('release', 106), ('programming', 105), ('industry', 105), ('jenkins', 105), ('position', 104), ('gathering', 104), ('tracking', 102), ('nendrasys', 102), ('model', 101), ('board', 101), ('monthly', 101), ('stakeholder', 100), ('hpm', 100), ('problem', 99), ('title', 99), ('servlet', 98), ('analyzing', 97), ('effective', 97), ('state', 97), ('senior', 97), ('es', 96), ('institute', 95), ('designer', 95), ('area', 94), ('loan', 94), ('mi', 94), ('group', 94), ('com', 93), ('school', 93), ('resolve', 93), ('master', 92), ('handled', 92), ('maven', 92), ('email', 92), ('identify', 91), ('security', 91), ('understand', 90), ('leading', 90), ('status', 90), ('qatar', 90), ('network', 89), ('conducting', 89), ('coordinating', 89), ('microsoft', 88), ('high', 88), ('configuration', 88), ('framework', 88), ('www', 88), ('thai', 88), ('branch', 87), ('unit', 86), ('basis', 86), ('bug', 86), ('site', 86), ('performed', 85), ('professional', 85), ('tech', 85), ('included', 85), ('mvc', 85), ('architecture', 85), ('j', 84), ('given', 84), ('provider', 84), ('existing', 84), ('angular', 83), ('sap', 83), ('operational', 83), ('profile', 83), ('provided', 83), ('net', 82), ('banking', 82), ('sent', 82), ('revenue', 82), ('financial', 81), ('line', 81), ('overseeing', 81), ('secondary', 80), ('maintain', 80), ('prepaid', 80), ('marshalling', 80), ('language', 79), ('created', 79), ('well', 79), ('transaction', 79), ('material', 79), ('organization', 78), ('methodology', 78), ('contribution', 78), ('overall', 78), ('implementing', 78), ('flow', 77), ('identifying', 77), ('wrote', 77), ('efficiency', 77), ('help', 76), ('g', 76), ('import', 76), ('execution', 74), ('integration', 74), ('via', 73), ('life', 73), ('deep', 72), ('category', 72), ('electronics', 72), ('excel', 72), ('specification', 72), ('synopsis', 72), ('discus', 72), ('supply', 72), ('post', 71), ('resource', 71), ('leader', 71), ('replication', 71), ('shipping', 71), ('decision', 70), ('term', 70), ('result', 70), ('log', 70), ('portal', 70), ('bny', 70), ('mellon', 70), ('controller', 70), ('pm', 70), ('cabinet', 70), ('wiring', 70), ('automated', 69), ('algorithm', 69), ('monitor', 69), ('architect', 69), ('estimation', 69), ('perform', 69), ('commercial', 69), ('dc', 68), ('duration', 68), ('enterprise', 68), ('filenet', 68), ('ant', 68), ('bbl', 68), ('qa', 67), ('basic', 66), ('goal', 66), ('helping', 66), ('private', 66), ('cash', 66), ('audit', 66), ('warehouse', 66), ('trade', 65), ('db', 65), ('improve', 65), ('number', 64), ('bond', 64), ('progress', 64), ('getting', 63), ('designing', 63), ('p', 63), ('dev', 63), ('gap', 63), ('external', 63), ('invoice', 62), ('policy', 62), ('ticket', 62), ('xp', 62), ('manufacturing', 62), ('dashboard', 61), ('need', 61), ('consultant', 61), ('manual', 61), ('update', 61), ('health', 61), ('resolving', 61), ('call', 61), ('repository', 61), ('dell', 61), ('continuous', 61), ('part', 61), ('generate', 60), ('package', 60), ('back', 60), ('wipro', 60), ('frame', 60), ('foundation', 60), ('amravati', 60), ('stake', 60), ('holder', 60), ('hotel', 60), ('mentioned', 60), ('loop', 60), ('no', 60), ('schematic', 60), ('fds', 60), ('target', 59), ('medium', 59), ('contract', 59), ('diploma', 59), ('coordinate', 59), ('structure', 58), ('power', 58), ('designation', 58), ('corporate', 58), ('reviewing', 57), ('error', 57), ('studio', 57), ('json', 57), ('staff', 57), ('unix', 57), ('maintained', 57), ('communicating', 57), ('response', 56), ('extract', 56), ('assessment', 56), ('capital', 56), ('communicated', 56), ('defect', 56), ('keeping', 56), ('logistics', 56), ('satisfaction', 56), ('assistant', 56), ('infrastructure', 55), ('view', 55), ('shared', 55), ('cycle', 55), ('ount', 55), ('potential', 55), ('cost', 54), ('research', 54), ('feedback', 54), ('cbs', 54), ('modern', 54), ('achieved', 54), ('participate', 54), ('usa', 53), ('strategy', 53), ('complex', 53), ('visual', 53), ('corporation', 53), ('day', 53), ('free', 53), ('bitbucket', 53), ('deployed', 52), ('eclipse', 52), ('hana', 52), ('nlp', 52), ('actively', 52), ('backend', 52), ('android', 52), ('including', 52), ('air', 52), ('compliance', 52), ('administration', 52), ('sure', 52), ('reduce', 51), ('building', 51), ('world', 51), ('smooth', 51), ('satellite', 51), ('fine', 51), ('sloan', 51), ('regression', 50), ('comment', 50), ('redundant', 50), ('processed', 50), ('appraisal', 50), ('backup', 50), ('negotiation', 50), ('po', 50), ('local', 50), ('consignment', 50), ('receiving', 50), ('station', 50), ('sending', 50), ('tableau', 49), ('store', 49), ('use', 49), ('word', 48), ('processing', 48), ('neural', 48), ('effort', 48), ('consulting', 48), ('ocean', 48), ('app', 48), ('participated', 48), ('feature', 47), ('base', 47), ('company', 47), ('enhancement', 47), ('writing', 47), ('stipulated', 46), ('national', 46), ('detailed', 46), ('input', 46), ('iso', 46), ('self', 46), ('raised', 46), ('investment', 46), ('lab', 46), ('delivered', 45), ('identified', 45), ('prepare', 45), ('include', 45), ('center', 44), ('entity', 44), ('relationship', 44), ('pradesh', 44), ('real', 44), ('closely', 44), ('pr', 44), ('stage', 44), ('managed', 44), ('facility', 44), ('hsc', 44), ('admin', 44), ('venture', 44), ('take', 44), ('request', 44), ('visio', 44), ('transition', 44), ('focus', 44), ('visa', 44), ('hand', 44), ('crm', 43), ('logistic', 43), ('analyze', 43), ('present', 42), ('customized', 42), ('integrated', 42), ('erp', 42), ('running', 42), ('way', 42), ('marketing', 42), ('creation', 42), ('expense', 42), ('setting', 42), ('interface', 42), ('mobile', 42), ('go', 42), ('frontend', 42), ('o', 42), ('regularly', 42), ('visit', 41), ('image', 41), ('improvement', 41), ('involves', 41), ('got', 41), ('along', 41), ('offer', 41), ('completion', 41), ('provides', 41), ('sub', 41), ('transport', 41), ('rate', 41), ('coordination', 41), ('procurement', 41), ('hardware', 41), ('learn', 40), ('simple', 40), ('intelligence', 40), ('top', 40), ('mail', 40), ('solving', 40), ('ability', 40), ('level', 40), ('gsm', 40), ('metric', 40), ('book', 40), ('lob', 40), ('broker', 40), ('tat', 40), ('direct', 40), ('adherence', 40), ('ensured', 40), ('informing', 40), ('dr', 40), ('liasing', 40), ('negotiating', 40), ('forwarders', 40), ('clearance', 40), ('gea', 40), ('east', 40), ('oil', 40), ('dhl', 40), ('liaising', 40), ('agreed', 40), ('epks', 40), ('telephonic', 40), ('logic', 40), ('plant', 40), ('nd', 40), ('source', 39), ('paper', 39), ('higher', 39), ('calculation', 39), ('collect', 39), ('sdlc', 39), ('st', 39), ('coordinated', 39), ('competency', 39), ('get', 39), ('assist', 38), ('following', 38), ('insight', 38), ('allow', 38), ('student', 38), ('tax', 38), ('supported', 38), ('tomcat', 38), ('ssc', 38), ('enhance', 38), ('communicate', 38), ('achieve', 38), ('five', 37), ('sublime', 37), ('merchant', 37), ('government', 37), ('arranging', 37), ('sentiment', 36), ('modelling', 36), ('visualization', 36), ('give', 36), ('chain', 36), ('advance', 36), ('concept', 36), ('define', 36), ('apache', 36), ('competition', 36), ('trustbank', 36), ('bazar', 36), ('responsive', 36), ('softgst', 36), ('gstr', 36), ('asset', 36), ('page', 36), ('mock', 36), ('hosted', 36), ('jalloshband', 36), ('allahabad', 36), ('manner', 36), ('migration', 36), ('ionic', 36), ('onsite', 36), ('opportunity', 36), ('onshore', 36), ('appropriate', 36), ('institutional', 36), ('atm', 36), ('azure', 36), ('hour', 35), ('interest', 35), ('ubuntu', 35), ('find', 35), ('important', 35), ('show', 35), ('interaction', 35), ('phule', 35), ('address', 34), ('matlab', 34), ('respective', 34), ('course', 34), ('powerpoint', 34), ('junior', 34), ('phone', 34), ('three', 34), ('efficient', 34), ('custom', 34), ('executive', 34), ('strategic', 34), ('largest', 34), ('return', 34), ('keep', 34), ('certificate', 34), ('version', 34), ('lambda', 34), ('tibco', 34), ('spotfire', 34), ('ops', 34), ('instance', 34), ('prod', 34), ('automate', 34), ('cpi', 34), ('genworth', 34), ('deploying', 34), ('javaee', 34), ('aes', 34), ('color', 34), ('rfid', 34), ('send', 34), ('parkar', 34), ('ansible', 34), ('fully', 34), ('configuring', 34), ('permission', 34), ('merging', 34), ('file', 33), ('search', 33), ('basically', 33), ('face', 33), ('specially', 33), ('ording', 33), ('setup', 33), ('executing', 33), ('checking', 33), ('technique', 32), ('fraud', 32), ('done', 32), ('cross', 32), ('recognition', 32), ('taking', 32), ('create', 32), ('trained', 32), ('channel', 32), ('presentation', 32), ('played', 32), ('tata', 32), ('late', 32), ('coe', 32), ('met', 32), ('spoc', 32), ('alternate', 32), ('ups', 32), ('discussion', 32), ('correct', 32), ('generates', 32), ('clarification', 32), ('pan', 32), ('finalizing', 32), ('friendly', 31), ('ide', 31), ('price', 31), ('executed', 31), ('ibm', 31), ('expert', 31), ('hiring', 31), ('escalation', 31), ('tenure', 31), ('hr', 31), ('parameter', 31), ('essful', 31), ('open', 30), ('handle', 30), ('option', 30), ('best', 30), ('analytical', 30), ('interacting', 30), ('first', 30), ('interpersonal', 30), ('conference', 30), ('asp', 30), ('people', 30), ('location', 30), ('jdbc', 30), ('eptance', 30), ('io', 30), ('range', 30), ('fee', 30), ('improving', 30), ('reducing', 30), ('rcsa', 30), ('concurrence', 30), ('annual', 30), ('hire', 30), ('capacity', 30), ('lesson', 30), ('among', 30), ('storage', 30), ('country', 30), ('receivables', 30), ('loss', 30), ('delinquent', 30), ('correspondence', 30), ('discussing', 30), ('organizing', 30), ('general', 30), ('issuance', 30), ('sbi', 30), ('zaggle', 30), ('inr', 30), ('properly', 30), ('followed', 30), ('terminal', 30), ('submission', 30), ('travel', 30), ('middle', 30), ('moving', 30), ('transit', 30), ('discrepancy', 30), ('carrying', 30), ('worldwide', 30), ('transshipment', 30), ('serck', 30), ('kom', 30), ('focal', 30), ('furnace', 30), ('builder', 30), ('utility', 30), ('experion', 30), ('jbk', 30), ('hvac', 30), ('scada', 30), ('presence', 30), ('elastic', 29), ('human', 29), ('generating', 29), ('established', 29), ('tour', 29), ('right', 29), ('major', 29), ('proficiency', 29), ('savitribai', 29), ('bean', 29), ('fix', 29), ('predictive', 28), ('classifier', 28), ('survey', 28), ('recommendation', 28), ('public', 28), ('current', 28), ('presented', 28), ('capability', 28), ('strong', 28), ('energy', 28), ('contact', 28), ('mac', 28), ('deadline', 28), ('determine', 28), ('matrix', 28), ('follow', 28), ('achieving', 28), ('execute', 28), ('regular', 27), ('action', 27), ('auto', 27), ('prepared', 27), ('analyzed', 27), ('oriented', 27), ('nov', 27), ('exposys', 27), ('notepad', 27), ('fruit', 27), ('salary', 27), ('doctor', 27), ('invoicing', 27), ('side', 27), ('individual', 27), ('volume', 27), ('troubleshooting', 27), ('supporting', 27), ('associated', 27), ('component', 27), ('holding', 27), ('restore', 27), ('assurance', 26), ('question', 26), ('bot', 26), ('extracting', 26), ('offshore', 26), ('validate', 26), ('defined', 26), ('sr', 26), ('validation', 26), ('engine', 26), ('sense', 26), ('single', 26), ('generated', 26), ('dot', 26), ('proactive', 26), ('win', 26), ('generation', 26), ('directly', 26), ('kyc', 26), ('globally', 26), ('mentor', 26), ('complaint', 26), ('warehousing', 26), ('party', 26), ('productivity', 26), ('cv', 25), ('advanced', 25), ('better', 25), ('deploy', 25), ('phase', 25), ('internship', 25), ('graduate', 25), ('objective', 25), ('sector', 25), ('ii', 25), ('registration', 25), ('purpose', 25), ('agile', 25), ('video', 25), ('xml', 25), ('sign', 25), ('abstract', 25), ('performing', 25), ('panda', 24), ('numpy', 24), ('svm', 24), ('classification', 24), ('motor', 24), ('heat', 24), ('giving', 24), ('informed', 24), ('detection', 24), ('guidance', 24), ('digital', 24), ('object', 24), ('would', 24), ('agent', 24), ('drawing', 24), ('aegis', 24), ('form', 24), ('around', 24), ('particular', 24), ('curriculum', 24), ('inouvelle', 24), ('programmer', 24), ('story', 24), ('computing', 24), ('mssql', 24), ('impact', 24), ('critical', 24), ('defining', 24), ('rpa', 24), ('head', 24), ('method', 23), ('academy', 23), ('uml', 23), ('live', 23), ('primary', 23), ('towards', 23), ('collaboration', 23), ('device', 23), ('encrypted', 23), ('message', 23), ('mechanism', 23), ('vista', 23), ('yr', 23), ('corrective', 23), ('pmo', 23), ('manger', 23), ('uk', 23), ('measure', 23), ('positive', 22), ('social', 22), ('carried', 22), ('clinical', 22), ('forecast', 22), ('certified', 22), ('known', 22), ('madhya', 22), ('polytechnic', 22), ('subject', 22), ('expertise', 22), ('period', 22), ('market', 22), ('growth', 22), ('strength', 22), ('vertical', 22), ('consistently', 22), ('preventive', 22), ('finding', 22), ('record', 22), ('consistent', 22), ('determined', 22), ('sea', 22), ('cargo', 22), ('depending', 22), ('timeframe', 22), ('history', 22), ('bandra', 22), ('ordinate', 22), ('tree', 21), ('map', 21), ('scaling', 21), ('english', 21), ('tuning', 21), ('telangana', 21), ('includes', 21), ('f', 21), ('recognized', 21), ('suggestion', 21), ('introducing', 21), ('drive', 21), ('inc', 21), ('oct', 21), ('vice', 21), ('profit', 21)]\n"
          ]
        }
      ],
      "source": [
        "texts = new_df['join_words']\n",
        "\n",
        "def clean_text(text):\n",
        "    cleaned_text = re.findall(r'\\b\\w+\\b', text.lower())\n",
        "    return cleaned_text\n",
        "\n",
        "word_counts = []\n",
        "for text in texts:\n",
        "    cleaned_text = clean_text(text)\n",
        "    word_count = Counter(cleaned_text)\n",
        "    word_counts.append(word_count)\n",
        "\n",
        "combined_word_count = sum(word_counts, Counter())\n",
        "top_words = combined_word_count.most_common(1000)\n",
        "print(top_words)"
      ]
    },
    {
      "cell_type": "code",
      "execution_count": null,
      "metadata": {
        "id": "5wLAeVzDW5-6"
      },
      "outputs": [],
      "source": [
        "dataword = pd.DataFrame(top_words, columns=['Kata', 'Jumlah Kemunculan'])\n",
        "dataword\n",
        "\n",
        "texts = texts.apply(clean_data)\n",
        "texts = texts.apply(tokenize)\n",
        "texts = texts.apply(remove_stopwords)\n",
        "texts = texts.apply(lemmatize_word)\n",
        "texts = texts.apply(concat)"
      ]
    },
    {
      "cell_type": "code",
      "execution_count": null,
      "metadata": {
        "colab": {
          "base_uri": "https://localhost:8080/"
        },
        "id": "xrvrfxSiaAD0",
        "outputId": "1ff8427b-cb64-40c2-c64d-fc4f177ce1a0"
      },
      "outputs": [
        {
          "output_type": "execute_result",
          "data": {
            "text/plain": [
              "0      programming python panda numpy scipy scikit le...\n",
              "1      rgpv data scientist data scientist matelabs sk...\n",
              "2      area interest deep learning control design pro...\n",
              "3      r python sap hana tableau sap hana sql sap han...\n",
              "4      mca faridabad haryana data science internship ...\n",
              "                             ...                        \n",
              "649    software proficiency basic c sql sql java java...\n",
              "650    core competency ant maven git bitbucket jenkin...\n",
              "651    visa visa usa onsite visit sweden seattle post...\n",
              "652    software proficiency basic c sql sql java java...\n",
              "653    core competency ant maven git bitbucket jenkin...\n",
              "Name: join_words, Length: 292, dtype: object"
            ]
          },
          "metadata": {},
          "execution_count": 21
        }
      ],
      "source": [
        "texts"
      ]
    },
    {
      "cell_type": "markdown",
      "metadata": {
        "id": "FQm_uSRpQOjd"
      },
      "source": [
        "# Data Splitting"
      ]
    },
    {
      "cell_type": "code",
      "execution_count": null,
      "metadata": {
        "id": "vulyZaYiQKyh"
      },
      "outputs": [],
      "source": [
        "from sklearn.model_selection import train_test_split"
      ]
    },
    {
      "cell_type": "code",
      "execution_count": null,
      "metadata": {
        "colab": {
          "base_uri": "https://localhost:8080/"
        },
        "id": "KV2XUn2xQQwq",
        "outputId": "44c1357f-6fb2-4b6e-aa25-04fd438575d0"
      },
      "outputs": [
        {
          "output_type": "execute_result",
          "data": {
            "text/plain": [
              "((233,), (59,), (233,), (59,))"
            ]
          },
          "metadata": {},
          "execution_count": 23
        }
      ],
      "source": [
        "text = df['join_words'].values\n",
        "label = df['Category'].values\n",
        "text_train, text_test, label_train, label_test = train_test_split(text, label, test_size=0.2, stratify=label, random_state=42)\n",
        "text_train.shape, text_test.shape, label_train.shape, label_test.shape"
      ]
    },
    {
      "cell_type": "code",
      "execution_count": null,
      "metadata": {
        "id": "M9x-N4HFSV2q"
      },
      "outputs": [],
      "source": [
        "new_label = pd.get_dummies(label_train)"
      ]
    },
    {
      "cell_type": "code",
      "execution_count": null,
      "metadata": {
        "colab": {
          "base_uri": "https://localhost:8080/"
        },
        "id": "p5vaL726TZel",
        "outputId": "4dfee03f-b3ff-4932-e527-c99b4d9ee36e"
      },
      "outputs": [
        {
          "output_type": "execute_result",
          "data": {
            "text/plain": [
              "Index(['Business Analyst', 'Data Science', 'DevOps Engineer', 'Java Developer',\n",
              "       'Operations Manager', 'Web Designing'],\n",
              "      dtype='object')"
            ]
          },
          "metadata": {},
          "execution_count": 25
        }
      ],
      "source": [
        "new_label.columns"
      ]
    },
    {
      "cell_type": "markdown",
      "metadata": {
        "id": "ugE_fSkBQTwD"
      },
      "source": [
        "# Tokenizer & Padding"
      ]
    },
    {
      "cell_type": "code",
      "execution_count": null,
      "metadata": {
        "id": "PTxaqgxFQSAa"
      },
      "outputs": [],
      "source": [
        "from tensorflow.keras.preprocessing.text import Tokenizer\n",
        "from tensorflow.keras.preprocessing.sequence import pad_sequences"
      ]
    },
    {
      "cell_type": "code",
      "execution_count": null,
      "metadata": {
        "colab": {
          "base_uri": "https://localhost:8080/"
        },
        "id": "NwEueRQGRbqX",
        "outputId": "638fec64-d2cb-418a-a352-b9843e67e4e4"
      },
      "outputs": [
        {
          "output_type": "execute_result",
          "data": {
            "text/plain": [
              "numpy.ndarray"
            ]
          },
          "metadata": {},
          "execution_count": 27
        }
      ],
      "source": [
        "type(text_train)"
      ]
    },
    {
      "cell_type": "code",
      "execution_count": null,
      "metadata": {
        "colab": {
          "base_uri": "https://localhost:8080/"
        },
        "id": "rVnv-i0rRfL3",
        "outputId": "d7ee626f-e999-4dcc-d10b-c414c2bcec0d"
      },
      "outputs": [
        {
          "output_type": "execute_result",
          "data": {
            "text/plain": [
              "numpy.ndarray"
            ]
          },
          "metadata": {},
          "execution_count": 28
        }
      ],
      "source": [
        "type(text_test)"
      ]
    },
    {
      "cell_type": "code",
      "execution_count": null,
      "metadata": {
        "id": "7eLX1LOWQVA0"
      },
      "outputs": [],
      "source": [
        "tokenizer = Tokenizer(num_words=1024, oov_token='<OOV>')\n",
        "tokenizer.fit_on_texts(text_train)\n",
        "\n",
        "sequence_train = tokenizer.texts_to_sequences(text_train.tolist())\n",
        "sequence_test = tokenizer.texts_to_sequences(text_test.tolist())\n",
        "\n",
        "padded_train = pad_sequences(sequence_train)\n",
        "padded_test = pad_sequences(sequence_test)"
      ]
    },
    {
      "cell_type": "code",
      "execution_count": null,
      "metadata": {
        "colab": {
          "base_uri": "https://localhost:8080/"
        },
        "id": "nGeexzwip4d0",
        "outputId": "428e9348-faca-4180-d056-0f7729d5ce47"
      },
      "outputs": [
        {
          "output_type": "execute_result",
          "data": {
            "text/plain": [
              "((233, 1296), (59, 1296))"
            ]
          },
          "metadata": {},
          "execution_count": 30
        }
      ],
      "source": [
        "padded_train.shape, padded_test.shape"
      ]
    },
    {
      "cell_type": "code",
      "execution_count": null,
      "metadata": {
        "id": "najjNux6Qcjs"
      },
      "outputs": [],
      "source": [
        "from keras.utils import to_categorical\n",
        "\n",
        "# Mengubah label menjadi one-hot encoding\n",
        "label_train_encoded = pd.get_dummies(label_train)\n",
        "label_test_encoded = pd.get_dummies(label_test)"
      ]
    },
    {
      "cell_type": "code",
      "execution_count": null,
      "metadata": {
        "id": "3NB-mnmwS4DN"
      },
      "outputs": [],
      "source": [
        "import pickle\n",
        "with open('tokenizer.pickle', 'wb') as handle:\n",
        "    pickle.dump(tokenizer, handle, protocol=pickle.HIGHEST_PROTOCOL)"
      ]
    },
    {
      "cell_type": "markdown",
      "metadata": {
        "id": "t2xbiQ1K-ym2"
      },
      "source": [
        "# Modeling"
      ]
    },
    {
      "cell_type": "markdown",
      "metadata": {
        "id": "AJz2lpHY-zyT"
      },
      "source": [
        "## Model 1"
      ]
    },
    {
      "cell_type": "code",
      "execution_count": null,
      "metadata": {
        "id": "lmYQXpEKQd6r"
      },
      "outputs": [],
      "source": [
        "import tensorflow as tf\n",
        "\n",
        "class MyCallback(tf.keras.callbacks.Callback):\n",
        "    def on_epoch_end(self, epoch, logs={}):\n",
        "        if(logs.get('accuracy') > 0.95 and logs.get('val_accuracy') > 0.95):\n",
        "            print(\"\\nAkurasi model telah mencapai >90%\")\n",
        "            self.model.stop_training = True\n",
        "callbacks = MyCallback()\n",
        "\n",
        "model = tf.keras.Sequential([\n",
        "    tf.keras.layers.Embedding(input_dim=1400, output_dim=32),\n",
        "    tf.keras.layers.LSTM(64),\n",
        "    tf.keras.layers.Dense(32, activation='relu'),\n",
        "    tf.keras.layers.Dense(64, activation='relu'),\n",
        "    tf.keras.layers.Dense(6, activation='softmax')\n",
        "])\n",
        "\n",
        "model.compile(\n",
        "    optimizer=tf.keras.optimizers.Adam(learning_rate=1e-3),\n",
        "    loss='categorical_crossentropy',\n",
        "    metrics=['accuracy']\n",
        ")"
      ]
    },
    {
      "cell_type": "code",
      "execution_count": null,
      "metadata": {
        "colab": {
          "base_uri": "https://localhost:8080/"
        },
        "id": "WtPPywDLQiVF",
        "outputId": "aae0cb62-9b64-4089-d2b2-b650f2e83790"
      },
      "outputs": [
        {
          "name": "stdout",
          "output_type": "stream",
          "text": [
            "Epoch 1/150\n",
            "8/8 [==============================] - 5s 317ms/step - loss: 1.7861 - accuracy: 0.2618 - val_loss: 1.7735 - val_accuracy: 0.2881\n",
            "Epoch 2/150\n",
            "8/8 [==============================] - 2s 221ms/step - loss: 1.7614 - accuracy: 0.2876 - val_loss: 1.7251 - val_accuracy: 0.2881\n",
            "Epoch 3/150\n",
            "8/8 [==============================] - 2s 234ms/step - loss: 1.6776 - accuracy: 0.3476 - val_loss: 1.5210 - val_accuracy: 0.4237\n",
            "Epoch 4/150\n",
            "8/8 [==============================] - 1s 194ms/step - loss: 1.5869 - accuracy: 0.4506 - val_loss: 1.5600 - val_accuracy: 0.4746\n",
            "Epoch 5/150\n",
            "8/8 [==============================] - 2s 317ms/step - loss: 1.5002 - accuracy: 0.4678 - val_loss: 1.3837 - val_accuracy: 0.4746\n",
            "Epoch 6/150\n",
            "8/8 [==============================] - 2s 211ms/step - loss: 1.2814 - accuracy: 0.4678 - val_loss: 1.1126 - val_accuracy: 0.4746\n",
            "Epoch 7/150\n",
            "8/8 [==============================] - 1s 130ms/step - loss: 1.0930 - accuracy: 0.5322 - val_loss: 0.9806 - val_accuracy: 0.6102\n",
            "Epoch 8/150\n",
            "8/8 [==============================] - 2s 198ms/step - loss: 0.9221 - accuracy: 0.5579 - val_loss: 0.8230 - val_accuracy: 0.6102\n",
            "Epoch 9/150\n",
            "8/8 [==============================] - 1s 161ms/step - loss: 0.7860 - accuracy: 0.5880 - val_loss: 0.6798 - val_accuracy: 0.7627\n",
            "Epoch 10/150\n",
            "8/8 [==============================] - 2s 196ms/step - loss: 0.6157 - accuracy: 0.7554 - val_loss: 0.5001 - val_accuracy: 0.8814\n",
            "Epoch 11/150\n",
            "8/8 [==============================] - 3s 374ms/step - loss: 0.4596 - accuracy: 0.8498 - val_loss: 0.3743 - val_accuracy: 0.8983\n",
            "Epoch 12/150\n",
            "8/8 [==============================] - 3s 357ms/step - loss: 0.3113 - accuracy: 0.9056 - val_loss: 0.2757 - val_accuracy: 0.8983\n",
            "Epoch 13/150\n",
            "8/8 [==============================] - 2s 301ms/step - loss: 0.2179 - accuracy: 0.9185 - val_loss: 0.1942 - val_accuracy: 0.9322\n",
            "Epoch 14/150\n",
            "8/8 [==============================] - ETA: 0s - loss: 0.1518 - accuracy: 0.9528\n",
            "Akurasi model telah mencapai >90%\n",
            "8/8 [==============================] - 1s 127ms/step - loss: 0.1518 - accuracy: 0.9528 - val_loss: 0.1373 - val_accuracy: 1.0000\n"
          ]
        }
      ],
      "source": [
        "hist = model.fit(padded_train, label_train_encoded, epochs=150,\n",
        "                 validation_data=(padded_test, label_test_encoded), verbose=1,\n",
        "                 callbacks=[callbacks])"
      ]
    },
    {
      "cell_type": "code",
      "execution_count": null,
      "metadata": {
        "colab": {
          "base_uri": "https://localhost:8080/",
          "height": 472
        },
        "id": "0kNn2IlAQk7k",
        "outputId": "c86e9b7b-f0ce-429d-be84-505f6f8dd532"
      },
      "outputs": [
        {
          "data": {
            "image/png": "[encoded data removed]",
            "text/plain": [
              "<Figure size 640x480 with 1 Axes>"
            ]
          },
          "metadata": {},
          "output_type": "display_data"
        }
      ],
      "source": [
        "plt.plot(hist.history['accuracy'])\n",
        "plt.plot(hist.history['val_accuracy'])\n",
        "plt.title('Akurasi Model')\n",
        "plt.xlabel('epoch')\n",
        "plt.ylabel('accuracy')\n",
        "plt.legend(['train', 'test'], loc='upper left')\n",
        "plt.show()"
      ]
    },
    {
      "cell_type": "code",
      "execution_count": null,
      "metadata": {
        "colab": {
          "base_uri": "https://localhost:8080/",
          "height": 472
        },
        "id": "6Eels_JRQm2-",
        "outputId": "2b508df0-22ab-4d0c-adfd-ade8670db31f"
      },
      "outputs": [
        {
          "data": {
            "image/png": "[encoded data removed]",
            "text/plain": [
              "<Figure size 640x480 with 1 Axes>"
            ]
          },
          "metadata": {},
          "output_type": "display_data"
        }
      ],
      "source": [
        "plt.plot(hist.history['loss'])\n",
        "plt.plot(hist.history['val_loss'])\n",
        "plt.title('Loss Model')\n",
        "plt.xlabel('epoch')\n",
        "plt.ylabel('loss')\n",
        "plt.legend(['train', 'test'], loc='upper right')\n",
        "plt.show()"
      ]
    },
    {
      "cell_type": "code",
      "execution_count": null,
      "metadata": {
        "id": "lce1Gjy8rC6K"
      },
      "outputs": [],
      "source": [
        "def predict(model, text):\n",
        "# tokenize, remove_stopword, lemmatize, concat\n",
        "  text = tokenize(text)\n",
        "  text = remove_stopwords(text)\n",
        "  text = lemmatize_word(text)\n",
        "  text = concat(text)\n",
        "\n",
        "  sequence = tokenizer.texts_to_sequences([text])\n",
        "  padded = pad_sequences(sequence)\n",
        "\n",
        "  pred = model.predict(padded)\n",
        "\n",
        "  # kategori = ['DevOps Engineer', 'Data Science', 'Business Analyst',\n",
        "  #      'Web Designing', 'Java Developer', 'Operations Manager']\n",
        "\n",
        "  kategori = new_label.columns\n",
        "  print(kategori)\n",
        "\n",
        "  # Mengambil kategori dengan probabilitas tertinggi untuk setiap baris\n",
        "  prediction_kategori = [kategori[np.argmax(row)] for row in pred]\n",
        "\n",
        "  return prediction_kategori, pred"
      ]
    },
    {
      "cell_type": "code",
      "execution_count": null,
      "metadata": {
        "id": "OT0md7zGevAd"
      },
      "outputs": [],
      "source": [
        "text = \"programming python panda numpy scipy scikit learn matplotlib sql java javascript jquery machine learning regression svm na bayes knn random forest decision tree boosting technique cluster analysis word embedding sentiment analysis natural language processing dimensionality reduction topic modelling lda nmf pca neural net database visualization mysql sqlserver cassandra hbase elasticsearch j dc j plotly kibana matplotlib ggplot tableau regular expression html cs angular logstash kafka python flask git docker computer vision open cv understanding deep learning detail data science assurance associate data science assurance associate ernst young llp skill detail javascript month jquery month python monthscompany detail ernst young llp fraud investigation dispute service assurance assisted review tar assisted review assist elerating review process run analytics generate report core member helped developing automated review platform tool scratch assisting discovery domain tool implement predictive coding topic modelling automating review resulting reduced labor cost time spent lawyer review understand end end flow solution research development classification model predictive analysis mining information present data worked analyzing output precision monitoring entire tool tar\""
      ]
    },
    {
      "cell_type": "code",
      "execution_count": null,
      "metadata": {
        "colab": {
          "background_save": true
        },
        "id": "YOGB_45qeiOc",
        "outputId": "3179687f-47f9-407e-cb45-bd3590184a50"
      },
      "outputs": [
        {
          "name": "stdout",
          "output_type": "stream",
          "text": [
            "1/1 [==============================] - 0s 36ms/step\n",
            "Index(['Business Analyst', 'Data Science', 'DevOps Engineer', 'Java Developer',\n",
            "       'Operations Manager', 'Web Designing'],\n",
            "      dtype='object')\n"
          ]
        },
        {
          "data": {
            "text/plain": [
              "(['Data Science'],\n",
              " array([[1.7538480e-02, 9.3633890e-01, 8.2718339e-03, 2.4961703e-02,\n",
              "         6.1009318e-04, 1.2279077e-02]], dtype=float32))"
            ]
          },
          "execution_count": 149,
          "metadata": {},
          "output_type": "execute_result"
        }
      ],
      "source": [
        "predict(model, text)"
      ]
    },
    {
      "cell_type": "code",
      "execution_count": null,
      "metadata": {
        "colab": {
          "base_uri": "https://localhost:8080/"
        },
        "id": "PpfpGQF1a9v7",
        "outputId": "1df24c3f-0a18-4d8f-d54f-1e5839686b95"
      },
      "outputs": [
        {
          "data": {
            "text/plain": [
              "Index(['Business Analyst', 'Data Science', 'DevOps Engineer', 'Java Developer',\n",
              "       'Operations Manager', 'Web Designing'],\n",
              "      dtype='object')"
            ]
          },
          "execution_count": 139,
          "metadata": {},
          "output_type": "execute_result"
        }
      ],
      "source": [
        "new_label.columns"
      ]
    },
    {
      "cell_type": "code",
      "execution_count": null,
      "metadata": {
        "id": "CE5XIefKUfcb"
      },
      "outputs": [],
      "source": [
        "model.save('job_classifier.h5')"
      ]
    },
    {
      "cell_type": "code",
      "execution_count": null,
      "metadata": {
        "id": "YdTx1UbNU-az"
      },
      "outputs": [],
      "source": [
        "loaded_model = tf.keras.models.load_model('./job_classifier.h5')"
      ]
    },
    {
      "cell_type": "code",
      "execution_count": null,
      "metadata": {
        "colab": {
          "base_uri": "https://localhost:8080/"
        },
        "id": "x8W5zj3pJKjG",
        "outputId": "7aac55b1-6232-40c4-cbcb-5887d7fcd2cf"
      },
      "outputs": [
        {
          "name": "stdout",
          "output_type": "stream",
          "text": [
            "1/1 [==============================] - 0s 27ms/step\n",
            "Index(['Business Analyst', 'Data Science', 'DevOps Engineer', 'Java Developer',\n",
            "       'Operations Manager', 'Web Designing'],\n",
            "      dtype='object')\n"
          ]
        },
        {
          "data": {
            "text/plain": [
              "(['DevOps Engineer'],\n",
              " array([[0.1575642 , 0.17299509, 0.2587512 , 0.10696548, 0.10553417,\n",
              "         0.19818982]], dtype=float32))"
            ]
          },
          "execution_count": 143,
          "metadata": {},
          "output_type": "execute_result"
        }
      ],
      "source": [
        "text = \"python mysql\"\n",
        "predict(loaded_model, text)"
      ]
    },
    {
      "cell_type": "code",
      "execution_count": null,
      "metadata": {
        "colab": {
          "base_uri": "https://localhost:8080/",
          "height": 8416
        },
        "id": "cEzBgaU4DGo9",
        "outputId": "cd751e61-fd35-4f28-f49b-72275c5dfc18"
      },
      "outputs": [
        {
          "data": {
            "text/html": [
              "\n",
              "  <div id=\"df-a0817e6a-e305-4d83-bc94-feefb94833fc\">\n",
              "    <div class=\"colab-df-container\">\n",
              "      <div>\n",
              "<style scoped>\n",
              "    .dataframe tbody tr th:only-of-type {\n",
              "        vertical-align: middle;\n",
              "    }\n",
              "\n",
              "    .dataframe tbody tr th {\n",
              "        vertical-align: top;\n",
              "    }\n",
              "\n",
              "    .dataframe thead th {\n",
              "        text-align: right;\n",
              "    }\n",
              "</style>\n",
              "<table border=\"1\" class=\"dataframe\">\n",
              "  <thead>\n",
              "    <tr style=\"text-align: right;\">\n",
              "      <th></th>\n",
              "      <th>Category</th>\n",
              "      <th>join_words</th>\n",
              "    </tr>\n",
              "  </thead>\n",
              "  <tbody>\n",
              "    <tr>\n",
              "      <th>0</th>\n",
              "      <td>Data Science</td>\n",
              "      <td>programming python panda numpy scipy scikit le...</td>\n",
              "    </tr>\n",
              "    <tr>\n",
              "      <th>1</th>\n",
              "      <td>Data Science</td>\n",
              "      <td>detail rgpv data scientist data scientist mate...</td>\n",
              "    </tr>\n",
              "    <tr>\n",
              "      <th>2</th>\n",
              "      <td>Data Science</td>\n",
              "      <td>area interest deep learning control design pro...</td>\n",
              "    </tr>\n",
              "    <tr>\n",
              "      <th>3</th>\n",
              "      <td>Data Science</td>\n",
              "      <td>r python sap hana tableau sap hana sql sap han...</td>\n",
              "    </tr>\n",
              "    <tr>\n",
              "      <th>4</th>\n",
              "      <td>Data Science</td>\n",
              "      <td>detail mca faridabad haryana data science inte...</td>\n",
              "    </tr>\n",
              "    <tr>\n",
              "      <th>5</th>\n",
              "      <td>Data Science</td>\n",
              "      <td>c basic iot python matlab data science machine...</td>\n",
              "    </tr>\n",
              "    <tr>\n",
              "      <th>6</th>\n",
              "      <td>Data Science</td>\n",
              "      <td>python tableau data visualization r studio mac...</td>\n",
              "    </tr>\n",
              "    <tr>\n",
              "      <th>7</th>\n",
              "      <td>Data Science</td>\n",
              "      <td>detail tech rayat bahra institute engineering ...</td>\n",
              "    </tr>\n",
              "    <tr>\n",
              "      <th>8</th>\n",
              "      <td>Data Science</td>\n",
              "      <td>ability quickly grasp technical aspect willing...</td>\n",
              "    </tr>\n",
              "    <tr>\n",
              "      <th>9</th>\n",
              "      <td>Data Science</td>\n",
              "      <td>expertise data quantitative analysis decision ...</td>\n",
              "    </tr>\n",
              "    <tr>\n",
              "      <th>10</th>\n",
              "      <td>Data Science</td>\n",
              "      <td>programming python panda numpy scipy scikit le...</td>\n",
              "    </tr>\n",
              "    <tr>\n",
              "      <th>11</th>\n",
              "      <td>Data Science</td>\n",
              "      <td>detail rgpv data scientist data scientist mate...</td>\n",
              "    </tr>\n",
              "    <tr>\n",
              "      <th>12</th>\n",
              "      <td>Data Science</td>\n",
              "      <td>area interest deep learning control design pro...</td>\n",
              "    </tr>\n",
              "    <tr>\n",
              "      <th>13</th>\n",
              "      <td>Data Science</td>\n",
              "      <td>r python sap hana tableau sap hana sql sap han...</td>\n",
              "    </tr>\n",
              "    <tr>\n",
              "      <th>14</th>\n",
              "      <td>Data Science</td>\n",
              "      <td>detail mca faridabad haryana data science inte...</td>\n",
              "    </tr>\n",
              "    <tr>\n",
              "      <th>15</th>\n",
              "      <td>Data Science</td>\n",
              "      <td>c basic iot python matlab data science machine...</td>\n",
              "    </tr>\n",
              "    <tr>\n",
              "      <th>16</th>\n",
              "      <td>Data Science</td>\n",
              "      <td>python tableau data visualization r studio mac...</td>\n",
              "    </tr>\n",
              "    <tr>\n",
              "      <th>17</th>\n",
              "      <td>Data Science</td>\n",
              "      <td>detail tech rayat bahra institute engineering ...</td>\n",
              "    </tr>\n",
              "    <tr>\n",
              "      <th>18</th>\n",
              "      <td>Data Science</td>\n",
              "      <td>ability quickly grasp technical aspect willing...</td>\n",
              "    </tr>\n",
              "    <tr>\n",
              "      <th>19</th>\n",
              "      <td>Data Science</td>\n",
              "      <td>expertise data quantitative analysis decision ...</td>\n",
              "    </tr>\n",
              "    <tr>\n",
              "      <th>20</th>\n",
              "      <td>Data Science</td>\n",
              "      <td>programming python panda numpy scipy scikit le...</td>\n",
              "    </tr>\n",
              "    <tr>\n",
              "      <th>21</th>\n",
              "      <td>Data Science</td>\n",
              "      <td>detail rgpv data scientist data scientist mate...</td>\n",
              "    </tr>\n",
              "    <tr>\n",
              "      <th>22</th>\n",
              "      <td>Data Science</td>\n",
              "      <td>area interest deep learning control design pro...</td>\n",
              "    </tr>\n",
              "    <tr>\n",
              "      <th>23</th>\n",
              "      <td>Data Science</td>\n",
              "      <td>r python sap hana tableau sap hana sql sap han...</td>\n",
              "    </tr>\n",
              "    <tr>\n",
              "      <th>24</th>\n",
              "      <td>Data Science</td>\n",
              "      <td>detail mca faridabad haryana data science inte...</td>\n",
              "    </tr>\n",
              "    <tr>\n",
              "      <th>25</th>\n",
              "      <td>Data Science</td>\n",
              "      <td>c basic iot python matlab data science machine...</td>\n",
              "    </tr>\n",
              "    <tr>\n",
              "      <th>26</th>\n",
              "      <td>Data Science</td>\n",
              "      <td>python tableau data visualization r studio mac...</td>\n",
              "    </tr>\n",
              "    <tr>\n",
              "      <th>27</th>\n",
              "      <td>Data Science</td>\n",
              "      <td>detail tech rayat bahra institute engineering ...</td>\n",
              "    </tr>\n",
              "    <tr>\n",
              "      <th>28</th>\n",
              "      <td>Data Science</td>\n",
              "      <td>ability quickly grasp technical aspect willing...</td>\n",
              "    </tr>\n",
              "    <tr>\n",
              "      <th>29</th>\n",
              "      <td>Data Science</td>\n",
              "      <td>expertise data quantitative analysis decision ...</td>\n",
              "    </tr>\n",
              "    <tr>\n",
              "      <th>30</th>\n",
              "      <td>Data Science</td>\n",
              "      <td>programming python panda numpy scipy scikit le...</td>\n",
              "    </tr>\n",
              "    <tr>\n",
              "      <th>31</th>\n",
              "      <td>Data Science</td>\n",
              "      <td>detail rgpv data scientist data scientist mate...</td>\n",
              "    </tr>\n",
              "    <tr>\n",
              "      <th>32</th>\n",
              "      <td>Data Science</td>\n",
              "      <td>area interest deep learning control design pro...</td>\n",
              "    </tr>\n",
              "    <tr>\n",
              "      <th>33</th>\n",
              "      <td>Data Science</td>\n",
              "      <td>r python sap hana tableau sap hana sql sap han...</td>\n",
              "    </tr>\n",
              "    <tr>\n",
              "      <th>34</th>\n",
              "      <td>Data Science</td>\n",
              "      <td>detail mca faridabad haryana data science inte...</td>\n",
              "    </tr>\n",
              "    <tr>\n",
              "      <th>35</th>\n",
              "      <td>Data Science</td>\n",
              "      <td>c basic iot python matlab data science machine...</td>\n",
              "    </tr>\n",
              "    <tr>\n",
              "      <th>36</th>\n",
              "      <td>Data Science</td>\n",
              "      <td>python tableau data visualization r studio mac...</td>\n",
              "    </tr>\n",
              "    <tr>\n",
              "      <th>37</th>\n",
              "      <td>Data Science</td>\n",
              "      <td>detail tech rayat bahra institute engineering ...</td>\n",
              "    </tr>\n",
              "    <tr>\n",
              "      <th>38</th>\n",
              "      <td>Data Science</td>\n",
              "      <td>ability quickly grasp technical aspect willing...</td>\n",
              "    </tr>\n",
              "    <tr>\n",
              "      <th>39</th>\n",
              "      <td>Data Science</td>\n",
              "      <td>expertise data quantitative analysis decision ...</td>\n",
              "    </tr>\n",
              "  </tbody>\n",
              "</table>\n",
              "</div>\n",
              "      <button class=\"colab-df-convert\" onclick=\"convertToInteractive('df-a0817e6a-e305-4d83-bc94-feefb94833fc')\"\n",
              "              title=\"Convert this dataframe to an interactive table.\"\n",
              "              style=\"display:none;\">\n",
              "        \n",
              "  <svg xmlns=\"http://www.w3.org/2000/svg\" height=\"24px\"viewBox=\"0 0 24 24\"\n",
              "       width=\"24px\">\n",
              "    <path d=\"M0 0h24v24H0V0z\" fill=\"none\"/>\n",
              "    <path d=\"M18.56 5.44l.94 2.06.94-2.06 2.06-.94-2.06-.94-.94-2.06-.94 2.06-2.06.94zm-11 1L8.5 8.5l.94-2.06 2.06-.94-2.06-.94L8.5 2.5l-.94 2.06-2.06.94zm10 10l.94 2.06.94-2.06 2.06-.94-2.06-.94-.94-2.06-.94 2.06-2.06.94z\"/><path d=\"M17.41 7.96l-1.37-1.37c-.4-.4-.92-.59-1.43-.59-.52 0-1.04.2-1.43.59L10.3 9.45l-7.72 7.72c-.78.78-.78 2.05 0 2.83L4 21.41c.39.39.9.59 1.41.59.51 0 1.02-.2 1.41-.59l7.78-7.78 2.81-2.81c.8-.78.8-2.07 0-2.86zM5.41 20L4 18.59l7.72-7.72 1.47 1.35L5.41 20z\"/>\n",
              "  </svg>\n",
              "      </button>\n",
              "      \n",
              "  <style>\n",
              "    .colab-df-container {\n",
              "      display:flex;\n",
              "      flex-wrap:wrap;\n",
              "      gap: 12px;\n",
              "    }\n",
              "\n",
              "    .colab-df-convert {\n",
              "      background-color: #E8F0FE;\n",
              "      border: none;\n",
              "      border-radius: 50%;\n",
              "      cursor: pointer;\n",
              "      display: none;\n",
              "      fill: #1967D2;\n",
              "      height: 32px;\n",
              "      padding: 0 0 0 0;\n",
              "      width: 32px;\n",
              "    }\n",
              "\n",
              "    .colab-df-convert:hover {\n",
              "      background-color: #E2EBFA;\n",
              "      box-shadow: 0px 1px 2px rgba(60, 64, 67, 0.3), 0px 1px 3px 1px rgba(60, 64, 67, 0.15);\n",
              "      fill: #174EA6;\n",
              "    }\n",
              "\n",
              "    [theme=dark] .colab-df-convert {\n",
              "      background-color: #3B4455;\n",
              "      fill: #D2E3FC;\n",
              "    }\n",
              "\n",
              "    [theme=dark] .colab-df-convert:hover {\n",
              "      background-color: #434B5C;\n",
              "      box-shadow: 0px 1px 3px 1px rgba(0, 0, 0, 0.15);\n",
              "      filter: drop-shadow(0px 1px 2px rgba(0, 0, 0, 0.3));\n",
              "      fill: #FFFFFF;\n",
              "    }\n",
              "  </style>\n",
              "\n",
              "      <script>\n",
              "        const buttonEl =\n",
              "          document.querySelector('#df-a0817e6a-e305-4d83-bc94-feefb94833fc button.colab-df-convert');\n",
              "        buttonEl.style.display =\n",
              "          google.colab.kernel.accessAllowed ? 'block' : 'none';\n",
              "\n",
              "        async function convertToInteractive(key) {\n",
              "          const element = document.querySelector('#df-a0817e6a-e305-4d83-bc94-feefb94833fc');\n",
              "          const dataTable =\n",
              "            await google.colab.kernel.invokeFunction('convertToInteractive',\n",
              "                                                     [key], {});\n",
              "          if (!dataTable) return;\n",
              "\n",
              "          const docLinkHtml = 'Like what you see? Visit the ' +\n",
              "            '<a target=\"_blank\" href=https://colab.research.google.com/notebooks/data_table.ipynb>data table notebook</a>'\n",
              "            + ' to learn more about interactive tables.';\n",
              "          element.innerHTML = '';\n",
              "          dataTable['output_type'] = 'display_data';\n",
              "          await google.colab.output.renderOutput(dataTable, element);\n",
              "          const docLink = document.createElement('div');\n",
              "          docLink.innerHTML = docLinkHtml;\n",
              "          element.appendChild(docLink);\n",
              "        }\n",
              "      </script>\n",
              "    </div>\n",
              "  </div>\n",
              "  "
            ],
            "text/plain": [
              "        Category                                         join_words\n",
              "0   Data Science  programming python panda numpy scipy scikit le...\n",
              "1   Data Science  detail rgpv data scientist data scientist mate...\n",
              "2   Data Science  area interest deep learning control design pro...\n",
              "3   Data Science  r python sap hana tableau sap hana sql sap han...\n",
              "4   Data Science  detail mca faridabad haryana data science inte...\n",
              "5   Data Science  c basic iot python matlab data science machine...\n",
              "6   Data Science  python tableau data visualization r studio mac...\n",
              "7   Data Science  detail tech rayat bahra institute engineering ...\n",
              "8   Data Science  ability quickly grasp technical aspect willing...\n",
              "9   Data Science  expertise data quantitative analysis decision ...\n",
              "10  Data Science  programming python panda numpy scipy scikit le...\n",
              "11  Data Science  detail rgpv data scientist data scientist mate...\n",
              "12  Data Science  area interest deep learning control design pro...\n",
              "13  Data Science  r python sap hana tableau sap hana sql sap han...\n",
              "14  Data Science  detail mca faridabad haryana data science inte...\n",
              "15  Data Science  c basic iot python matlab data science machine...\n",
              "16  Data Science  python tableau data visualization r studio mac...\n",
              "17  Data Science  detail tech rayat bahra institute engineering ...\n",
              "18  Data Science  ability quickly grasp technical aspect willing...\n",
              "19  Data Science  expertise data quantitative analysis decision ...\n",
              "20  Data Science  programming python panda numpy scipy scikit le...\n",
              "21  Data Science  detail rgpv data scientist data scientist mate...\n",
              "22  Data Science  area interest deep learning control design pro...\n",
              "23  Data Science  r python sap hana tableau sap hana sql sap han...\n",
              "24  Data Science  detail mca faridabad haryana data science inte...\n",
              "25  Data Science  c basic iot python matlab data science machine...\n",
              "26  Data Science  python tableau data visualization r studio mac...\n",
              "27  Data Science  detail tech rayat bahra institute engineering ...\n",
              "28  Data Science  ability quickly grasp technical aspect willing...\n",
              "29  Data Science  expertise data quantitative analysis decision ...\n",
              "30  Data Science  programming python panda numpy scipy scikit le...\n",
              "31  Data Science  detail rgpv data scientist data scientist mate...\n",
              "32  Data Science  area interest deep learning control design pro...\n",
              "33  Data Science  r python sap hana tableau sap hana sql sap han...\n",
              "34  Data Science  detail mca faridabad haryana data science inte...\n",
              "35  Data Science  c basic iot python matlab data science machine...\n",
              "36  Data Science  python tableau data visualization r studio mac...\n",
              "37  Data Science  detail tech rayat bahra institute engineering ...\n",
              "38  Data Science  ability quickly grasp technical aspect willing...\n",
              "39  Data Science  expertise data quantitative analysis decision ..."
            ]
          },
          "execution_count": 147,
          "metadata": {},
          "output_type": "execute_result"
        }
      ],
      "source": [
        "new_df[df['Category'] == \"Data Science\"]"
      ]
    },
    {
      "cell_type": "code",
      "execution_count": null,
      "metadata": {
        "id": "7CigVaMsEa2H"
      },
      "outputs": [],
      "source": []
    }
  ],
  "metadata": {
    "accelerator": "GPU",
    "colab": {
      "provenance": []
    },
    "kernelspec": {
      "display_name": "Python 3",
      "name": "python3"
    },
    "language_info": {
      "name": "python"
    }
  },
  "nbformat": 4,
  "nbformat_minor": 0
}