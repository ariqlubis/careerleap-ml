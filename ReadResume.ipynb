{
 "cells": [
  {
   "cell_type": "code",
   "execution_count": 35,
   "metadata": {
    "colab": {
     "base_uri": "https://localhost:8080/"
    },
    "id": "LRj6FqLOG-g-",
    "outputId": "ac92fe41-93e7-42d4-c5fa-192a92e7c732"
   },
   "outputs": [],
   "source": [
    "#!pip install pytesseract\n",
    "#!pip install pypdf2\n",
    "#!pip install pdf2image\n",
    "\n",
    "#!pip install tika\n",
    "#!pip install nltk\n",
    "#!pip install tk\n",
    "\n",
    "#from google.colab import drive\n",
    "#drive.mount('/content/drive')"
   ]
  },
  {
   "cell_type": "code",
   "execution_count": 36,
   "metadata": {
    "id": "rorGUmzP8Zdx"
   },
   "outputs": [],
   "source": [
    "import re\n",
    "import spacy\n",
    "import pandas as pd\n",
    "from spacy.matcher import Matcher"
   ]
  },
  {
   "cell_type": "code",
   "execution_count": 37,
   "metadata": {
    "colab": {
     "base_uri": "https://localhost:8080/"
    },
    "id": "SYEEI7ZqKBAL",
    "outputId": "d3ad45fb-9205-433d-94b0-6df775525bb1"
   },
   "outputs": [
    {
     "name": "stdout",
     "output_type": "stream",
     "text": [
      "\n",
      "\n",
      "\n",
      "\n",
      "\n",
      "\n",
      "\n",
      "\n",
      "\n",
      "\n",
      "\n",
      "\n",
      "\n",
      "\n",
      "\n",
      "\n",
      "\n",
      "\n",
      "\n",
      "\n",
      "\n",
      "\n",
      "\n",
      "\n",
      "\n",
      "\n",
      "\n",
      "\n",
      "\n",
      "\n",
      "\n",
      "Manan \n",
      "Software Developer and Software Engineers \n",
      "   \n",
      "\n",
      "PROFILE SUMMARY \n",
      "\n",
      "I have Total 5+ years of experience in IT Field.Working with UFFIZIO INDIA SOFTWARE CONSULTANT Pvt. Ltd. (Valsad) and having 1 \n",
      "\n",
      "year 2 months of experience as a Software Professional in build Web base website for Vehicle Tracking system using Java, Ajax and \n",
      "\n",
      "JavaScript. Working with Verz Design Pte Ltd. (Singapore) and having 1 year of experience as a Software Professional in build ecommerce \n",
      "\n",
      "website using Magneto and WordPress. \n",
      "\n",
      "Have good exposure to the entire Software Development Life Cycle viz. Requirements Collection, Design, Implementation and testing \n",
      "\n",
      "activities. Following is my experience summary that spans through different areas \n",
      "\n",
      " \n",
      "\n",
      " Dynamic and versatile IT Professional with a Master’s Degree in Information Technology and 3+ Years of Experience determined to \n",
      "\n",
      "carve a successful career in the field of software Programming \n",
      "\n",
      " Experience in Designing, Coding, Testing, Debugging and Documenting work products \n",
      "\n",
      " Have a good knowledge of system/product development life cycle, Design patterns and agile methodology. \n",
      "\n",
      " Got good skills to take up any framework of a company/client. \n",
      "\n",
      " Good Experience with JSP and Servlets. \n",
      "\n",
      " Have a good knowledge in object oriented programming. \n",
      "\n",
      " Experienced in MySQL and SQL server. \n",
      "\n",
      " Experienced in using AJAX, JavaScript and Cascading Style Sheets (CSS). \n",
      "\n",
      " Experienced in Magneto and WordPress \n",
      "\n",
      " \n",
      "TECHNICAL SKILLS \n",
      "\n",
      "Language   HTML, CSS C, C++, PHP, Magneto, WordPress, Ext Js, Java, Ajax, JavaScript \n",
      "Platforms   J2EE \n",
      "\n",
      "OS   Windows Vista/XP/7/8/10/11 \n",
      "\n",
      "Database   MySQL, SQL Server \n",
      "\n",
      "Other    XML , Angular JS, React JS \n",
      "\n",
      "Learning new Technology  DevOPS, kubernetes \n",
      " \n",
      "\n",
      "EXPERIENCE \n",
      " \n",
      "\n",
      " INFOCOM FZ-LLC (Dubai) (December 2020 Till Present in Dubai) \n",
      "\n",
      "Project Name POWER ware \n",
      " \n",
      "\n",
      "Client VFS Global, NMC Hospital, NBF Bank, lulu International Exchange, Co – operative Bank, Sharaf        \n",
      "\n",
      "Exchange, Transguard \n",
      "\n",
      " \n",
      "Description of the project we have developing the software of Token Generator for VFS Global and also giving the Supporting \n",
      "\n",
      "and Training to Customer End. \n",
      "\n",
      "We have developing the software of Customer Feedback for VOA Global and also giving the \n",
      "\n",
      "Supporting And Training to Customer End. \n",
      "\n",
      "We have developing the software of Token Generator for NMC Hospital and also giving the \n",
      "\n",
      "Supporting and Training to Customer End. \n",
      "\n",
      "We have developing the software of Bulk cash Deposit Machine for lulu international Exchange \n",
      "\n",
      "And Sharaf Exchange also giving the Supporting and Training to Customer End. \n",
      "\n",
      "We have developing the software of Bulk cash Deposit Machine Like ATM for NBF Bank and also \n",
      "\n",
      "Giving the Supporting . \n",
      "\n",
      " \n",
      "Role SR. Software Developer and Software Engineer \n",
      "\n",
      "\n",
      "\n",
      "Responsibility  \n",
      "• Requirement Gathering \n",
      "\n",
      "• Design and developing the user interface. \n",
      "\n",
      "• Designing and implementing the front end and back end logic. \n",
      "\n",
      "• Coordinating with onsite Managers and tech lead \n",
      "\n",
      "• Providing daily status/issue. \n",
      "\n",
      "• Providing online to support to Tech lead \n",
      "\n",
      "Tools/Technologies Java, JavaScript, Ext JS, CSS, DOT Net, HTML ,SQL Server, PHP, SQL \n",
      "\n",
      " \n",
      "\n",
      "Verzdesign Pte Ltd. (Valsad) (November 2019 to December 2020) \n",
      "\n",
      "Project Name Ecommerce Website \n",
      "Description of the project Project deals with Other Singapore Company. \n",
      "Role and SR. Software Developer \n",
      "Responsibility \n",
      "\n",
      "• Requirement Gathering \n",
      "\n",
      "• Requirement Fulfill of Customer \n",
      "\n",
      "• Design and developing the user interface. \n",
      "\n",
      "• Designing and implementing the front end and back end logic. \n",
      "\n",
      "• Coordinating with onsite Managers and tech lead \n",
      "\n",
      "• Providing online to support to Tech lead \n",
      "\n",
      " \n",
      "Tools/Technologies Magneto, WordPress \n",
      "\n",
      " \n",
      "\n",
      "Atul Ltd.(Intenship ) (Atul) (December 2018 To September 2019) \n",
      "\n",
      "Project Name Product tracking system \n",
      "Description of the project Company Create a Project Product Tracking System. \n",
      "Role JR. Software Developer \n",
      "Responsibility \n",
      "\n",
      "• Requirement Gathering \n",
      "\n",
      "• Design and developing the user interface. \n",
      "\n",
      "• Designing and implementing the front end and back end logic. \n",
      "\n",
      "• Coordinating with onsite Managers and tech lead \n",
      "\n",
      "• Providing daily status/issue. \n",
      "\n",
      " \n",
      "Tools/Technologies PHP, SQL, Java, JavaScript, Ext JS, CSS, HTML, Android Studio \n",
      "\n",
      " \n",
      "\n",
      " \n",
      "\n",
      "UFFIZIO INDIA SOFTWARE CONSULTANT Pvt.Ltd. (Valsad) (Febuary 2015 To May 2016) \n",
      "\n",
      "Project Name Vehicle tracking system \n",
      "Description of the project Project deals with employment management system and employee payroll. \n",
      "Role JR. Software Developer \n",
      "Responsibility \n",
      "\n",
      "• Requirement Gathering \n",
      "\n",
      "• Design and developing the user interface. \n",
      "\n",
      "• Designing and implementing the front end and back end logic. \n",
      "\n",
      "• Coordinating with onsite Managers and tech lead \n",
      "\n",
      "• Providing daily status/issue. \n",
      "\n",
      "• Providing online to support to Tech lead \n",
      "\n",
      " \n",
      "Tools/Technologies Java, JavaScript, Ext JS, CSS, XML, AJAX \n",
      "\n",
      "\n",
      "\n",
      "EDUCATION \n",
      " \n",
      "\n",
      "Qualification Year of Qualification Majors \n",
      "B.C.A \n",
      "(V.N.S.G.U University in Surat, Gujarat) \n",
      "\n",
      "2012-2015 Computer Application \n",
      "\n",
      "M.Sc.I.T \n",
      "(Sardar Patel University in Anand, Gujarat) \n",
      "\n",
      "2016-2018 Information Technology \n",
      "\n",
      " \n",
      "\n",
      " \n",
      "AWARDS AND RECOGNITION \n",
      "\n",
      " State Level Programing in C and C++ Getting 2 Rank in 2017 \n",
      "\n",
      " State Poster Making of Information Technology in Fiber Technology Getting 1 Rank in 2017 \n",
      "\n",
      " Gold Medal of Student Best Performance in M.Sc.I.T \n",
      "\n",
      " \n",
      " \n",
      "\n",
      "PERSONAL DETAILS \n",
      "Nationality: - Indian \n",
      "\n",
      "Date of Birth: - 29\\05\\1993 \n",
      "\n",
      "Marital Status Single \n",
      "\n",
      "Visa Status Cancelled Visa – Company lost Project \n",
      "\n",
      " \n",
      "\n",
      " \n",
      "\n",
      " \n",
      "\n",
      " \n",
      " \n",
      " \n",
      " \n",
      " \n",
      " \n",
      " \n",
      " \n",
      " \n",
      " \n",
      " \n",
      " \n",
      " \n",
      " \n",
      " \n",
      " \n",
      " \n",
      " \n",
      " \n",
      " \n",
      " \n",
      " \n",
      "\n",
      "\n",
      "\tTECHNICAL SKILLS\n",
      "\tEXPERIENCE\n",
      "\tResponsibility\n",
      "\tResponsibility (1)\n",
      "\tResponsibility (2)\n",
      "\tResponsibility (3)\n",
      "\n",
      "\tEDUCATION\n",
      "\tPERSONAL DETAILS\n",
      "\n",
      "\n"
     ]
    }
   ],
   "source": [
    "from tika import parser\n",
    "resume = r'D:\\BANGKITACADEMY2023\\DATASET\\2430528_cvpreview_removed.pdf'\n",
    "resume_data = parser.from_file(resume)\n",
    "\n",
    "text = resume_data['content']\n",
    "print(text)\n",
    "\n",
    "parsed_content = {}"
   ]
  },
  {
   "cell_type": "code",
   "execution_count": 38,
   "metadata": {
    "colab": {
     "base_uri": "https://localhost:8080/"
    },
    "id": "9wmZo7KSti3w",
    "outputId": "b2bf5428-c7a1-4e60-f6cf-0b70db74043e"
   },
   "outputs": [
    {
     "name": "stdout",
     "output_type": "stream",
     "text": [
      "                               manan  software developer and software engineers       profile summary   i have total 5+ years of experience in it field.working with uffizio india software consultant pvt. ltd. (valsad) and having 1   year 2 months of experience as a software professional in build web base website for vehicle tracking system using java, ajax and   javascript. working with verz design pte ltd. (singapore) and having 1 year of experience as a software professional in build ecommerce   website using magneto and wordpress.   have good exposure to the entire software development life cycle viz. requirements collection, design, implementation and testing   activities. following is my experience summary that spans through different areas       dynamic and versatile it professional with a master’s degree in information technology and 3+ years of experience determined to   carve a successful career in the field of software programming    experience in designing, coding, testing, debugging and documenting work products    have a good knowledge of system/product development life cycle, design patterns and agile methodology.    got good skills to take up any framework of a company/client.    good experience with jsp and servlets.    have a good knowledge in object oriented programming.    experienced in mysql and sql server.    experienced in using ajax, javascript and cascading style sheets (css).    experienced in magneto and wordpress     technical skills   language   html, css c, c++, php, magneto, wordpress, ext js, java, ajax, javascript  platforms   j2ee   os   windows vista/xp/7/8/10/11   database   mysql, sql server   other    xml , angular js, react js   learning new technology  devops, kubernetes     experience      infocom fz-llc (dubai) (december 2020 till present in dubai)   project name power ware     client vfs global, nmc hospital, nbf bank, lulu international exchange, co – operative bank, sharaf          exchange, transguard     description of the project we have developing the software of token generator for vfs global and also giving the supporting   and training to customer end.   we have developing the software of customer feedback for voa global and also giving the   supporting and training to customer end.   we have developing the software of token generator for nmc hospital and also giving the   supporting and training to customer end.   we have developing the software of bulk cash deposit machine for lulu international exchange   and sharaf exchange also giving the supporting and training to customer end.   we have developing the software of bulk cash deposit machine like atm for nbf bank and also   giving the supporting .     role sr. software developer and software engineer     responsibility   • requirement gathering   • design and developing the user interface.   • designing and implementing the front end and back end logic.   • coordinating with onsite managers and tech lead   • providing daily status/issue.   • providing online to support to tech lead   tools/technologies java, javascript, ext js, css, dot net, html ,sql server, php, sql      verzdesign pte ltd. (valsad) (november 2019 to december 2020)   project name ecommerce website  description of the project project deals with other singapore company.  role and sr. software developer  responsibility   • requirement gathering   • requirement fulfill of customer   • design and developing the user interface.   • designing and implementing the front end and back end logic.   • coordinating with onsite managers and tech lead   • providing online to support to tech lead     tools/technologies magneto, wordpress      atul ltd.(intenship ) (atul) (december 2018 to september 2019)   project name product tracking system  description of the project company create a project product tracking system.  role jr. software developer  responsibility   • requirement gathering   • design and developing the user interface.   • designing and implementing the front end and back end logic.   • coordinating with onsite managers and tech lead   • providing daily status/issue.     tools/technologies php, sql, java, javascript, ext js, css, html, android studio         uffizio india software consultant pvt.ltd. (valsad) (febuary 2015 to may 2016)   project name vehicle tracking system  description of the project project deals with employment management system and employee payroll.  role jr. software developer  responsibility   • requirement gathering   • design and developing the user interface.   • designing and implementing the front end and back end logic.   • coordinating with onsite managers and tech lead   • providing daily status/issue.   • providing online to support to tech lead     tools/technologies java, javascript, ext js, css, xml, ajax     education     qualification year of qualification majors  b.c.a  (v.n.s.g.u university in surat, gujarat)   2012-2015 computer application   m.sc.i.t  (sardar patel university in anand, gujarat)   2016-2018 information technology        awards and recognition    state level programing in c and c++ getting 2 rank in 2017    state poster making of information technology in fiber technology getting 1 rank in 2017    gold medal of student best performance in m.sc.i.t        personal details  nationality: - indian   date of birth: - 29\\05\\1993   marital status single   visa status cancelled visa – company lost project                                                          \ttechnical skills \texperience \tresponsibility \tresponsibility (1) \tresponsibility (2) \tresponsibility (3)  \teducation \tpersonal details  \n"
     ]
    }
   ],
   "source": [
    "text = text.replace(\"\\n\",\" \")\n",
    "text = text.replace(\"[^a-zA-Z0-9]\", \" \");  \n",
    "re.sub('\\W+','', text)\n",
    "text = text.lower()\n",
    "print(text)"
   ]
  },
  {
   "cell_type": "code",
   "execution_count": 39,
   "metadata": {
    "colab": {
     "base_uri": "https://localhost:8080/"
    },
    "id": "HYPFfDFrtlFu",
    "outputId": "a60e2561-301d-44d3-b7be-b1925b24da6e"
   },
   "outputs": [
    {
     "data": {
      "text/plain": [
       "['summary', 'experience', 'skills', 'education']"
      ]
     },
     "execution_count": 39,
     "metadata": {},
     "output_type": "execute_result"
    }
   ],
   "source": [
    "Keywords = [\"education\",\"summary\",\"personal profile\",\"work background\",\"qualifications\",\"experience\",\n",
    "            \"achievements\",\"projects\",\"skills\",\"soft skills\",\"hard skills\"]\n",
    "\n",
    "content = {}\n",
    "indices = []\n",
    "keys = []\n",
    "for key in Keywords:\n",
    "    try:\n",
    "        content[key] = text[text.index(key) + len(key):]\n",
    "        indices.append(text.index(key))\n",
    "        keys.append(key)\n",
    "    except:\n",
    "        pass\n",
    "    \n",
    "#sorting the index\n",
    "zipped_lists = zip(indices, keys)\n",
    "sorted_pairs = sorted(zipped_lists)\n",
    "sorted_pairs\n",
    "\n",
    "tuples = zip(*sorted_pairs)\n",
    "indices, keys = [ list(tuple) for tuple in  tuples]\n",
    "keys"
   ]
  },
  {
   "cell_type": "code",
   "execution_count": 40,
   "metadata": {
    "id": "zpyLvCq2tm1n"
   },
   "outputs": [
    {
     "data": {
      "text/plain": [
       "{'summary': 'summary   i have total 5+ years of ',\n",
       " 'experience': 'experience in it field.working with uffizio india software consultant pvt. ltd. (valsad) and having 1   year 2 months of experience as a software professional in build web base website for vehicle tracking system using java, ajax and   javascript. working with verz design pte ltd. (singapore) and having 1 year of experience as a software professional in build ecommerce   website using magneto and wordpress.   have good exposure to the entire software development life cycle viz. requirements collection, design, implementation and testing   activities. following is my experience summary that spans through different areas      \\uf0b7 dynamic and versatile it professional with a master’s degree in information technology and 3+ years of experience determined to   carve a successful career in the field of software programming   \\uf0b7 experience in designing, coding, testing, debugging and documenting work products   \\uf0b7 have a good knowledge of system/product development life cycle, design patterns and agile methodology.   \\uf0b7 got good ',\n",
       " 'skills': 'skills to take up any framework of a company/client.   \\uf0b7 good experience with jsp and servlets.   \\uf0b7 have a good knowledge in object oriented programming.   \\uf0b7 experienced in mysql and sql server.   \\uf0b7 experienced in using ajax, javascript and cascading style sheets (css).   \\uf0b7 experienced in magneto and wordpress     technical skills   language   html, css c, c++, php, magneto, wordpress, ext js, java, ajax, javascript  platforms   j2ee   os   windows vista/xp/7/8/10/11   database   mysql, sql server   other    xml , angular js, react js   learning new technology  devops, kubernetes     experience      infocom fz-llc (dubai) (december 2020 till present in dubai)   project name power ware     client vfs global, nmc hospital, nbf bank, lulu international exchange, co – operative bank, sharaf          exchange, transguard     description of the project we have developing the software of token generator for vfs global and also giving the supporting   and training to customer end.   we have developing the software of customer feedback for voa global and also giving the   supporting and training to customer end.   we have developing the software of token generator for nmc hospital and also giving the   supporting and training to customer end.   we have developing the software of bulk cash deposit machine for lulu international exchange   and sharaf exchange also giving the supporting and training to customer end.   we have developing the software of bulk cash deposit machine like atm for nbf bank and also   giving the supporting .     role sr. software developer and software engineer     responsibility   • requirement gathering   • design and developing the user interface.   • designing and implementing the front end and back end logic.   • coordinating with onsite managers and tech lead   • providing daily status/issue.   • providing online to support to tech lead   tools/technologies java, javascript, ext js, css, dot net, html ,sql server, php, sql      verzdesign pte ltd. (valsad) (november 2019 to december 2020)   project name ecommerce website  description of the project project deals with other singapore company.  role and sr. software developer  responsibility   • requirement gathering   • requirement fulfill of customer   • design and developing the user interface.   • designing and implementing the front end and back end logic.   • coordinating with onsite managers and tech lead   • providing online to support to tech lead     tools/technologies magneto, wordpress      atul ltd.(intenship ) (atul) (december 2018 to september 2019)   project name product tracking system  description of the project company create a project product tracking system.  role jr. software developer  responsibility   • requirement gathering   • design and developing the user interface.   • designing and implementing the front end and back end logic.   • coordinating with onsite managers and tech lead   • providing daily status/issue.     tools/technologies php, sql, java, javascript, ext js, css, html, android studio         uffizio india software consultant pvt.ltd. (valsad) (febuary 2015 to may 2016)   project name vehicle tracking system  description of the project project deals with employment management system and employee payroll.  role jr. software developer  responsibility   • requirement gathering   • design and developing the user interface.   • designing and implementing the front end and back end logic.   • coordinating with onsite managers and tech lead   • providing daily status/issue.   • providing online to support to tech lead     tools/technologies java, javascript, ext js, css, xml, ajax     ',\n",
       " 'education': 'education     qualification year of qualification majors  b.c.a  (v.n.s.g.u university in surat, gujarat)   2012-2015 computer application   m.sc.i.t  (sardar patel university in anand, gujarat)   2016-2018 information technology        awards and recognition   \\uf0b7 state level programing in c and c++ getting 2 rank in 2017   \\uf0b7 state poster making of information technology in fiber technology getting 1 rank in 2017   \\uf0b7 gold medal of student best performance in m.sc.i.t        personal details  nationality: - indian   date of birth: - 29\\\\05\\\\1993   marital status single   visa status cancelled visa – company lost project                                                          \\ttechnical skills \\texperience \\tresponsibility \\tresponsibility (1) \\tresponsibility (2) \\tresponsibility (3)  \\teducation \\tpersonal details  '}"
      ]
     },
     "execution_count": 40,
     "metadata": {},
     "output_type": "execute_result"
    }
   ],
   "source": [
    "# menghapus bagian yang berlebihan\n",
    "content = []\n",
    "for idx in range(len(indices)):\n",
    "    if idx != len(indices)-1:\n",
    "        content.append(text[indices[idx]: indices[idx+1]])\n",
    "    else:\n",
    "        content.append(text[indices[idx]: ])\n",
    "\n",
    "for i in range(len(indices)):\n",
    "    parsed_content[keys[i]] = content[i]  \n",
    "    \n",
    "parsed_content\n"
   ]
  },
  {
   "cell_type": "code",
   "execution_count": 41,
   "metadata": {},
   "outputs": [
    {
     "data": {
      "text/html": [
       "<div>\n",
       "<style scoped>\n",
       "    .dataframe tbody tr th:only-of-type {\n",
       "        vertical-align: middle;\n",
       "    }\n",
       "\n",
       "    .dataframe tbody tr th {\n",
       "        vertical-align: top;\n",
       "    }\n",
       "\n",
       "    .dataframe thead th {\n",
       "        text-align: right;\n",
       "    }\n",
       "</style>\n",
       "<table border=\"1\" class=\"dataframe\">\n",
       "  <thead>\n",
       "    <tr style=\"text-align: right;\">\n",
       "      <th></th>\n",
       "      <th>keys</th>\n",
       "      <th>parsed_content</th>\n",
       "    </tr>\n",
       "  </thead>\n",
       "  <tbody>\n",
       "    <tr>\n",
       "      <th>0</th>\n",
       "      <td>summary</td>\n",
       "      <td>summary   i have total 5+ years of</td>\n",
       "    </tr>\n",
       "    <tr>\n",
       "      <th>1</th>\n",
       "      <td>experience</td>\n",
       "      <td>experience in it field.working with uffizio in...</td>\n",
       "    </tr>\n",
       "    <tr>\n",
       "      <th>2</th>\n",
       "      <td>skills</td>\n",
       "      <td>skills to take up any framework of a company/c...</td>\n",
       "    </tr>\n",
       "    <tr>\n",
       "      <th>3</th>\n",
       "      <td>education</td>\n",
       "      <td>education     qualification year of qualificat...</td>\n",
       "    </tr>\n",
       "  </tbody>\n",
       "</table>\n",
       "</div>"
      ],
      "text/plain": [
       "         keys                                     parsed_content\n",
       "0     summary                summary   i have total 5+ years of \n",
       "1  experience  experience in it field.working with uffizio in...\n",
       "2      skills  skills to take up any framework of a company/c...\n",
       "3   education  education     qualification year of qualificat..."
      ]
     },
     "execution_count": 41,
     "metadata": {},
     "output_type": "execute_result"
    }
   ],
   "source": [
    "df = pd.DataFrame({'keys': keys, 'parsed_content': [parsed_content[key] for key in keys]})\n",
    "df\n"
   ]
  },
  {
   "cell_type": "code",
   "execution_count": null,
   "metadata": {},
   "outputs": [],
   "source": []
  },
  {
   "cell_type": "code",
   "execution_count": 42,
   "metadata": {},
   "outputs": [
    {
     "data": {
      "text/html": [
       "<div>\n",
       "<style scoped>\n",
       "    .dataframe tbody tr th:only-of-type {\n",
       "        vertical-align: middle;\n",
       "    }\n",
       "\n",
       "    .dataframe tbody tr th {\n",
       "        vertical-align: top;\n",
       "    }\n",
       "\n",
       "    .dataframe thead th {\n",
       "        text-align: right;\n",
       "    }\n",
       "</style>\n",
       "<table border=\"1\" class=\"dataframe\">\n",
       "  <thead>\n",
       "    <tr style=\"text-align: right;\">\n",
       "      <th></th>\n",
       "      <th>keys</th>\n",
       "      <th>parsed_content</th>\n",
       "    </tr>\n",
       "  </thead>\n",
       "  <tbody>\n",
       "    <tr>\n",
       "      <th>2</th>\n",
       "      <td>skills</td>\n",
       "      <td>skills to take up any framework of a company/c...</td>\n",
       "    </tr>\n",
       "  </tbody>\n",
       "</table>\n",
       "</div>"
      ],
      "text/plain": [
       "     keys                                     parsed_content\n",
       "2  skills  skills to take up any framework of a company/c..."
      ]
     },
     "execution_count": 42,
     "metadata": {},
     "output_type": "execute_result"
    }
   ],
   "source": [
    "\n",
    "df = pd.DataFrame({'keys': keys, 'parsed_content': [parsed_content[key] for key in keys]})\n",
    "\n",
    "# ekstrak 'skills' dan 'hard skill' rows\n",
    "filtered_df = df[df['keys'].isin(['skills', 'hard skill'])]\n",
    "\n",
    "filtered_df\n"
   ]
  },
  {
   "cell_type": "code",
   "execution_count": 43,
   "metadata": {},
   "outputs": [],
   "source": [
    "#df_last_row = df.iloc[[-1]]\n",
    "#df.loc[df_last_row.index, 'parsed_content'] = df_last_row['parsed_content'].str.replace('hard skills:', '')\n",
    "#df_last_row\n"
   ]
  },
  {
   "cell_type": "code",
   "execution_count": 44,
   "metadata": {},
   "outputs": [
    {
     "data": {
      "text/html": [
       "<div>\n",
       "<style scoped>\n",
       "    .dataframe tbody tr th:only-of-type {\n",
       "        vertical-align: middle;\n",
       "    }\n",
       "\n",
       "    .dataframe tbody tr th {\n",
       "        vertical-align: top;\n",
       "    }\n",
       "\n",
       "    .dataframe thead th {\n",
       "        text-align: right;\n",
       "    }\n",
       "</style>\n",
       "<table border=\"1\" class=\"dataframe\">\n",
       "  <thead>\n",
       "    <tr style=\"text-align: right;\">\n",
       "      <th></th>\n",
       "      <th>keys</th>\n",
       "      <th>parsed_content</th>\n",
       "    </tr>\n",
       "  </thead>\n",
       "  <tbody>\n",
       "    <tr>\n",
       "      <th>2</th>\n",
       "      <td>skills</td>\n",
       "      <td>skills to take up any framework of a company/c...</td>\n",
       "    </tr>\n",
       "  </tbody>\n",
       "</table>\n",
       "</div>"
      ],
      "text/plain": [
       "     keys                                     parsed_content\n",
       "2  skills  skills to take up any framework of a company/c..."
      ]
     },
     "execution_count": 44,
     "metadata": {},
     "output_type": "execute_result"
    }
   ],
   "source": [
    "filtered_df.to_csv('parsed_content.csv', index=False)\n",
    "filtered_df"
   ]
  },
  {
   "cell_type": "code",
   "execution_count": 45,
   "metadata": {},
   "outputs": [
    {
     "data": {
      "text/html": [
       "<div>\n",
       "<style scoped>\n",
       "    .dataframe tbody tr th:only-of-type {\n",
       "        vertical-align: middle;\n",
       "    }\n",
       "\n",
       "    .dataframe tbody tr th {\n",
       "        vertical-align: top;\n",
       "    }\n",
       "\n",
       "    .dataframe thead th {\n",
       "        text-align: right;\n",
       "    }\n",
       "</style>\n",
       "<table border=\"1\" class=\"dataframe\">\n",
       "  <thead>\n",
       "    <tr style=\"text-align: right;\">\n",
       "      <th></th>\n",
       "      <th>keys</th>\n",
       "      <th>parsed_content</th>\n",
       "    </tr>\n",
       "  </thead>\n",
       "  <tbody>\n",
       "    <tr>\n",
       "      <th>0</th>\n",
       "      <td>skills</td>\n",
       "      <td>skills to take up any framework of a company/c...</td>\n",
       "    </tr>\n",
       "  </tbody>\n",
       "</table>\n",
       "</div>"
      ],
      "text/plain": [
       "     keys                                     parsed_content\n",
       "0  skills  skills to take up any framework of a company/c..."
      ]
     },
     "execution_count": 45,
     "metadata": {},
     "output_type": "execute_result"
    }
   ],
   "source": [
    "data = filtered_df\n",
    "data = pd.read_csv('./parsed_content.csv')\n",
    "data"
   ]
  },
  {
   "cell_type": "code",
   "execution_count": 46,
   "metadata": {
    "colab": {
     "base_uri": "https://localhost:8080/"
    },
    "id": "4qSdWkVn_H1_",
    "outputId": "c48dec7f-11b3-4194-f1d3-f4a33289ee3a"
   },
   "outputs": [
    {
     "name": "stderr",
     "output_type": "stream",
     "text": [
      "C:\\Users\\dion\\AppData\\Local\\Temp\\ipykernel_1108\\3020687193.py:18: SettingWithCopyWarning: \n",
      "A value is trying to be set on a copy of a slice from a DataFrame.\n",
      "Try using .loc[row_indexer,col_indexer] = value instead\n",
      "\n",
      "See the caveats in the documentation: https://pandas.pydata.org/pandas-docs/stable/user_guide/indexing.html#returning-a-view-versus-a-copy\n",
      "  filtered_df['parsed_content'] = filtered_df['parsed_content'].apply(clean_data)\n"
     ]
    },
    {
     "data": {
      "text/html": [
       "<div>\n",
       "<style scoped>\n",
       "    .dataframe tbody tr th:only-of-type {\n",
       "        vertical-align: middle;\n",
       "    }\n",
       "\n",
       "    .dataframe tbody tr th {\n",
       "        vertical-align: top;\n",
       "    }\n",
       "\n",
       "    .dataframe thead th {\n",
       "        text-align: right;\n",
       "    }\n",
       "</style>\n",
       "<table border=\"1\" class=\"dataframe\">\n",
       "  <thead>\n",
       "    <tr style=\"text-align: right;\">\n",
       "      <th></th>\n",
       "      <th>keys</th>\n",
       "      <th>parsed_content</th>\n",
       "    </tr>\n",
       "  </thead>\n",
       "  <tbody>\n",
       "    <tr>\n",
       "      <th>2</th>\n",
       "      <td>skills</td>\n",
       "      <td>skills to take up any framework of a company c...</td>\n",
       "    </tr>\n",
       "  </tbody>\n",
       "</table>\n",
       "</div>"
      ],
      "text/plain": [
       "     keys                                     parsed_content\n",
       "2  skills  skills to take up any framework of a company c..."
      ]
     },
     "execution_count": 46,
     "metadata": {},
     "output_type": "execute_result"
    }
   ],
   "source": [
    "# clean data\n",
    "def clean_data(data):\n",
    "    data = data.lower()\n",
    "    # URLs\n",
    "    data = re.sub('http\\S+\\s*', ' ', data)\n",
    "    # RT and cc\n",
    "    data = re.sub('RT|cc', ' ', data)\n",
    "    # hashtags\n",
    "    data = re.sub('#\\S+', '', data)\n",
    "    # mentions\n",
    "    data = re.sub('@\\S+', ' ', data)\n",
    "    # punctuations and non-ASCII char\n",
    "    data = re.sub('[^a-zA-Z]', ' ', data)\n",
    "    # extra whitespace\n",
    "    data = re.sub('\\s+', ' ', data) \n",
    "    \n",
    "    return data\n",
    "filtered_df['parsed_content'] = filtered_df['parsed_content'].apply(clean_data)\n",
    "filtered_df"
   ]
  },
  {
   "cell_type": "code",
   "execution_count": 47,
   "metadata": {},
   "outputs": [
    {
     "name": "stdout",
     "output_type": "stream",
     "text": [
      "  keys                                                                                                                                                                                                                                                                                                                                                                                                                                                                                                                                                                                                                                                                                                                                                                                                                                                                                                                                                                                                                                                                                                                                                                                                                                                                                                                                                                                                                                                                                                                                                                                                                                                                                                                                                                                                                                                                                                                                                                                                                                                                                                                                                                                                                                                                                                                                                                                                                                                                                                                                                                                                                                                                                                                                                                                                                                                                                                                                                                                                                                                                                                                                                                                                                                                                                                                                                                                     parsed_content\n",
      "skills skills to take up any framework of a company client good experience with jsp and servlets have a good knowledge in object oriented programming experienced in mysql and sql server experienced in using ajax javascript and cascading style sheets css experienced in magneto and wordpress technical skills language html css c c php magneto wordpress ext js java ajax javascript platforms j ee os windows vista xp database mysql sql server other xml angular js react js learning new technology devops kubernetes experience infocom fz llc dubai december till present in dubai project name power ware client vfs global nmc hospital nbf bank lulu international exchange co operative bank sharaf exchange transguard description of the project we have developing the software of token generator for vfs global and also giving the supporting and training to customer end we have developing the software of customer feedback for voa global and also giving the supporting and training to customer end we have developing the software of token generator for nmc hospital and also giving the supporting and training to customer end we have developing the software of bulk cash deposit machine for lulu international exchange and sharaf exchange also giving the supporting and training to customer end we have developing the software of bulk cash deposit machine like atm for nbf bank and also giving the supporting role sr software developer and software engineer responsibility requirement gathering design and developing the user interface designing and implementing the front end and back end logic coordinating with onsite managers and tech lead providing daily status issue providing online to support to tech lead tools technologies java javascript ext js css dot net html sql server php sql verzdesign pte ltd valsad november to december project name ecommerce website description of the project project deals with other singapore company role and sr software developer responsibility requirement gathering requirement fulfill of customer design and developing the user interface designing and implementing the front end and back end logic coordinating with onsite managers and tech lead providing online to support to tech lead tools technologies magneto wordpress atul ltd intenship atul december to september project name product tracking system description of the project company create a project product tracking system role jr software developer responsibility requirement gathering design and developing the user interface designing and implementing the front end and back end logic coordinating with onsite managers and tech lead providing daily status issue tools technologies php sql java javascript ext js css html android studio uffizio india software consultant pvt ltd valsad febuary to may project name vehicle tracking system description of the project project deals with employment management system and employee payroll role jr software developer responsibility requirement gathering design and developing the user interface designing and implementing the front end and back end logic coordinating with onsite managers and tech lead providing daily status issue providing online to support to tech lead tools technologies java javascript ext js css xml ajax \n"
     ]
    }
   ],
   "source": [
    "data = filtered_df\n",
    "df = pd.DataFrame(data)\n",
    "\n",
    "# convert df to text using to_string()\n",
    "text_output = df.to_string(index=False)\n",
    "print(text_output)\n"
   ]
  },
  {
   "cell_type": "code",
   "execution_count": 48,
   "metadata": {
    "colab": {
     "base_uri": "https://localhost:8080/"
    },
    "id": "FD05PmpIH7Ju",
    "outputId": "9ecbb3b0-073e-4987-93ae-2653c0de6d93"
   },
   "outputs": [
    {
     "name": "stderr",
     "output_type": "stream",
     "text": [
      "[nltk_data] Downloading package stopwords to\n",
      "[nltk_data]     C:\\Users\\dion\\AppData\\Roaming\\nltk_data...\n",
      "[nltk_data]   Package stopwords is already up-to-date!\n",
      "[nltk_data] Downloading package punkt to\n",
      "[nltk_data]     C:\\Users\\dion\\AppData\\Roaming\\nltk_data...\n",
      "[nltk_data]   Package punkt is already up-to-date!\n"
     ]
    },
    {
     "data": {
      "text/plain": [
       "True"
      ]
     },
     "execution_count": 48,
     "metadata": {},
     "output_type": "execute_result"
    }
   ],
   "source": [
    "import nltk\n",
    "from nltk.corpus import stopwords\n",
    "from nltk.tokenize import word_tokenize\n",
    "\n",
    "nltk.download('stopwords')\n",
    "nltk.download('punkt')\n"
   ]
  },
  {
   "cell_type": "code",
   "execution_count": 49,
   "metadata": {},
   "outputs": [
    {
     "data": {
      "text/html": [
       "<div>\n",
       "<style scoped>\n",
       "    .dataframe tbody tr th:only-of-type {\n",
       "        vertical-align: middle;\n",
       "    }\n",
       "\n",
       "    .dataframe tbody tr th {\n",
       "        vertical-align: top;\n",
       "    }\n",
       "\n",
       "    .dataframe thead th {\n",
       "        text-align: right;\n",
       "    }\n",
       "</style>\n",
       "<table border=\"1\" class=\"dataframe\">\n",
       "  <thead>\n",
       "    <tr style=\"text-align: right;\">\n",
       "      <th></th>\n",
       "      <th>keys</th>\n",
       "      <th>parsed_content</th>\n",
       "      <th>parsed_content_split</th>\n",
       "    </tr>\n",
       "  </thead>\n",
       "  <tbody>\n",
       "    <tr>\n",
       "      <th>2</th>\n",
       "      <td>skills</td>\n",
       "      <td>skills to take up any framework of a company c...</td>\n",
       "      <td>[skills, to, take, up, any, framework, of, a, ...</td>\n",
       "    </tr>\n",
       "  </tbody>\n",
       "</table>\n",
       "</div>"
      ],
      "text/plain": [
       "     keys                                     parsed_content  \\\n",
       "2  skills  skills to take up any framework of a company c...   \n",
       "\n",
       "                                parsed_content_split  \n",
       "2  [skills, to, take, up, any, framework, of, a, ...  "
      ]
     },
     "execution_count": 49,
     "metadata": {},
     "output_type": "execute_result"
    }
   ],
   "source": [
    "def tokenize(text):\n",
    "    words = re.split(\"\\W+\", text)\n",
    "    return words\n",
    "\n",
    "filtered_df['parsed_content_split'] = df['parsed_content'].apply(lambda x: tokenize(x))\n",
    "filtered_df"
   ]
  },
  {
   "cell_type": "code",
   "execution_count": 50,
   "metadata": {},
   "outputs": [
    {
     "data": {
      "text/html": [
       "<div>\n",
       "<style scoped>\n",
       "    .dataframe tbody tr th:only-of-type {\n",
       "        vertical-align: middle;\n",
       "    }\n",
       "\n",
       "    .dataframe tbody tr th {\n",
       "        vertical-align: top;\n",
       "    }\n",
       "\n",
       "    .dataframe thead th {\n",
       "        text-align: right;\n",
       "    }\n",
       "</style>\n",
       "<table border=\"1\" class=\"dataframe\">\n",
       "  <thead>\n",
       "    <tr style=\"text-align: right;\">\n",
       "      <th></th>\n",
       "      <th>keys</th>\n",
       "      <th>parsed_content</th>\n",
       "      <th>parsed_content_split</th>\n",
       "      <th>parsed_content_split_stopwords</th>\n",
       "    </tr>\n",
       "  </thead>\n",
       "  <tbody>\n",
       "    <tr>\n",
       "      <th>2</th>\n",
       "      <td>skills</td>\n",
       "      <td>skills to take up any framework of a company c...</td>\n",
       "      <td>[skills, to, take, up, any, framework, of, a, ...</td>\n",
       "      <td>[skills, take, framework, company, client, goo...</td>\n",
       "    </tr>\n",
       "  </tbody>\n",
       "</table>\n",
       "</div>"
      ],
      "text/plain": [
       "     keys                                     parsed_content  \\\n",
       "2  skills  skills to take up any framework of a company c...   \n",
       "\n",
       "                                parsed_content_split  \\\n",
       "2  [skills, to, take, up, any, framework, of, a, ...   \n",
       "\n",
       "                      parsed_content_split_stopwords  \n",
       "2  [skills, take, framework, company, client, goo...  "
      ]
     },
     "execution_count": 50,
     "metadata": {},
     "output_type": "execute_result"
    }
   ],
   "source": [
    "stop_words = set(stopwords.words('english'))\n",
    "\n",
    "def tokenize(text):\n",
    "    words = word_tokenize(text)\n",
    "    words = [word.lower() for word in words if word.lower() not in stop_words and word.isalpha()]\n",
    "    return words\n",
    "\n",
    "filtered_df['parsed_content_split_stopwords'] = filtered_df['parsed_content'].apply(lambda x: tokenize(x))\n",
    "filtered_df"
   ]
  },
  {
   "cell_type": "code",
   "execution_count": 51,
   "metadata": {},
   "outputs": [
    {
     "data": {
      "text/plain": [
       "2    [skill, take, framework, company, client, good...\n",
       "Name: parsed_content_split_stopwords_lemma, dtype: object"
      ]
     },
     "execution_count": 51,
     "metadata": {},
     "output_type": "execute_result"
    }
   ],
   "source": [
    "from nltk.stem import WordNetLemmatizer\n",
    "\n",
    "lemmatizer = WordNetLemmatizer()\n",
    "def lemmatize_word(word):\n",
    "    return lemmatizer.lemmatize(word)\n",
    "\n",
    "filtered_df['parsed_content_split_stopwords_lemma'] = filtered_df['parsed_content_split_stopwords'].apply(lambda x: [lemmatizer.lemmatize(word) for word in x])\n",
    "filtered_df['parsed_content_split_stopwords_lemma']"
   ]
  },
  {
   "cell_type": "code",
   "execution_count": 52,
   "metadata": {
    "id": "AvxIyV1499sJ"
   },
   "outputs": [
    {
     "data": {
      "text/html": [
       "<div>\n",
       "<style scoped>\n",
       "    .dataframe tbody tr th:only-of-type {\n",
       "        vertical-align: middle;\n",
       "    }\n",
       "\n",
       "    .dataframe tbody tr th {\n",
       "        vertical-align: top;\n",
       "    }\n",
       "\n",
       "    .dataframe thead th {\n",
       "        text-align: right;\n",
       "    }\n",
       "</style>\n",
       "<table border=\"1\" class=\"dataframe\">\n",
       "  <thead>\n",
       "    <tr style=\"text-align: right;\">\n",
       "      <th></th>\n",
       "      <th>keys</th>\n",
       "      <th>join_words</th>\n",
       "    </tr>\n",
       "  </thead>\n",
       "  <tbody>\n",
       "    <tr>\n",
       "      <th>2</th>\n",
       "      <td>skills</td>\n",
       "      <td>skill take framework company client good exper...</td>\n",
       "    </tr>\n",
       "  </tbody>\n",
       "</table>\n",
       "</div>"
      ],
      "text/plain": [
       "     keys                                         join_words\n",
       "2  skills  skill take framework company client good exper..."
      ]
     },
     "execution_count": 52,
     "metadata": {},
     "output_type": "execute_result"
    }
   ],
   "source": [
    "def concat(lst):\n",
    "    sentence = ' '.join(lst)\n",
    "    return sentence\n",
    "\n",
    "filtered_df['join_words'] = filtered_df['parsed_content_split_stopwords_lemma'].apply(concat)\n",
    "new_filtered_df = filtered_df[['keys', 'join_words']]\n",
    "new_filtered_df"
   ]
  },
  {
   "cell_type": "code",
   "execution_count": 53,
   "metadata": {
    "id": "DzGGpGDiqIbp"
   },
   "outputs": [
    {
     "name": "stdout",
     "output_type": "stream",
     "text": [
      "  keys                                                                                                                                                                                                                                                                                                                                                                                                                                                                                                                                                                                                                                                                                                                                                                                                                                                                                                                                                                                                                                                                                                                                                                                                                                                                                                                                                                                                                                                                                                                                                                                                                                                                                                                                                                                                                                                                                                                                                                                                                                                                                                                                                                                                                                                                                                                                                                                                                                                                                                                                                                                                                                                                                                                                                                                                                                                                                                      join_words\n",
      "skills skill take framework company client good experience jsp servlets good knowledge object oriented programming experienced mysql sql server experienced using ajax javascript cascading style sheet cs experienced magneto wordpress technical skill language html cs c c php magneto wordpress ext j java ajax javascript platform j ee o window vista xp database mysql sql server xml angular j react j learning new technology devops kubernetes experience infocom fz llc dubai december till present dubai project name power ware client vfs global nmc hospital nbf bank lulu international exchange co operative bank sharaf exchange transguard description project developing software token generator vfs global also giving supporting training customer end developing software customer feedback voa global also giving supporting training customer end developing software token generator nmc hospital also giving supporting training customer end developing software bulk cash deposit machine lulu international exchange sharaf exchange also giving supporting training customer end developing software bulk cash deposit machine like atm nbf bank also giving supporting role sr software developer software engineer responsibility requirement gathering design developing user interface designing implementing front end back end logic coordinating onsite manager tech lead providing daily status issue providing online support tech lead tool technology java javascript ext j cs dot net html sql server php sql verzdesign pte ltd valsad november december project name ecommerce website description project project deal singapore company role sr software developer responsibility requirement gathering requirement fulfill customer design developing user interface designing implementing front end back end logic coordinating onsite manager tech lead providing online support tech lead tool technology magneto wordpress atul ltd intenship atul december september project name product tracking system description project company create project product tracking system role jr software developer responsibility requirement gathering design developing user interface designing implementing front end back end logic coordinating onsite manager tech lead providing daily status issue tool technology php sql java javascript ext j cs html android studio uffizio india software consultant pvt ltd valsad febuary may project name vehicle tracking system description project project deal employment management system employee payroll role jr software developer responsibility requirement gathering design developing user interface designing implementing front end back end logic coordinating onsite manager tech lead providing daily status issue providing online support tech lead tool technology java javascript ext j cs xml ajax\n"
     ]
    }
   ],
   "source": [
    "data = new_filtered_df\n",
    "df = pd.DataFrame(data)\n",
    "\n",
    "# convert df to text using to_string()\n",
    "text_output = df.to_string(index=False)\n",
    "print(text_output)\n",
    "    "
   ]
  },
  {
   "cell_type": "code",
   "execution_count": 54,
   "metadata": {},
   "outputs": [
    {
     "data": {
      "text/html": [
       "<div>\n",
       "<style scoped>\n",
       "    .dataframe tbody tr th:only-of-type {\n",
       "        vertical-align: middle;\n",
       "    }\n",
       "\n",
       "    .dataframe tbody tr th {\n",
       "        vertical-align: top;\n",
       "    }\n",
       "\n",
       "    .dataframe thead th {\n",
       "        text-align: right;\n",
       "    }\n",
       "</style>\n",
       "<table border=\"1\" class=\"dataframe\">\n",
       "  <thead>\n",
       "    <tr style=\"text-align: right;\">\n",
       "      <th></th>\n",
       "      <th>keys</th>\n",
       "      <th>join_words</th>\n",
       "    </tr>\n",
       "  </thead>\n",
       "  <tbody>\n",
       "    <tr>\n",
       "      <th>2</th>\n",
       "      <td>skills</td>\n",
       "      <td>skill take framework company client good exper...</td>\n",
       "    </tr>\n",
       "  </tbody>\n",
       "</table>\n",
       "</div>"
      ],
      "text/plain": [
       "     keys                                         join_words\n",
       "2  skills  skill take framework company client good exper..."
      ]
     },
     "execution_count": 54,
     "metadata": {},
     "output_type": "execute_result"
    }
   ],
   "source": [
    "new_filtered_df.to_csv('parsed_content2.csv', index=False)\n",
    "new_filtered_df"
   ]
  },
  {
   "cell_type": "code",
   "execution_count": 55,
   "metadata": {},
   "outputs": [
    {
     "data": {
      "text/html": [
       "<div>\n",
       "<style scoped>\n",
       "    .dataframe tbody tr th:only-of-type {\n",
       "        vertical-align: middle;\n",
       "    }\n",
       "\n",
       "    .dataframe tbody tr th {\n",
       "        vertical-align: top;\n",
       "    }\n",
       "\n",
       "    .dataframe thead th {\n",
       "        text-align: right;\n",
       "    }\n",
       "</style>\n",
       "<table border=\"1\" class=\"dataframe\">\n",
       "  <thead>\n",
       "    <tr style=\"text-align: right;\">\n",
       "      <th></th>\n",
       "      <th>keys</th>\n",
       "      <th>ajax</th>\n",
       "      <th>also</th>\n",
       "      <th>android</th>\n",
       "      <th>angular</th>\n",
       "      <th>atm</th>\n",
       "      <th>atul</th>\n",
       "      <th>back</th>\n",
       "      <th>bank</th>\n",
       "      <th>bulk</th>\n",
       "      <th>...</th>\n",
       "      <th>verzdesign</th>\n",
       "      <th>vfs</th>\n",
       "      <th>vista</th>\n",
       "      <th>voa</th>\n",
       "      <th>ware</th>\n",
       "      <th>website</th>\n",
       "      <th>window</th>\n",
       "      <th>wordpress</th>\n",
       "      <th>xml</th>\n",
       "      <th>xp</th>\n",
       "    </tr>\n",
       "  </thead>\n",
       "  <tbody>\n",
       "    <tr>\n",
       "      <th>2</th>\n",
       "      <td>skills</td>\n",
       "      <td>NaN</td>\n",
       "      <td>NaN</td>\n",
       "      <td>NaN</td>\n",
       "      <td>NaN</td>\n",
       "      <td>NaN</td>\n",
       "      <td>NaN</td>\n",
       "      <td>NaN</td>\n",
       "      <td>NaN</td>\n",
       "      <td>NaN</td>\n",
       "      <td>...</td>\n",
       "      <td>NaN</td>\n",
       "      <td>NaN</td>\n",
       "      <td>NaN</td>\n",
       "      <td>NaN</td>\n",
       "      <td>NaN</td>\n",
       "      <td>NaN</td>\n",
       "      <td>NaN</td>\n",
       "      <td>NaN</td>\n",
       "      <td>NaN</td>\n",
       "      <td>NaN</td>\n",
       "    </tr>\n",
       "    <tr>\n",
       "      <th>0</th>\n",
       "      <td>NaN</td>\n",
       "      <td>3.0</td>\n",
       "      <td>5.0</td>\n",
       "      <td>1.0</td>\n",
       "      <td>1.0</td>\n",
       "      <td>1.0</td>\n",
       "      <td>2.0</td>\n",
       "      <td>4.0</td>\n",
       "      <td>3.0</td>\n",
       "      <td>2.0</td>\n",
       "      <td>...</td>\n",
       "      <td>1.0</td>\n",
       "      <td>2.0</td>\n",
       "      <td>1.0</td>\n",
       "      <td>1.0</td>\n",
       "      <td>1.0</td>\n",
       "      <td>1.0</td>\n",
       "      <td>1.0</td>\n",
       "      <td>3.0</td>\n",
       "      <td>2.0</td>\n",
       "      <td>1.0</td>\n",
       "    </tr>\n",
       "  </tbody>\n",
       "</table>\n",
       "<p>2 rows × 150 columns</p>\n",
       "</div>"
      ],
      "text/plain": [
       "     keys  ajax  also  android  angular  atm  atul  back  bank  bulk  ...  \\\n",
       "2  skills   NaN   NaN      NaN      NaN  NaN   NaN   NaN   NaN   NaN  ...   \n",
       "0     NaN   3.0   5.0      1.0      1.0  1.0   2.0   4.0   3.0   2.0  ...   \n",
       "\n",
       "   verzdesign  vfs  vista  voa  ware  website  window  wordpress  xml   xp  \n",
       "2         NaN  NaN    NaN  NaN   NaN      NaN     NaN        NaN  NaN  NaN  \n",
       "0         1.0  2.0    1.0  1.0   1.0      1.0     1.0        3.0  2.0  1.0  \n",
       "\n",
       "[2 rows x 150 columns]"
      ]
     },
     "execution_count": 55,
     "metadata": {},
     "output_type": "execute_result"
    }
   ],
   "source": [
    "from sklearn.feature_extraction.text import CountVectorizer\n",
    "\n",
    "all_text = ' '.join(new_filtered_df['join_words'])\n",
    "\n",
    "# Tokenization using CountVectorizer\n",
    "vectorizer = CountVectorizer()\n",
    "X = vectorizer.fit_transform([all_text])\n",
    "\n",
    "# Create a dataframe of tokenized words\n",
    "tokens_df = pd.DataFrame(X.toarray(), columns=vectorizer.get_feature_names_out())\n",
    "\n",
    "# Concatenate the tokenized words with keys\n",
    "result_df = pd.concat([new_filtered_df['keys'], tokens_df], axis=1)\n",
    "\n",
    "# Print the final output\n",
    "result_df\n",
    "\n"
   ]
  },
  {
   "cell_type": "code",
   "execution_count": null,
   "metadata": {},
   "outputs": [],
   "source": []
  }
 ],
 "metadata": {
  "colab": {
   "provenance": []
  },
  "kernelspec": {
   "display_name": "Python 3 (ipykernel)",
   "language": "python",
   "name": "python3"
  },
  "language_info": {
   "codemirror_mode": {
    "name": "ipython",
    "version": 3
   },
   "file_extension": ".py",
   "mimetype": "text/x-python",
   "name": "python",
   "nbconvert_exporter": "python",
   "pygments_lexer": "ipython3",
   "version": "3.10.9"
  }
 },
 "nbformat": 4,
 "nbformat_minor": 1
}
