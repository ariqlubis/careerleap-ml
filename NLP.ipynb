{
 "cells": [
  {
   "cell_type": "markdown",
   "id": "8292139c",
   "metadata": {},
   "source": [
    "# Import Library"
   ]
  },
  {
   "cell_type": "code",
   "execution_count": 1,
   "id": "5542adb8",
   "metadata": {
    "scrolled": true
   },
   "outputs": [],
   "source": [
    "import numpy as np\n",
    "import pandas as pd\n",
    "import seaborn as sns\n",
    "import matplotlib.pyplot as q\n",
    "%matplotlib inline\n",
    "\n",
    "import re\n",
    "import tensorflow as tf\n",
    "import nltk\n",
    "from wordcloud import WordCloud"
   ]
  },
  {
   "cell_type": "code",
   "execution_count": 2,
   "id": "6d96d955",
   "metadata": {
    "scrolled": true
   },
   "outputs": [],
   "source": [
    "# !pip install tensorflow==2.12\n",
    "# !pip install nltk\n",
    "# !pip install wordcloud"
   ]
  },
  {
   "cell_type": "markdown",
   "id": "f8dc59b8",
   "metadata": {},
   "source": [
    "# Data Understanding"
   ]
  },
  {
   "cell_type": "markdown",
   "id": "14431936",
   "metadata": {},
   "source": [
    "## Data Loading"
   ]
  },
  {
   "cell_type": "code",
   "execution_count": 3,
   "id": "e053807f",
   "metadata": {
    "scrolled": true
   },
   "outputs": [
    {
     "data": {
      "text/html": [
       "<div>\n",
       "<style scoped>\n",
       "    .dataframe tbody tr th:only-of-type {\n",
       "        vertical-align: middle;\n",
       "    }\n",
       "\n",
       "    .dataframe tbody tr th {\n",
       "        vertical-align: top;\n",
       "    }\n",
       "\n",
       "    .dataframe thead th {\n",
       "        text-align: right;\n",
       "    }\n",
       "</style>\n",
       "<table border=\"1\" class=\"dataframe\">\n",
       "  <thead>\n",
       "    <tr style=\"text-align: right;\">\n",
       "      <th></th>\n",
       "      <th>Category</th>\n",
       "      <th>Resume</th>\n",
       "    </tr>\n",
       "  </thead>\n",
       "  <tbody>\n",
       "    <tr>\n",
       "      <th>0</th>\n",
       "      <td>Data Science</td>\n",
       "      <td>Skills * Programming Languages: Python (pandas...</td>\n",
       "    </tr>\n",
       "    <tr>\n",
       "      <th>1</th>\n",
       "      <td>Data Science</td>\n",
       "      <td>Education Details \\r\\nMay 2013 to May 2017 B.E...</td>\n",
       "    </tr>\n",
       "    <tr>\n",
       "      <th>2</th>\n",
       "      <td>Data Science</td>\n",
       "      <td>Areas of Interest Deep Learning, Control Syste...</td>\n",
       "    </tr>\n",
       "    <tr>\n",
       "      <th>3</th>\n",
       "      <td>Data Science</td>\n",
       "      <td>Skills â¢ R â¢ Python â¢ SAP HANA â¢ Table...</td>\n",
       "    </tr>\n",
       "    <tr>\n",
       "      <th>4</th>\n",
       "      <td>Data Science</td>\n",
       "      <td>Education Details \\r\\n MCA   YMCAUST,  Faridab...</td>\n",
       "    </tr>\n",
       "    <tr>\n",
       "      <th>...</th>\n",
       "      <td>...</td>\n",
       "      <td>...</td>\n",
       "    </tr>\n",
       "    <tr>\n",
       "      <th>957</th>\n",
       "      <td>Testing</td>\n",
       "      <td>Computer Skills: â¢ Proficient in MS office (...</td>\n",
       "    </tr>\n",
       "    <tr>\n",
       "      <th>958</th>\n",
       "      <td>Testing</td>\n",
       "      <td>â Willingness to accept the challenges. â ...</td>\n",
       "    </tr>\n",
       "    <tr>\n",
       "      <th>959</th>\n",
       "      <td>Testing</td>\n",
       "      <td>PERSONAL SKILLS â¢ Quick learner, â¢ Eagerne...</td>\n",
       "    </tr>\n",
       "    <tr>\n",
       "      <th>960</th>\n",
       "      <td>Testing</td>\n",
       "      <td>COMPUTER SKILLS &amp; SOFTWARE KNOWLEDGE MS-Power ...</td>\n",
       "    </tr>\n",
       "    <tr>\n",
       "      <th>961</th>\n",
       "      <td>Testing</td>\n",
       "      <td>Skill Set OS Windows XP/7/8/8.1/10 Database MY...</td>\n",
       "    </tr>\n",
       "  </tbody>\n",
       "</table>\n",
       "<p>962 rows × 2 columns</p>\n",
       "</div>"
      ],
      "text/plain": [
       "         Category                                             Resume\n",
       "0    Data Science  Skills * Programming Languages: Python (pandas...\n",
       "1    Data Science  Education Details \\r\\nMay 2013 to May 2017 B.E...\n",
       "2    Data Science  Areas of Interest Deep Learning, Control Syste...\n",
       "3    Data Science  Skills â¢ R â¢ Python â¢ SAP HANA â¢ Table...\n",
       "4    Data Science  Education Details \\r\\n MCA   YMCAUST,  Faridab...\n",
       "..            ...                                                ...\n",
       "957       Testing  Computer Skills: â¢ Proficient in MS office (...\n",
       "958       Testing  â Willingness to accept the challenges. â ...\n",
       "959       Testing  PERSONAL SKILLS â¢ Quick learner, â¢ Eagerne...\n",
       "960       Testing  COMPUTER SKILLS & SOFTWARE KNOWLEDGE MS-Power ...\n",
       "961       Testing  Skill Set OS Windows XP/7/8/8.1/10 Database MY...\n",
       "\n",
       "[962 rows x 2 columns]"
      ]
     },
     "execution_count": 3,
     "metadata": {},
     "output_type": "execute_result"
    }
   ],
   "source": [
    "df = pd.read_csv('./UpdatedResumeDataSet.csv')\n",
    "df"
   ]
  },
  {
   "cell_type": "markdown",
   "id": "70e8c899",
   "metadata": {},
   "source": [
    "## EDA"
   ]
  },
  {
   "cell_type": "code",
   "execution_count": 4,
   "id": "ba13accc",
   "metadata": {
    "scrolled": true
   },
   "outputs": [
    {
     "data": {
      "text/plain": [
       "Java Developer               84\n",
       "Testing                      70\n",
       "DevOps Engineer              55\n",
       "Python Developer             48\n",
       "Web Designing                45\n",
       "HR                           44\n",
       "Hadoop                       42\n",
       "Blockchain                   40\n",
       "ETL Developer                40\n",
       "Operations Manager           40\n",
       "Data Science                 40\n",
       "Sales                        40\n",
       "Mechanical Engineer          40\n",
       "Arts                         36\n",
       "Database                     33\n",
       "Electrical Engineering       30\n",
       "Health and fitness           30\n",
       "PMO                          30\n",
       "Business Analyst             28\n",
       "DotNet Developer             28\n",
       "Automation Testing           26\n",
       "Network Security Engineer    25\n",
       "SAP Developer                24\n",
       "Civil Engineer               24\n",
       "Advocate                     20\n",
       "Name: Category, dtype: int64"
      ]
     },
     "execution_count": 4,
     "metadata": {},
     "output_type": "execute_result"
    }
   ],
   "source": [
    "df['Category'].value_counts()"
   ]
  },
  {
   "cell_type": "code",
   "execution_count": 5,
   "id": "a4b5ed90",
   "metadata": {
    "scrolled": true
   },
   "outputs": [
    {
     "data": {
      "image/png": "[encoded data removed]",
      "text/plain": [
       "<Figure size 640x480 with 1 Axes>"
      ]
     },
     "metadata": {},
     "output_type": "display_data"
    }
   ],
   "source": [
    "sns.countplot(y=\"Category\", data=df);"
   ]
  },
  {
   "cell_type": "markdown",
   "id": "c47827d9",
   "metadata": {},
   "source": [
    "## Data Cleaning"
   ]
  },
  {
   "cell_type": "code",
   "execution_count": 6,
   "id": "6391cb8d",
   "metadata": {
    "scrolled": true
   },
   "outputs": [],
   "source": [
    "# clean the data\n",
    "def clean_data(data):\n",
    "    data = data.lower()\n",
    "    # Remove URLs\n",
    "    data = re.sub('http\\S+\\s*', ' ', data)\n",
    "    # Remove RT and cc\n",
    "    data = re.sub('RT|cc', ' ', data)\n",
    "    # Remove hashtags\n",
    "    data = re.sub('#\\S+', '', data)\n",
    "    # Remove mentions\n",
    "    data = re.sub('@\\S+', ' ', data)\n",
    "    # Remove punctuations and non-ASCII characters\n",
    "    data = re.sub('[^a-zA-Z]', ' ', data)\n",
    "    # Remove extra whitespace\n",
    "    data = re.sub('\\s+', ' ', data)\n",
    "    \n",
    "    return data"
   ]
  },
  {
   "cell_type": "code",
   "execution_count": 7,
   "id": "5e22bf36",
   "metadata": {
    "scrolled": true
   },
   "outputs": [],
   "source": [
    "df['Resume'] = df['Resume'].apply(clean_data)"
   ]
  },
  {
   "cell_type": "code",
   "execution_count": 8,
   "id": "d701a41f",
   "metadata": {
    "scrolled": true
   },
   "outputs": [
    {
     "data": {
      "text/html": [
       "<div>\n",
       "<style scoped>\n",
       "    .dataframe tbody tr th:only-of-type {\n",
       "        vertical-align: middle;\n",
       "    }\n",
       "\n",
       "    .dataframe tbody tr th {\n",
       "        vertical-align: top;\n",
       "    }\n",
       "\n",
       "    .dataframe thead th {\n",
       "        text-align: right;\n",
       "    }\n",
       "</style>\n",
       "<table border=\"1\" class=\"dataframe\">\n",
       "  <thead>\n",
       "    <tr style=\"text-align: right;\">\n",
       "      <th></th>\n",
       "      <th>Category</th>\n",
       "      <th>Resume</th>\n",
       "    </tr>\n",
       "  </thead>\n",
       "  <tbody>\n",
       "    <tr>\n",
       "      <th>0</th>\n",
       "      <td>Data Science</td>\n",
       "      <td>skills programming languages python pandas num...</td>\n",
       "    </tr>\n",
       "    <tr>\n",
       "      <th>1</th>\n",
       "      <td>Data Science</td>\n",
       "      <td>education details may to may b e uit rgpv data...</td>\n",
       "    </tr>\n",
       "    <tr>\n",
       "      <th>2</th>\n",
       "      <td>Data Science</td>\n",
       "      <td>areas of interest deep learning control system...</td>\n",
       "    </tr>\n",
       "    <tr>\n",
       "      <th>3</th>\n",
       "      <td>Data Science</td>\n",
       "      <td>skills r python sap hana tableau sap hana sql ...</td>\n",
       "    </tr>\n",
       "    <tr>\n",
       "      <th>4</th>\n",
       "      <td>Data Science</td>\n",
       "      <td>education details mca ymcaust faridabad haryan...</td>\n",
       "    </tr>\n",
       "    <tr>\n",
       "      <th>...</th>\n",
       "      <td>...</td>\n",
       "      <td>...</td>\n",
       "    </tr>\n",
       "    <tr>\n",
       "      <th>957</th>\n",
       "      <td>Testing</td>\n",
       "      <td>computer skills proficient in ms office word b...</td>\n",
       "    </tr>\n",
       "    <tr>\n",
       "      <th>958</th>\n",
       "      <td>Testing</td>\n",
       "      <td>willingness to a ept the challenges positive ...</td>\n",
       "    </tr>\n",
       "    <tr>\n",
       "      <th>959</th>\n",
       "      <td>Testing</td>\n",
       "      <td>personal skills quick learner eagerness to lea...</td>\n",
       "    </tr>\n",
       "    <tr>\n",
       "      <th>960</th>\n",
       "      <td>Testing</td>\n",
       "      <td>computer skills software knowledge ms power po...</td>\n",
       "    </tr>\n",
       "    <tr>\n",
       "      <th>961</th>\n",
       "      <td>Testing</td>\n",
       "      <td>skill set os windows xp database mysql sql ser...</td>\n",
       "    </tr>\n",
       "  </tbody>\n",
       "</table>\n",
       "<p>962 rows × 2 columns</p>\n",
       "</div>"
      ],
      "text/plain": [
       "         Category                                             Resume\n",
       "0    Data Science  skills programming languages python pandas num...\n",
       "1    Data Science  education details may to may b e uit rgpv data...\n",
       "2    Data Science  areas of interest deep learning control system...\n",
       "3    Data Science  skills r python sap hana tableau sap hana sql ...\n",
       "4    Data Science  education details mca ymcaust faridabad haryan...\n",
       "..            ...                                                ...\n",
       "957       Testing  computer skills proficient in ms office word b...\n",
       "958       Testing   willingness to a ept the challenges positive ...\n",
       "959       Testing  personal skills quick learner eagerness to lea...\n",
       "960       Testing  computer skills software knowledge ms power po...\n",
       "961       Testing  skill set os windows xp database mysql sql ser...\n",
       "\n",
       "[962 rows x 2 columns]"
      ]
     },
     "execution_count": 8,
     "metadata": {},
     "output_type": "execute_result"
    }
   ],
   "source": [
    "df"
   ]
  },
  {
   "cell_type": "code",
   "execution_count": 11,
   "id": "9219c06f",
   "metadata": {
    "scrolled": true
   },
   "outputs": [],
   "source": [
    "def tokenize(text):\n",
    "    words = re.split(\"\\W+\", text)\n",
    "    return words"
   ]
  },
  {
   "cell_type": "code",
   "execution_count": 12,
   "id": "01a1f9b7",
   "metadata": {
    "scrolled": true
   },
   "outputs": [
    {
     "data": {
      "text/html": [
       "<div>\n",
       "<style scoped>\n",
       "    .dataframe tbody tr th:only-of-type {\n",
       "        vertical-align: middle;\n",
       "    }\n",
       "\n",
       "    .dataframe tbody tr th {\n",
       "        vertical-align: top;\n",
       "    }\n",
       "\n",
       "    .dataframe thead th {\n",
       "        text-align: right;\n",
       "    }\n",
       "</style>\n",
       "<table border=\"1\" class=\"dataframe\">\n",
       "  <thead>\n",
       "    <tr style=\"text-align: right;\">\n",
       "      <th></th>\n",
       "      <th>Category</th>\n",
       "      <th>Resume</th>\n",
       "      <th>resume_split</th>\n",
       "    </tr>\n",
       "  </thead>\n",
       "  <tbody>\n",
       "    <tr>\n",
       "      <th>0</th>\n",
       "      <td>Data Science</td>\n",
       "      <td>skills programming languages python pandas num...</td>\n",
       "      <td>[skills, programming, languages, python, panda...</td>\n",
       "    </tr>\n",
       "    <tr>\n",
       "      <th>1</th>\n",
       "      <td>Data Science</td>\n",
       "      <td>education details may to may b e uit rgpv data...</td>\n",
       "      <td>[education, details, may, to, may, b, e, uit, ...</td>\n",
       "    </tr>\n",
       "    <tr>\n",
       "      <th>2</th>\n",
       "      <td>Data Science</td>\n",
       "      <td>areas of interest deep learning control system...</td>\n",
       "      <td>[areas, of, interest, deep, learning, control,...</td>\n",
       "    </tr>\n",
       "    <tr>\n",
       "      <th>3</th>\n",
       "      <td>Data Science</td>\n",
       "      <td>skills r python sap hana tableau sap hana sql ...</td>\n",
       "      <td>[skills, r, python, sap, hana, tableau, sap, h...</td>\n",
       "    </tr>\n",
       "    <tr>\n",
       "      <th>4</th>\n",
       "      <td>Data Science</td>\n",
       "      <td>education details mca ymcaust faridabad haryan...</td>\n",
       "      <td>[education, details, mca, ymcaust, faridabad, ...</td>\n",
       "    </tr>\n",
       "  </tbody>\n",
       "</table>\n",
       "</div>"
      ],
      "text/plain": [
       "       Category                                             Resume  \\\n",
       "0  Data Science  skills programming languages python pandas num...   \n",
       "1  Data Science  education details may to may b e uit rgpv data...   \n",
       "2  Data Science  areas of interest deep learning control system...   \n",
       "3  Data Science  skills r python sap hana tableau sap hana sql ...   \n",
       "4  Data Science  education details mca ymcaust faridabad haryan...   \n",
       "\n",
       "                                        resume_split  \n",
       "0  [skills, programming, languages, python, panda...  \n",
       "1  [education, details, may, to, may, b, e, uit, ...  \n",
       "2  [areas, of, interest, deep, learning, control,...  \n",
       "3  [skills, r, python, sap, hana, tableau, sap, h...  \n",
       "4  [education, details, mca, ymcaust, faridabad, ...  "
      ]
     },
     "execution_count": 12,
     "metadata": {},
     "output_type": "execute_result"
    }
   ],
   "source": [
    "df['resume_split'] = df['Resume'].apply(lambda x: tokenize(x))\n",
    "df.head()"
   ]
  },
  {
   "cell_type": "markdown",
   "id": "993686a5",
   "metadata": {},
   "source": [
    "### Stopwords"
   ]
  },
  {
   "cell_type": "code",
   "execution_count": 13,
   "id": "04454155",
   "metadata": {
    "scrolled": true
   },
   "outputs": [],
   "source": [
    "# nltk.download('stopwords')\n",
    "# nltk.download('wordnet')"
   ]
  },
  {
   "cell_type": "code",
   "execution_count": 14,
   "id": "3619a1d7",
   "metadata": {
    "scrolled": true
   },
   "outputs": [],
   "source": [
    "stopword = nltk.corpus.stopwords.words('english')\n",
    "\n",
    "def remove_stopwords(text):\n",
    "  text = [word for word in text if word not in stopword]\n",
    "  return text"
   ]
  },
  {
   "cell_type": "code",
   "execution_count": 15,
   "id": "5aae6728",
   "metadata": {
    "scrolled": true
   },
   "outputs": [
    {
     "data": {
      "text/plain": [
       "0    [skills, programming, languages, python, panda...\n",
       "1    [education, details, may, may, b, e, uit, rgpv...\n",
       "2    [areas, interest, deep, learning, control, sys...\n",
       "3    [skills, r, python, sap, hana, tableau, sap, h...\n",
       "4    [education, details, mca, ymcaust, faridabad, ...\n",
       "Name: resume_split_stopword, dtype: object"
      ]
     },
     "execution_count": 15,
     "metadata": {},
     "output_type": "execute_result"
    }
   ],
   "source": [
    "df['resume_split_stopword'] = df['resume_split'].apply(lambda x: remove_stopwords(x))\n",
    "df['resume_split_stopword'].head()"
   ]
  },
  {
   "cell_type": "code",
   "execution_count": 16,
   "id": "aff53f49",
   "metadata": {
    "scrolled": true
   },
   "outputs": [
    {
     "data": {
      "text/html": [
       "<div>\n",
       "<style scoped>\n",
       "    .dataframe tbody tr th:only-of-type {\n",
       "        vertical-align: middle;\n",
       "    }\n",
       "\n",
       "    .dataframe tbody tr th {\n",
       "        vertical-align: top;\n",
       "    }\n",
       "\n",
       "    .dataframe thead th {\n",
       "        text-align: right;\n",
       "    }\n",
       "</style>\n",
       "<table border=\"1\" class=\"dataframe\">\n",
       "  <thead>\n",
       "    <tr style=\"text-align: right;\">\n",
       "      <th></th>\n",
       "      <th>Category</th>\n",
       "      <th>Resume</th>\n",
       "      <th>resume_split</th>\n",
       "      <th>resume_split_stopword</th>\n",
       "    </tr>\n",
       "  </thead>\n",
       "  <tbody>\n",
       "    <tr>\n",
       "      <th>0</th>\n",
       "      <td>Data Science</td>\n",
       "      <td>skills programming languages python pandas num...</td>\n",
       "      <td>[skills, programming, languages, python, panda...</td>\n",
       "      <td>[skills, programming, languages, python, panda...</td>\n",
       "    </tr>\n",
       "    <tr>\n",
       "      <th>1</th>\n",
       "      <td>Data Science</td>\n",
       "      <td>education details may to may b e uit rgpv data...</td>\n",
       "      <td>[education, details, may, to, may, b, e, uit, ...</td>\n",
       "      <td>[education, details, may, may, b, e, uit, rgpv...</td>\n",
       "    </tr>\n",
       "    <tr>\n",
       "      <th>2</th>\n",
       "      <td>Data Science</td>\n",
       "      <td>areas of interest deep learning control system...</td>\n",
       "      <td>[areas, of, interest, deep, learning, control,...</td>\n",
       "      <td>[areas, interest, deep, learning, control, sys...</td>\n",
       "    </tr>\n",
       "    <tr>\n",
       "      <th>3</th>\n",
       "      <td>Data Science</td>\n",
       "      <td>skills r python sap hana tableau sap hana sql ...</td>\n",
       "      <td>[skills, r, python, sap, hana, tableau, sap, h...</td>\n",
       "      <td>[skills, r, python, sap, hana, tableau, sap, h...</td>\n",
       "    </tr>\n",
       "    <tr>\n",
       "      <th>4</th>\n",
       "      <td>Data Science</td>\n",
       "      <td>education details mca ymcaust faridabad haryan...</td>\n",
       "      <td>[education, details, mca, ymcaust, faridabad, ...</td>\n",
       "      <td>[education, details, mca, ymcaust, faridabad, ...</td>\n",
       "    </tr>\n",
       "    <tr>\n",
       "      <th>...</th>\n",
       "      <td>...</td>\n",
       "      <td>...</td>\n",
       "      <td>...</td>\n",
       "      <td>...</td>\n",
       "    </tr>\n",
       "    <tr>\n",
       "      <th>957</th>\n",
       "      <td>Testing</td>\n",
       "      <td>computer skills proficient in ms office word b...</td>\n",
       "      <td>[computer, skills, proficient, in, ms, office,...</td>\n",
       "      <td>[computer, skills, proficient, ms, office, wor...</td>\n",
       "    </tr>\n",
       "    <tr>\n",
       "      <th>958</th>\n",
       "      <td>Testing</td>\n",
       "      <td>willingness to a ept the challenges positive ...</td>\n",
       "      <td>[, willingness, to, a, ept, the, challenges, p...</td>\n",
       "      <td>[, willingness, ept, challenges, positive, thi...</td>\n",
       "    </tr>\n",
       "    <tr>\n",
       "      <th>959</th>\n",
       "      <td>Testing</td>\n",
       "      <td>personal skills quick learner eagerness to lea...</td>\n",
       "      <td>[personal, skills, quick, learner, eagerness, ...</td>\n",
       "      <td>[personal, skills, quick, learner, eagerness, ...</td>\n",
       "    </tr>\n",
       "    <tr>\n",
       "      <th>960</th>\n",
       "      <td>Testing</td>\n",
       "      <td>computer skills software knowledge ms power po...</td>\n",
       "      <td>[computer, skills, software, knowledge, ms, po...</td>\n",
       "      <td>[computer, skills, software, knowledge, ms, po...</td>\n",
       "    </tr>\n",
       "    <tr>\n",
       "      <th>961</th>\n",
       "      <td>Testing</td>\n",
       "      <td>skill set os windows xp database mysql sql ser...</td>\n",
       "      <td>[skill, set, os, windows, xp, database, mysql,...</td>\n",
       "      <td>[skill, set, os, windows, xp, database, mysql,...</td>\n",
       "    </tr>\n",
       "  </tbody>\n",
       "</table>\n",
       "<p>962 rows × 4 columns</p>\n",
       "</div>"
      ],
      "text/plain": [
       "         Category                                             Resume  \\\n",
       "0    Data Science  skills programming languages python pandas num...   \n",
       "1    Data Science  education details may to may b e uit rgpv data...   \n",
       "2    Data Science  areas of interest deep learning control system...   \n",
       "3    Data Science  skills r python sap hana tableau sap hana sql ...   \n",
       "4    Data Science  education details mca ymcaust faridabad haryan...   \n",
       "..            ...                                                ...   \n",
       "957       Testing  computer skills proficient in ms office word b...   \n",
       "958       Testing   willingness to a ept the challenges positive ...   \n",
       "959       Testing  personal skills quick learner eagerness to lea...   \n",
       "960       Testing  computer skills software knowledge ms power po...   \n",
       "961       Testing  skill set os windows xp database mysql sql ser...   \n",
       "\n",
       "                                          resume_split  \\\n",
       "0    [skills, programming, languages, python, panda...   \n",
       "1    [education, details, may, to, may, b, e, uit, ...   \n",
       "2    [areas, of, interest, deep, learning, control,...   \n",
       "3    [skills, r, python, sap, hana, tableau, sap, h...   \n",
       "4    [education, details, mca, ymcaust, faridabad, ...   \n",
       "..                                                 ...   \n",
       "957  [computer, skills, proficient, in, ms, office,...   \n",
       "958  [, willingness, to, a, ept, the, challenges, p...   \n",
       "959  [personal, skills, quick, learner, eagerness, ...   \n",
       "960  [computer, skills, software, knowledge, ms, po...   \n",
       "961  [skill, set, os, windows, xp, database, mysql,...   \n",
       "\n",
       "                                 resume_split_stopword  \n",
       "0    [skills, programming, languages, python, panda...  \n",
       "1    [education, details, may, may, b, e, uit, rgpv...  \n",
       "2    [areas, interest, deep, learning, control, sys...  \n",
       "3    [skills, r, python, sap, hana, tableau, sap, h...  \n",
       "4    [education, details, mca, ymcaust, faridabad, ...  \n",
       "..                                                 ...  \n",
       "957  [computer, skills, proficient, ms, office, wor...  \n",
       "958  [, willingness, ept, challenges, positive, thi...  \n",
       "959  [personal, skills, quick, learner, eagerness, ...  \n",
       "960  [computer, skills, software, knowledge, ms, po...  \n",
       "961  [skill, set, os, windows, xp, database, mysql,...  \n",
       "\n",
       "[962 rows x 4 columns]"
      ]
     },
     "execution_count": 16,
     "metadata": {},
     "output_type": "execute_result"
    }
   ],
   "source": [
    "df"
   ]
  },
  {
   "cell_type": "markdown",
   "id": "dc1c7117",
   "metadata": {},
   "source": [
    "## Stemming dan Lemmatization"
   ]
  },
  {
   "cell_type": "code",
   "execution_count": 17,
   "id": "07c3e7bb",
   "metadata": {
    "scrolled": true
   },
   "outputs": [],
   "source": [
    "from nltk.stem import WordNetLemmatizer"
   ]
  },
  {
   "cell_type": "code",
   "execution_count": 18,
   "id": "8d8ade1c",
   "metadata": {
    "scrolled": true
   },
   "outputs": [],
   "source": [
    "lemmatizer = WordNetLemmatizer()\n",
    "def lemmatize_word(word):\n",
    "    return lemmatizer.lemmatize(word)"
   ]
  },
  {
   "cell_type": "code",
   "execution_count": 19,
   "id": "1663f21d",
   "metadata": {},
   "outputs": [
    {
     "data": {
      "text/plain": [
       "0    [skill, programming, language, python, panda, ...\n",
       "1    [education, detail, may, may, b, e, uit, rgpv,...\n",
       "2    [area, interest, deep, learning, control, syst...\n",
       "3    [skill, r, python, sap, hana, tableau, sap, ha...\n",
       "4    [education, detail, mca, ymcaust, faridabad, h...\n",
       "Name: resume_split_stopword_lemma, dtype: object"
      ]
     },
     "execution_count": 19,
     "metadata": {},
     "output_type": "execute_result"
    }
   ],
   "source": [
    "df['resume_split_stopword_lemma'] = df['resume_split_stopword'].apply(lambda x: [lemmatizer.lemmatize(word) for word in x])\n",
    "df['resume_split_stopword_lemma'].head()"
   ]
  },
  {
   "cell_type": "code",
   "execution_count": 20,
   "id": "8042118f",
   "metadata": {
    "scrolled": true
   },
   "outputs": [
    {
     "data": {
      "text/html": [
       "<div>\n",
       "<style scoped>\n",
       "    .dataframe tbody tr th:only-of-type {\n",
       "        vertical-align: middle;\n",
       "    }\n",
       "\n",
       "    .dataframe tbody tr th {\n",
       "        vertical-align: top;\n",
       "    }\n",
       "\n",
       "    .dataframe thead th {\n",
       "        text-align: right;\n",
       "    }\n",
       "</style>\n",
       "<table border=\"1\" class=\"dataframe\">\n",
       "  <thead>\n",
       "    <tr style=\"text-align: right;\">\n",
       "      <th></th>\n",
       "      <th>Category</th>\n",
       "      <th>join_words</th>\n",
       "    </tr>\n",
       "  </thead>\n",
       "  <tbody>\n",
       "    <tr>\n",
       "      <th>0</th>\n",
       "      <td>Data Science</td>\n",
       "      <td>skill programming language python panda numpy ...</td>\n",
       "    </tr>\n",
       "    <tr>\n",
       "      <th>1</th>\n",
       "      <td>Data Science</td>\n",
       "      <td>education detail may may b e uit rgpv data sci...</td>\n",
       "    </tr>\n",
       "    <tr>\n",
       "      <th>2</th>\n",
       "      <td>Data Science</td>\n",
       "      <td>area interest deep learning control system des...</td>\n",
       "    </tr>\n",
       "    <tr>\n",
       "      <th>3</th>\n",
       "      <td>Data Science</td>\n",
       "      <td>skill r python sap hana tableau sap hana sql s...</td>\n",
       "    </tr>\n",
       "    <tr>\n",
       "      <th>4</th>\n",
       "      <td>Data Science</td>\n",
       "      <td>education detail mca ymcaust faridabad haryana...</td>\n",
       "    </tr>\n",
       "    <tr>\n",
       "      <th>...</th>\n",
       "      <td>...</td>\n",
       "      <td>...</td>\n",
       "    </tr>\n",
       "    <tr>\n",
       "      <th>957</th>\n",
       "      <td>Testing</td>\n",
       "      <td>computer skill proficient m office word basic ...</td>\n",
       "    </tr>\n",
       "    <tr>\n",
       "      <th>958</th>\n",
       "      <td>Testing</td>\n",
       "      <td>willingness ept challenge positive thinking g...</td>\n",
       "    </tr>\n",
       "    <tr>\n",
       "      <th>959</th>\n",
       "      <td>Testing</td>\n",
       "      <td>personal skill quick learner eagerness learn n...</td>\n",
       "    </tr>\n",
       "    <tr>\n",
       "      <th>960</th>\n",
       "      <td>Testing</td>\n",
       "      <td>computer skill software knowledge m power poin...</td>\n",
       "    </tr>\n",
       "    <tr>\n",
       "      <th>961</th>\n",
       "      <td>Testing</td>\n",
       "      <td>skill set o window xp database mysql sql serve...</td>\n",
       "    </tr>\n",
       "  </tbody>\n",
       "</table>\n",
       "<p>962 rows × 2 columns</p>\n",
       "</div>"
      ],
      "text/plain": [
       "         Category                                         join_words\n",
       "0    Data Science  skill programming language python panda numpy ...\n",
       "1    Data Science  education detail may may b e uit rgpv data sci...\n",
       "2    Data Science  area interest deep learning control system des...\n",
       "3    Data Science  skill r python sap hana tableau sap hana sql s...\n",
       "4    Data Science  education detail mca ymcaust faridabad haryana...\n",
       "..            ...                                                ...\n",
       "957       Testing  computer skill proficient m office word basic ...\n",
       "958       Testing   willingness ept challenge positive thinking g...\n",
       "959       Testing  personal skill quick learner eagerness learn n...\n",
       "960       Testing  computer skill software knowledge m power poin...\n",
       "961       Testing  skill set o window xp database mysql sql serve...\n",
       "\n",
       "[962 rows x 2 columns]"
      ]
     },
     "execution_count": 20,
     "metadata": {},
     "output_type": "execute_result"
    }
   ],
   "source": [
    "def concat(lst):\n",
    "    sentence = ' '.join(lst)\n",
    "    return sentence\n",
    "\n",
    "df['join_words'] = df['resume_split_stopword_lemma'].apply(concat)\n",
    "new_df = df[['Category', 'join_words']]\n",
    "new_df"
   ]
  },
  {
   "cell_type": "markdown",
   "id": "905b81b4",
   "metadata": {},
   "source": [
    "# Data Splitting"
   ]
  },
  {
   "cell_type": "code",
   "execution_count": 21,
   "id": "af17628b",
   "metadata": {
    "scrolled": true
   },
   "outputs": [],
   "source": [
    "from sklearn.model_selection import train_test_split"
   ]
  },
  {
   "cell_type": "code",
   "execution_count": 22,
   "id": "7417a15c",
   "metadata": {
    "scrolled": true
   },
   "outputs": [
    {
     "data": {
      "text/plain": [
       "((721,), (241,), (721,), (241,))"
      ]
     },
     "execution_count": 22,
     "metadata": {},
     "output_type": "execute_result"
    }
   ],
   "source": [
    "text = df['join_words']\n",
    "label = df['Category']\n",
    "text_train, text_test, label_train, label_test = train_test_split(text, label, test_size=0.25,\n",
    "                                                                  stratify=label, random_state=42)\n",
    "text_train.shape, text_test.shape, label_train.shape, label_test.shape"
   ]
  },
  {
   "cell_type": "markdown",
   "id": "6ac1e749",
   "metadata": {},
   "source": [
    "# Tokenizer & Padding"
   ]
  },
  {
   "cell_type": "code",
   "execution_count": 23,
   "id": "1ddb92f9",
   "metadata": {
    "scrolled": true
   },
   "outputs": [],
   "source": [
    "from tensorflow.keras.preprocessing.text import Tokenizer\n",
    "from tensorflow.keras.preprocessing.sequence import pad_sequences"
   ]
  },
  {
   "cell_type": "code",
   "execution_count": 24,
   "id": "e3d76ba1",
   "metadata": {
    "scrolled": true
   },
   "outputs": [],
   "source": [
    "tokenizer = Tokenizer(num_words=1024, oov_token='x')\n",
    "tokenizer.fit_on_texts(text_train)\n",
    "tokenizer.fit_on_texts(text_test)\n",
    "\n",
    "sequence_train = tokenizer.texts_to_sequences(text_train)\n",
    "sequence_test = tokenizer.texts_to_sequences(text_test)\n",
    "\n",
    "padded_train = pad_sequences(sequence_train)\n",
    "padded_test = pad_sequences(sequence_test)"
   ]
  },
  {
   "cell_type": "code",
   "execution_count": 25,
   "id": "dceaf84d",
   "metadata": {
    "scrolled": true
   },
   "outputs": [],
   "source": [
    "from keras.utils import to_categorical\n",
    "\n",
    "# Mengubah label menjadi one-hot encoding\n",
    "label_train_encoded = pd.get_dummies(label_train)\n",
    "label_test_encoded = pd.get_dummies(label_test)"
   ]
  },
  {
   "cell_type": "code",
   "execution_count": 26,
   "id": "94e2ee2f",
   "metadata": {
    "scrolled": true
   },
   "outputs": [
    {
     "data": {
      "text/html": [
       "<div>\n",
       "<style scoped>\n",
       "    .dataframe tbody tr th:only-of-type {\n",
       "        vertical-align: middle;\n",
       "    }\n",
       "\n",
       "    .dataframe tbody tr th {\n",
       "        vertical-align: top;\n",
       "    }\n",
       "\n",
       "    .dataframe thead th {\n",
       "        text-align: right;\n",
       "    }\n",
       "</style>\n",
       "<table border=\"1\" class=\"dataframe\">\n",
       "  <thead>\n",
       "    <tr style=\"text-align: right;\">\n",
       "      <th></th>\n",
       "      <th>Advocate</th>\n",
       "      <th>Arts</th>\n",
       "      <th>Automation Testing</th>\n",
       "      <th>Blockchain</th>\n",
       "      <th>Business Analyst</th>\n",
       "      <th>Civil Engineer</th>\n",
       "      <th>Data Science</th>\n",
       "      <th>Database</th>\n",
       "      <th>DevOps Engineer</th>\n",
       "      <th>DotNet Developer</th>\n",
       "      <th>...</th>\n",
       "      <th>Java Developer</th>\n",
       "      <th>Mechanical Engineer</th>\n",
       "      <th>Network Security Engineer</th>\n",
       "      <th>Operations Manager</th>\n",
       "      <th>PMO</th>\n",
       "      <th>Python Developer</th>\n",
       "      <th>SAP Developer</th>\n",
       "      <th>Sales</th>\n",
       "      <th>Testing</th>\n",
       "      <th>Web Designing</th>\n",
       "    </tr>\n",
       "  </thead>\n",
       "  <tbody>\n",
       "    <tr>\n",
       "      <th>662</th>\n",
       "      <td>0</td>\n",
       "      <td>0</td>\n",
       "      <td>0</td>\n",
       "      <td>0</td>\n",
       "      <td>0</td>\n",
       "      <td>0</td>\n",
       "      <td>0</td>\n",
       "      <td>0</td>\n",
       "      <td>0</td>\n",
       "      <td>0</td>\n",
       "      <td>...</td>\n",
       "      <td>0</td>\n",
       "      <td>0</td>\n",
       "      <td>1</td>\n",
       "      <td>0</td>\n",
       "      <td>0</td>\n",
       "      <td>0</td>\n",
       "      <td>0</td>\n",
       "      <td>0</td>\n",
       "      <td>0</td>\n",
       "      <td>0</td>\n",
       "    </tr>\n",
       "    <tr>\n",
       "      <th>881</th>\n",
       "      <td>0</td>\n",
       "      <td>0</td>\n",
       "      <td>0</td>\n",
       "      <td>1</td>\n",
       "      <td>0</td>\n",
       "      <td>0</td>\n",
       "      <td>0</td>\n",
       "      <td>0</td>\n",
       "      <td>0</td>\n",
       "      <td>0</td>\n",
       "      <td>...</td>\n",
       "      <td>0</td>\n",
       "      <td>0</td>\n",
       "      <td>0</td>\n",
       "      <td>0</td>\n",
       "      <td>0</td>\n",
       "      <td>0</td>\n",
       "      <td>0</td>\n",
       "      <td>0</td>\n",
       "      <td>0</td>\n",
       "      <td>0</td>\n",
       "    </tr>\n",
       "    <tr>\n",
       "      <th>708</th>\n",
       "      <td>0</td>\n",
       "      <td>0</td>\n",
       "      <td>0</td>\n",
       "      <td>0</td>\n",
       "      <td>0</td>\n",
       "      <td>0</td>\n",
       "      <td>0</td>\n",
       "      <td>0</td>\n",
       "      <td>0</td>\n",
       "      <td>0</td>\n",
       "      <td>...</td>\n",
       "      <td>0</td>\n",
       "      <td>0</td>\n",
       "      <td>0</td>\n",
       "      <td>0</td>\n",
       "      <td>1</td>\n",
       "      <td>0</td>\n",
       "      <td>0</td>\n",
       "      <td>0</td>\n",
       "      <td>0</td>\n",
       "      <td>0</td>\n",
       "    </tr>\n",
       "    <tr>\n",
       "      <th>673</th>\n",
       "      <td>0</td>\n",
       "      <td>0</td>\n",
       "      <td>0</td>\n",
       "      <td>0</td>\n",
       "      <td>0</td>\n",
       "      <td>0</td>\n",
       "      <td>0</td>\n",
       "      <td>0</td>\n",
       "      <td>0</td>\n",
       "      <td>0</td>\n",
       "      <td>...</td>\n",
       "      <td>0</td>\n",
       "      <td>0</td>\n",
       "      <td>1</td>\n",
       "      <td>0</td>\n",
       "      <td>0</td>\n",
       "      <td>0</td>\n",
       "      <td>0</td>\n",
       "      <td>0</td>\n",
       "      <td>0</td>\n",
       "      <td>0</td>\n",
       "    </tr>\n",
       "    <tr>\n",
       "      <th>129</th>\n",
       "      <td>0</td>\n",
       "      <td>1</td>\n",
       "      <td>0</td>\n",
       "      <td>0</td>\n",
       "      <td>0</td>\n",
       "      <td>0</td>\n",
       "      <td>0</td>\n",
       "      <td>0</td>\n",
       "      <td>0</td>\n",
       "      <td>0</td>\n",
       "      <td>...</td>\n",
       "      <td>0</td>\n",
       "      <td>0</td>\n",
       "      <td>0</td>\n",
       "      <td>0</td>\n",
       "      <td>0</td>\n",
       "      <td>0</td>\n",
       "      <td>0</td>\n",
       "      <td>0</td>\n",
       "      <td>0</td>\n",
       "      <td>0</td>\n",
       "    </tr>\n",
       "    <tr>\n",
       "      <th>...</th>\n",
       "      <td>...</td>\n",
       "      <td>...</td>\n",
       "      <td>...</td>\n",
       "      <td>...</td>\n",
       "      <td>...</td>\n",
       "      <td>...</td>\n",
       "      <td>...</td>\n",
       "      <td>...</td>\n",
       "      <td>...</td>\n",
       "      <td>...</td>\n",
       "      <td>...</td>\n",
       "      <td>...</td>\n",
       "      <td>...</td>\n",
       "      <td>...</td>\n",
       "      <td>...</td>\n",
       "      <td>...</td>\n",
       "      <td>...</td>\n",
       "      <td>...</td>\n",
       "      <td>...</td>\n",
       "      <td>...</td>\n",
       "      <td>...</td>\n",
       "    </tr>\n",
       "    <tr>\n",
       "      <th>701</th>\n",
       "      <td>0</td>\n",
       "      <td>0</td>\n",
       "      <td>0</td>\n",
       "      <td>0</td>\n",
       "      <td>0</td>\n",
       "      <td>0</td>\n",
       "      <td>0</td>\n",
       "      <td>0</td>\n",
       "      <td>0</td>\n",
       "      <td>0</td>\n",
       "      <td>...</td>\n",
       "      <td>0</td>\n",
       "      <td>0</td>\n",
       "      <td>0</td>\n",
       "      <td>0</td>\n",
       "      <td>1</td>\n",
       "      <td>0</td>\n",
       "      <td>0</td>\n",
       "      <td>0</td>\n",
       "      <td>0</td>\n",
       "      <td>0</td>\n",
       "    </tr>\n",
       "    <tr>\n",
       "      <th>830</th>\n",
       "      <td>0</td>\n",
       "      <td>0</td>\n",
       "      <td>0</td>\n",
       "      <td>0</td>\n",
       "      <td>0</td>\n",
       "      <td>0</td>\n",
       "      <td>0</td>\n",
       "      <td>0</td>\n",
       "      <td>0</td>\n",
       "      <td>1</td>\n",
       "      <td>...</td>\n",
       "      <td>0</td>\n",
       "      <td>0</td>\n",
       "      <td>0</td>\n",
       "      <td>0</td>\n",
       "      <td>0</td>\n",
       "      <td>0</td>\n",
       "      <td>0</td>\n",
       "      <td>0</td>\n",
       "      <td>0</td>\n",
       "      <td>0</td>\n",
       "    </tr>\n",
       "    <tr>\n",
       "      <th>20</th>\n",
       "      <td>0</td>\n",
       "      <td>0</td>\n",
       "      <td>0</td>\n",
       "      <td>0</td>\n",
       "      <td>0</td>\n",
       "      <td>0</td>\n",
       "      <td>1</td>\n",
       "      <td>0</td>\n",
       "      <td>0</td>\n",
       "      <td>0</td>\n",
       "      <td>...</td>\n",
       "      <td>0</td>\n",
       "      <td>0</td>\n",
       "      <td>0</td>\n",
       "      <td>0</td>\n",
       "      <td>0</td>\n",
       "      <td>0</td>\n",
       "      <td>0</td>\n",
       "      <td>0</td>\n",
       "      <td>0</td>\n",
       "      <td>0</td>\n",
       "    </tr>\n",
       "    <tr>\n",
       "      <th>924</th>\n",
       "      <td>0</td>\n",
       "      <td>0</td>\n",
       "      <td>0</td>\n",
       "      <td>0</td>\n",
       "      <td>0</td>\n",
       "      <td>0</td>\n",
       "      <td>0</td>\n",
       "      <td>0</td>\n",
       "      <td>0</td>\n",
       "      <td>0</td>\n",
       "      <td>...</td>\n",
       "      <td>0</td>\n",
       "      <td>0</td>\n",
       "      <td>0</td>\n",
       "      <td>0</td>\n",
       "      <td>0</td>\n",
       "      <td>0</td>\n",
       "      <td>0</td>\n",
       "      <td>0</td>\n",
       "      <td>1</td>\n",
       "      <td>0</td>\n",
       "    </tr>\n",
       "    <tr>\n",
       "      <th>250</th>\n",
       "      <td>0</td>\n",
       "      <td>0</td>\n",
       "      <td>0</td>\n",
       "      <td>0</td>\n",
       "      <td>0</td>\n",
       "      <td>0</td>\n",
       "      <td>0</td>\n",
       "      <td>0</td>\n",
       "      <td>0</td>\n",
       "      <td>0</td>\n",
       "      <td>...</td>\n",
       "      <td>0</td>\n",
       "      <td>0</td>\n",
       "      <td>0</td>\n",
       "      <td>0</td>\n",
       "      <td>0</td>\n",
       "      <td>0</td>\n",
       "      <td>0</td>\n",
       "      <td>1</td>\n",
       "      <td>0</td>\n",
       "      <td>0</td>\n",
       "    </tr>\n",
       "  </tbody>\n",
       "</table>\n",
       "<p>721 rows × 25 columns</p>\n",
       "</div>"
      ],
      "text/plain": [
       "     Advocate  Arts  Automation Testing  Blockchain  Business Analyst  \\\n",
       "662         0     0                   0           0                 0   \n",
       "881         0     0                   0           1                 0   \n",
       "708         0     0                   0           0                 0   \n",
       "673         0     0                   0           0                 0   \n",
       "129         0     1                   0           0                 0   \n",
       "..        ...   ...                 ...         ...               ...   \n",
       "701         0     0                   0           0                 0   \n",
       "830         0     0                   0           0                 0   \n",
       "20          0     0                   0           0                 0   \n",
       "924         0     0                   0           0                 0   \n",
       "250         0     0                   0           0                 0   \n",
       "\n",
       "     Civil Engineer  Data Science  Database  DevOps Engineer  \\\n",
       "662               0             0         0                0   \n",
       "881               0             0         0                0   \n",
       "708               0             0         0                0   \n",
       "673               0             0         0                0   \n",
       "129               0             0         0                0   \n",
       "..              ...           ...       ...              ...   \n",
       "701               0             0         0                0   \n",
       "830               0             0         0                0   \n",
       "20                0             1         0                0   \n",
       "924               0             0         0                0   \n",
       "250               0             0         0                0   \n",
       "\n",
       "     DotNet Developer  ...  Java Developer  Mechanical Engineer  \\\n",
       "662                 0  ...               0                    0   \n",
       "881                 0  ...               0                    0   \n",
       "708                 0  ...               0                    0   \n",
       "673                 0  ...               0                    0   \n",
       "129                 0  ...               0                    0   \n",
       "..                ...  ...             ...                  ...   \n",
       "701                 0  ...               0                    0   \n",
       "830                 1  ...               0                    0   \n",
       "20                  0  ...               0                    0   \n",
       "924                 0  ...               0                    0   \n",
       "250                 0  ...               0                    0   \n",
       "\n",
       "     Network Security Engineer  Operations Manager  PMO  Python Developer  \\\n",
       "662                          1                   0    0                 0   \n",
       "881                          0                   0    0                 0   \n",
       "708                          0                   0    1                 0   \n",
       "673                          1                   0    0                 0   \n",
       "129                          0                   0    0                 0   \n",
       "..                         ...                 ...  ...               ...   \n",
       "701                          0                   0    1                 0   \n",
       "830                          0                   0    0                 0   \n",
       "20                           0                   0    0                 0   \n",
       "924                          0                   0    0                 0   \n",
       "250                          0                   0    0                 0   \n",
       "\n",
       "     SAP Developer  Sales  Testing  Web Designing  \n",
       "662              0      0        0              0  \n",
       "881              0      0        0              0  \n",
       "708              0      0        0              0  \n",
       "673              0      0        0              0  \n",
       "129              0      0        0              0  \n",
       "..             ...    ...      ...            ...  \n",
       "701              0      0        0              0  \n",
       "830              0      0        0              0  \n",
       "20               0      0        0              0  \n",
       "924              0      0        1              0  \n",
       "250              0      1        0              0  \n",
       "\n",
       "[721 rows x 25 columns]"
      ]
     },
     "execution_count": 26,
     "metadata": {},
     "output_type": "execute_result"
    }
   ],
   "source": [
    "label_train_encoded"
   ]
  },
  {
   "cell_type": "markdown",
   "id": "221673e9",
   "metadata": {},
   "source": [
    "# Callbacks"
   ]
  },
  {
   "cell_type": "code",
   "execution_count": 27,
   "id": "63655479",
   "metadata": {
    "scrolled": true
   },
   "outputs": [],
   "source": [
    "import tensorflow as tf"
   ]
  },
  {
   "cell_type": "code",
   "execution_count": 28,
   "id": "50e78453",
   "metadata": {
    "scrolled": true
   },
   "outputs": [],
   "source": [
    "class MyCallback(tf.keras.callbacks.Callback):\n",
    "    def on_epoch_end(self, epoch, logs={}):\n",
    "        if(logs.get('accuracy') > 0.9 and logs.get('val_accuracy') > 0.9):\n",
    "            print(\"\\nAkurasi model telah mencapai >90%\")\n",
    "            self.model.stop_training = True\n",
    "callbacks = MyCallback()"
   ]
  },
  {
   "cell_type": "code",
   "execution_count": 29,
   "id": "4c1d64fd",
   "metadata": {
    "scrolled": true
   },
   "outputs": [],
   "source": [
    "model = tf.keras.Sequential([\n",
    "    tf.keras.layers.Embedding(input_dim=1024, output_dim=16),\n",
    "    tf.keras.layers.LSTM(64),\n",
    "    tf.keras.layers.Dense(64, activation='relu'),\n",
    "    tf.keras.layers.Dropout(0.2),\n",
    "    tf.keras.layers.Dense(25, activation='softmax')\n",
    "])\n",
    "\n",
    "model.compile(\n",
    "    optimizer='Adam',\n",
    "    loss='categorical_crossentropy',\n",
    "    metrics=['accuracy']\n",
    ")"
   ]
  },
  {
   "cell_type": "code",
   "execution_count": 30,
   "id": "c0206642",
   "metadata": {
    "scrolled": true
   },
   "outputs": [
    {
     "name": "stdout",
     "output_type": "stream",
     "text": [
      "Epoch 1/150\n",
      "23/23 - 41s - loss: 3.2128 - accuracy: 0.0499 - val_loss: 3.1965 - val_accuracy: 0.0747 - 41s/epoch - 2s/step\n",
      "Epoch 2/150\n",
      "23/23 - 37s - loss: 3.1743 - accuracy: 0.0763 - val_loss: 3.1317 - val_accuracy: 0.0747 - 37s/epoch - 2s/step\n",
      "Epoch 3/150\n",
      "23/23 - 39s - loss: 3.0960 - accuracy: 0.0971 - val_loss: 2.9827 - val_accuracy: 0.1411 - 39s/epoch - 2s/step\n",
      "Epoch 4/150\n",
      "23/23 - 46s - loss: 2.8870 - accuracy: 0.1526 - val_loss: 2.8192 - val_accuracy: 0.1618 - 46s/epoch - 2s/step\n",
      "Epoch 5/150\n",
      "23/23 - 42s - loss: 2.6394 - accuracy: 0.1553 - val_loss: 2.4199 - val_accuracy: 0.1950 - 42s/epoch - 2s/step\n",
      "Epoch 6/150\n",
      "23/23 - 44s - loss: 2.3103 - accuracy: 0.2358 - val_loss: 2.1454 - val_accuracy: 0.2822 - 44s/epoch - 2s/step\n",
      "Epoch 7/150\n",
      "23/23 - 35s - loss: 2.0772 - accuracy: 0.2996 - val_loss: 2.0358 - val_accuracy: 0.3278 - 35s/epoch - 2s/step\n",
      "Epoch 8/150\n",
      "23/23 - 40s - loss: 2.0713 - accuracy: 0.2982 - val_loss: 1.8149 - val_accuracy: 0.4232 - 40s/epoch - 2s/step\n",
      "Epoch 9/150\n",
      "23/23 - 43s - loss: 1.7441 - accuracy: 0.4216 - val_loss: 1.5471 - val_accuracy: 0.5519 - 43s/epoch - 2s/step\n",
      "Epoch 10/150\n",
      "23/23 - 41s - loss: 1.5199 - accuracy: 0.5201 - val_loss: 1.3700 - val_accuracy: 0.5851 - 41s/epoch - 2s/step\n",
      "Epoch 11/150\n",
      "23/23 - 36s - loss: 1.3088 - accuracy: 0.5895 - val_loss: 1.1839 - val_accuracy: 0.6598 - 36s/epoch - 2s/step\n",
      "Epoch 12/150\n",
      "23/23 - 41s - loss: 1.0952 - accuracy: 0.6782 - val_loss: 1.1007 - val_accuracy: 0.7137 - 41s/epoch - 2s/step\n",
      "Epoch 13/150\n",
      "23/23 - 38s - loss: 1.0084 - accuracy: 0.7115 - val_loss: 1.0050 - val_accuracy: 0.6680 - 38s/epoch - 2s/step\n",
      "Epoch 14/150\n",
      "23/23 - 37s - loss: 0.8919 - accuracy: 0.7670 - val_loss: 0.9543 - val_accuracy: 0.7593 - 37s/epoch - 2s/step\n",
      "Epoch 15/150\n",
      "23/23 - 37s - loss: 0.9537 - accuracy: 0.7309 - val_loss: 1.0797 - val_accuracy: 0.6929 - 37s/epoch - 2s/step\n",
      "Epoch 16/150\n",
      "23/23 - 38s - loss: 0.8973 - accuracy: 0.7739 - val_loss: 0.8125 - val_accuracy: 0.8008 - 38s/epoch - 2s/step\n",
      "Epoch 17/150\n",
      "23/23 - 38s - loss: 0.6502 - accuracy: 0.8516 - val_loss: 0.5942 - val_accuracy: 0.8672 - 38s/epoch - 2s/step\n",
      "Epoch 18/150\n",
      "23/23 - 36s - loss: 0.4849 - accuracy: 0.8946 - val_loss: 0.5440 - val_accuracy: 0.8880 - 36s/epoch - 2s/step\n",
      "Epoch 19/150\n",
      "23/23 - 40s - loss: 0.4293 - accuracy: 0.8946 - val_loss: 0.3752 - val_accuracy: 0.9129 - 40s/epoch - 2s/step\n",
      "Epoch 20/150\n",
      "\n",
      "Akurasi model telah mencapai >90%\n",
      "23/23 - 43s - loss: 0.3343 - accuracy: 0.9237 - val_loss: 0.3114 - val_accuracy: 0.9419 - 43s/epoch - 2s/step\n"
     ]
    }
   ],
   "source": [
    "hist = model.fit(padded_train, label_train_encoded, epochs=150,\n",
    "                 validation_data=(padded_test, label_test_encoded), verbose=2,\n",
    "                 callbacks=[callbacks])"
   ]
  },
  {
   "cell_type": "code",
   "execution_count": 37,
   "id": "758b4742-b180-43d3-9788-9d96d61a2286",
   "metadata": {},
   "outputs": [
    {
     "data": {
      "image/png": "[encoded data removed]",
      "text/plain": [
       "<Figure size 640x480 with 1 Axes>"
      ]
     },
     "metadata": {},
     "output_type": "display_data"
    }
   ],
   "source": [
    "plt.plot(hist.history['accuracy'])\n",
    "plt.plot(hist.history['val_accuracy'])\n",
    "plt.title('Akurasi Model')\n",
    "plt.xlabel('epoch')\n",
    "plt.ylabel('accuracy')\n",
    "plt.legend(['train', 'test'], loc='upper left')\n",
    "plt.show()"
   ]
  },
  {
   "cell_type": "code",
   "execution_count": 38,
   "id": "ee138102-8cd1-434e-a089-28b7aebaba3b",
   "metadata": {},
   "outputs": [
    {
     "data": {
      "image/png": "[encoded data removed]",
      "text/plain": [
       "<Figure size 640x480 with 1 Axes>"
      ]
     },
     "metadata": {},
     "output_type": "display_data"
    }
   ],
   "source": [
    "plt.plot(hist.history['loss'])\n",
    "plt.plot(hist.history['val_loss'])\n",
    "plt.title('Loss Model')\n",
    "plt.xlabel('epoch')\n",
    "plt.ylabel('loss')\n",
    "plt.legend(['train', 'test'], loc='upper right')\n",
    "plt.show()"
   ]
  },
  {
   "cell_type": "code",
   "execution_count": 32,
   "id": "5a1bc1f9",
   "metadata": {
    "scrolled": true
   },
   "outputs": [
    {
     "data": {
      "text/plain": [
       "(721, 1488)"
      ]
     },
     "execution_count": 32,
     "metadata": {},
     "output_type": "execute_result"
    }
   ],
   "source": [
    "padded_train.shape"
   ]
  },
  {
   "cell_type": "code",
   "execution_count": 33,
   "id": "fcab2ab8",
   "metadata": {
    "scrolled": true
   },
   "outputs": [
    {
     "data": {
      "text/plain": [
       "(241, 1488)"
      ]
     },
     "execution_count": 33,
     "metadata": {},
     "output_type": "execute_result"
    }
   ],
   "source": [
    "padded_test.shape"
   ]
  },
  {
   "cell_type": "code",
   "execution_count": 36,
   "id": "6ab0bee8",
   "metadata": {
    "scrolled": true
   },
   "outputs": [
    {
     "name": "stdout",
     "output_type": "stream",
     "text": [
      "1/1 [==============================] - 0s 30ms/step\n"
     ]
    },
    {
     "data": {
      "text/plain": [
       "array([[0.03800679, 0.01536216, 0.0459195 , 0.01761208, 0.05734814,\n",
       "        0.11576092, 0.10367955, 0.05184166, 0.02167582, 0.01863144,\n",
       "        0.03875209, 0.03360634, 0.05494843, 0.04162121, 0.01585064,\n",
       "        0.02911439, 0.02576682, 0.0283397 , 0.0150663 , 0.01261291,\n",
       "        0.01290418, 0.06276546, 0.06612793, 0.02308198, 0.05360354],\n",
       "       [0.06301874, 0.03601708, 0.0627498 , 0.03995531, 0.04507383,\n",
       "        0.08929905, 0.06152529, 0.03218896, 0.03923336, 0.02880704,\n",
       "        0.0179682 , 0.04877952, 0.04686049, 0.03329748, 0.03448159,\n",
       "        0.02445004, 0.02485791, 0.0291857 , 0.02398229, 0.02373931,\n",
       "        0.02329121, 0.0715583 , 0.03800033, 0.03101623, 0.03066293],\n",
       "       [0.06301874, 0.03601708, 0.0627498 , 0.03995531, 0.04507383,\n",
       "        0.08929905, 0.06152529, 0.03218896, 0.03923336, 0.02880704,\n",
       "        0.0179682 , 0.04877952, 0.04686049, 0.03329748, 0.03448159,\n",
       "        0.02445004, 0.02485791, 0.0291857 , 0.02398229, 0.02373931,\n",
       "        0.02329121, 0.0715583 , 0.03800033, 0.03101623, 0.03066293],\n",
       "       [0.04254289, 0.01077705, 0.05778623, 0.01947481, 0.08802529,\n",
       "        0.12973076, 0.09150954, 0.06035231, 0.01901334, 0.02124397,\n",
       "        0.03263408, 0.02230675, 0.03617615, 0.02733037, 0.01412365,\n",
       "        0.02216871, 0.0166071 , 0.03610526, 0.01346637, 0.01433018,\n",
       "        0.01144888, 0.08949898, 0.05574707, 0.01634287, 0.05125745],\n",
       "       [0.0549899 , 0.02418477, 0.08031053, 0.03150055, 0.04478765,\n",
       "        0.03528024, 0.02897453, 0.06081446, 0.05879389, 0.06267643,\n",
       "        0.01240423, 0.02200079, 0.01441166, 0.01703263, 0.05624726,\n",
       "        0.03400474, 0.01655491, 0.07010539, 0.06357271, 0.02965351,\n",
       "        0.04600615, 0.07885173, 0.01362814, 0.02402271, 0.01919047],\n",
       "       [0.06276955, 0.02438049, 0.07464526, 0.05722032, 0.01749135,\n",
       "        0.01046787, 0.00651516, 0.02381562, 0.06692963, 0.10540543,\n",
       "        0.0016995 , 0.01292741, 0.00398412, 0.00424241, 0.13183497,\n",
       "        0.01044168, 0.00660788, 0.04836085, 0.11439288, 0.06616441,\n",
       "        0.06781015, 0.06711143, 0.0022658 , 0.00896993, 0.00354594]],\n",
       "      dtype=float32)"
      ]
     },
     "execution_count": 36,
     "metadata": {},
     "output_type": "execute_result"
    }
   ],
   "source": [
    "testing = \"python\"\n",
    "tokenizer.fit_on_texts(testing)\n",
    "tokenizer.texts_to_sequences(testing)\n",
    "sequences_testing = tokenizer.texts_to_sequences(testing)\n",
    "padded_testing = pad_sequences(sequences_testing)\n",
    "\n",
    "model.predict(padded_testing)"
   ]
  },
  {
   "cell_type": "markdown",
   "id": "ae35dc3d",
   "metadata": {},
   "source": [
    "# Data Testing"
   ]
  },
  {
   "cell_type": "code",
   "execution_count": 31,
   "id": "a656749b",
   "metadata": {
    "scrolled": true
   },
   "outputs": [],
   "source": [
    "text = 'IBM Data Science\\nCoursera\\nMicroso/f_t Professional Program Certificate in Data Science \\nMicroso/f_t \\nGoogle Certified Professional Data Engineer \\nGoogleAWARDS & CERTIFICATIONS:John Williams\\nData Scientist\\n101-900-6543\\njohnwilliams@gmail.com\\nCertified data scientist with 8 years of experience in providing data-driven solutions to increase eﬀiency\\nand accuracy. Achievements include updating data streaming processes for an 18% reduction in redundancy,\\nas well as improving the accuracy of predicted prices by 10%. Highly skilled in data visualisation, \\nmachine learning and natural processing. \\nXYZ TechnologiesWORK EXPERIENCE\\n2014-2019 California\\nGPA: 8.7Senior Data Scientist\\nTasks\\n• Developed end-to-end machine learning prototypes and scaled them to run in production environments. Increased \\neﬀiciency by 23%\\n• Derived actionable insights from massive data sets with minimal support. \\n• Provided input into the collection of new data sources and the refinement of existing onces to improve analysis and \\nmodel development. \\nAchievements\\n• Applied data mining to analyze procurement processes resulting in savings of $420,000 a year. Machine Learning Data Visualization Data Mining Python Scala NLP\\nProblem Solving Fast Learner Leadership Risk Analyisis Time ManagementSKILLSET\\nTechnical Skills\\nSo/f_t Skills\\nEDUCATION\\nBSc in Statistics\\nXYZ University\\n07/2016-07/2019\\nCourses: Probability and Statistics, Generalised Linear Models, Applied Statistics\\n• Excelled in machine learning and data science coursework. \\n• President, AI club.Tumor detection using thermal images\\n• Responsibility: Worked as a developer along with the team of three candidates. \\n• Technologies used: Python (NumPy, Pandas, Keras, Tensorflow, scikit-learn), SQL, Deep Learning algorithms. \\n• Model accuracy: 95%PROJECTS\\nTechnical Content Writing Space Exploration Badminton SwimmingINTEREST AND HOBBIES'"
   ]
  },
  {
   "cell_type": "code",
   "execution_count": null,
   "id": "6cf57f35-8478-46c1-be39-97c480517e1d",
   "metadata": {},
   "outputs": [],
   "source": []
  }
 ],
 "metadata": {
  "kernelspec": {
   "display_name": "Python [conda env:bangkit]",
   "language": "python",
   "name": "conda-env-bangkit-py"
  },
  "language_info": {
   "codemirror_mode": {
    "name": "ipython",
    "version": 3
   },
   "file_extension": ".py",
   "mimetype": "text/x-python",
   "name": "python",
   "nbconvert_exporter": "python",
   "pygments_lexer": "ipython3",
   "version": "3.9.0"
  }
 },
 "nbformat": 4,
 "nbformat_minor": 5
}
